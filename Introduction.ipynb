{
  "cells": [
    {
      "cell_type": "markdown",
      "metadata": {
        "id": "view-in-github",
        "colab_type": "text"
      },
      "source": [
        "<a href=\"https://colab.research.google.com/github/jeurginocode/introductionupb202410/blob/main/Introduction.ipynb\" target=\"_parent\"><img src=\"https://colab.research.google.com/assets/colab-badge.svg\" alt=\"Open In Colab\"/></a>"
      ]
    },
    {
      "cell_type": "markdown",
      "metadata": {
        "id": "VZA-YfwKnBbc"
      },
      "source": [
        "# Introducción a Python\n",
        "## Fundamentos de Programación\n",
        "### Ingeniería Electrónica UPB Montería (202410)\n",
        "- **Docente:** *Miguel Ortiz*\n",
        "- __email:__ _miguel.ortizp@upb.edu.co_\n"
      ]
    },
    {
      "cell_type": "code",
      "execution_count": null,
      "metadata": {
        "id": "egjbI1I1msBR"
      },
      "outputs": [],
      "source": [
        "# Comentarios\n",
        "\n",
        "# Todo lo que aparezca después de un # se considera un comentario\n",
        "# Sirven para:\n",
        "# - Dar información (contexto)\n",
        "# - Ayuda futura / Documentar\n",
        "# - Hacer pruebas"
      ]
    },
    {
      "cell_type": "code",
      "execution_count": null,
      "metadata": {
        "id": "RI65-J3ZnmM1"
      },
      "outputs": [],
      "source": [
        "# Print\n",
        "\n",
        "print(\"Hello World!\")"
      ]
    },
    {
      "cell_type": "code",
      "execution_count": null,
      "metadata": {
        "id": "lH12QuatoC8Q"
      },
      "outputs": [],
      "source": [
        "# Variables String (Básico)\n",
        "\n",
        "name = \"Miguel\"\n",
        "lastname = \"Ortiz\"\n",
        "\n",
        "print(name, lastname)"
      ]
    },
    {
      "cell_type": "code",
      "execution_count": null,
      "metadata": {
        "id": "yWtEsxlioZpx"
      },
      "outputs": [],
      "source": [
        "# Type\n",
        "\n",
        "fullname = \"Miguel Ortiz\"\n",
        "print(type(fullname))"
      ]
    },
    {
      "cell_type": "code",
      "execution_count": null,
      "metadata": {
        "id": "BSNfzn5-osPm"
      },
      "outputs": [],
      "source": [
        "# Más variables\n",
        "\n",
        "n = 5\n",
        "r = 2.14\n",
        "soleado = True\n",
        "pet = \"Perro\"\n",
        "\n",
        "print(type(n))\n",
        "print(type(r))\n",
        "print(type(soleado))\n",
        "print(type(pet))"
      ]
    },
    {
      "cell_type": "code",
      "execution_count": null,
      "metadata": {
        "id": "_dxQ_8FAqewu"
      },
      "outputs": [],
      "source": [
        "a = 3\n",
        "b = -5\n",
        "c = a + b\n",
        "print(c)"
      ]
    },
    {
      "cell_type": "code",
      "execution_count": null,
      "metadata": {
        "id": "Eg40YRe1sDM-"
      },
      "outputs": [],
      "source": [
        "m = 3\n",
        "b = -2\n",
        "x = 5\n",
        "y = m *  x + b\n",
        "print(y)"
      ]
    },
    {
      "cell_type": "markdown",
      "source": [
        "## Markdown - Básico\n",
        "\n",
        "### Títulos\n",
        "\n",
        "Se colocan con `#`.\n",
        "\n",
        "### Estilo de letras\n",
        "\n",
        "Se colocan con `*` o `_` sencillos (para cursivas) o dobles (para negrita).\n",
        "\n",
        "### Code Snippet\n",
        "\n",
        "Utilizando el backtip (la tilde al revés):\n",
        "\n",
        "- La instrucción `print(name)` muestra el valor de la variable `name` en consola.\n",
        "\n",
        "Si es un bloque de código, se utilizan 3 backtip (al inicio y al final):\n",
        "\n",
        "```python\n",
        "a = 3\n",
        "b = 5\n",
        "c = a + b\n",
        "print(c)\n",
        "```\n",
        "\n",
        "### Salto de línea\n",
        "\n",
        "Utilice `<br>` o `\\` \\ <br/>\n",
        "Y 3 asteriscos (`***`) para la línea horizontal.\n",
        "\n",
        "***\n",
        "\n",
        "### Listas\n",
        "\n",
        "- Ordenadas: con números\n",
        "- Desordenadas: con `-` o `*`\n",
        "\n",
        "Ejemplo:\n",
        "- Leche\n",
        "- Huevo\n",
        "- Carnes\n",
        "  - Pescado\n",
        "  - Pollo\n",
        "\n",
        "1. Desconectar equipo\n",
        "2. Medir voltaje\n",
        "  1. En paralelo\n",
        "  2. En serie\n",
        "\n",
        "### Enlaces (links)\n",
        "\n",
        "Utilice `[texto](url)`\n",
        "\n",
        "[Ir a Google](https://www.google.com/)\n",
        "\n",
        "### LaTeX\n",
        "\n",
        "Utilice el signo `$`\n",
        "\n",
        "Ejemplo:\n",
        "\n",
        "La ecuación que relaciona el voltaje $V$ en una resistencia $R$ con su corriente $I$ se conoce como la Ley de Ohm:\n",
        "$$V =  RI$$"
      ],
      "metadata": {
        "id": "XuixBTQSvh3T"
      }
    },
    {
      "cell_type": "code",
      "execution_count": null,
      "metadata": {
        "id": "CJmomBKdvd9s"
      },
      "outputs": [],
      "source": [
        "# Continuación - Operaciones con números\n",
        "\n",
        "# Suma\n",
        "a = 3\n",
        "b = -4\n",
        "c = a + b\n",
        "print(a)\n",
        "\n",
        "# Resta\n",
        "d = 5\n",
        "e = 7\n",
        "f = d - e\n",
        "\n",
        "# Multiplicación\n",
        "a = b * c # reasignación de variables\n",
        "print(a)\n",
        "\n",
        "# División\n",
        "a = b / a\n",
        "print(a)\n",
        "\n",
        "# Módulo\n",
        "a = 6\n",
        "a = a % 2\n",
        "print(a)\n",
        "\n",
        "# Potencia\n",
        "a = 8\n",
        "print(a ** 2)\n",
        "print(a ** 3)\n",
        "print(a ** (1/2))\n",
        "print(a ** (1/3))"
      ]
    },
    {
      "cell_type": "code",
      "source": [
        "# Concatenar\n",
        "\n",
        "firstname = \"Miguel\"\n",
        "lastname = \"Ortiz\"\n",
        "fullname = lastname + \", \" + firstname\n",
        "print(fullname)"
      ],
      "metadata": {
        "id": "aCiXhFQz804k"
      },
      "execution_count": null,
      "outputs": []
    },
    {
      "cell_type": "code",
      "source": [
        "# +=\n",
        "\n",
        "a = 5\n",
        "a += 10\n",
        "print(a)\n",
        "a -= 8\n",
        "a *= 3\n",
        "a /= 2\n",
        "a **= 2\n",
        "print(a)"
      ],
      "metadata": {
        "id": "m2wFI7Wa-PFG"
      },
      "execution_count": null,
      "outputs": []
    },
    {
      "cell_type": "code",
      "source": [
        "# Multiline String\n",
        "\n",
        "my_text = \"\"\"\n",
        "Hola.\n",
        "Tal vez te preguntarás cómo llegué aquí.\n",
        "Bueno, esta es mi historia:\n",
        "blabla blabla\n",
        "\"\"\"\n",
        "\n",
        "print(my_text)"
      ],
      "metadata": {
        "id": "VNy0uw5P-2a7"
      },
      "execution_count": null,
      "outputs": []
    },
    {
      "cell_type": "markdown",
      "source": [
        "# Expresiones Booleanas\n",
        "Son aquellas que se evalúan como `True` o `False`.\n",
        "El computador no entiende las opiniones."
      ],
      "metadata": {
        "id": "3YqNeIBOIc_x"
      }
    },
    {
      "cell_type": "code",
      "source": [
        "# Expresiones Booleanas\n",
        "\n",
        "a = 3\n",
        "b = 5\n",
        "\n",
        "print(a == b)\n",
        "print(a != b)\n",
        "print(a > b)\n",
        "print(a < b)\n",
        "print(a >= b)\n",
        "print(a <= b)\n",
        "\n",
        "c = a == b\n",
        "print(c)"
      ],
      "metadata": {
        "id": "Rqi8Akoh_rQ5"
      },
      "execution_count": null,
      "outputs": []
    },
    {
      "cell_type": "markdown",
      "source": [
        "## Operadores Booleanos\n",
        "\n",
        "Se utilizan para realizar operaciones entre expresiones booleanas. Son `and`, `or`, y `not`."
      ],
      "metadata": {
        "id": "QImhtaWnJtPG"
      }
    },
    {
      "cell_type": "code",
      "source": [
        "# Operadores Booleanos\n",
        "\n",
        "a = 2\n",
        "b = 3\n",
        "# not\n",
        "d = not a == b\n",
        "c = not d\n",
        "print(d, c)\n",
        "\n",
        "# and\n",
        "e = d and not c\n",
        "print(d, c, e)\n",
        "\n",
        "# or\n",
        "e = d or c\n",
        "print(e)"
      ],
      "metadata": {
        "id": "jsucy72SIk6Y"
      },
      "execution_count": null,
      "outputs": []
    },
    {
      "cell_type": "markdown",
      "source": [
        "## Inputs\n",
        "\n",
        "Son las entradas de usuario por consola."
      ],
      "metadata": {
        "id": "3dmMuAzVPLxH"
      }
    },
    {
      "cell_type": "code",
      "source": [
        "firstname = input(\"Nombre: \")\n",
        "lastname = input(\"Apellido: \")\n",
        "fullname = firstname + ' ' + lastname\n",
        "print(\"Hola,\", fullname, \"¡Bienvenido a Python!\")"
      ],
      "metadata": {
        "id": "CY9XnwbHI3p1"
      },
      "execution_count": null,
      "outputs": []
    },
    {
      "cell_type": "markdown",
      "source": [
        "## Ejercicios\n",
        "\n",
        "1. Personal Information (Gaddis):\n",
        "> Design a program that displays the following information:\n",
        "> - Your name\n",
        "> - Your address, with city, state, and ZIP\n",
        "> - Your telephone number\n",
        "> - Your college major\n",
        "\n",
        "```\n",
        "Program personal_info_request\n",
        "// Programa para solicitar información personal\n",
        "Start\n",
        "\tDeclare String name, address, city, state, zip, college_major\n",
        "\tDeclare Integer phone_number\n",
        "\tDisplay \"Ingrese su nombre:\"\n",
        "\tInput name\n",
        "\tDisplay \"Ingrese su dirección: \"\n",
        "\tInput address\n",
        "\tDisplay \"Ingrese su ciudad: \"\n",
        "\tInput city\n",
        "\t...\n",
        "\tDisplay name, address, city, state, zip, college_major, phone_number\n",
        "Stop\n",
        "```"
      ],
      "metadata": {
        "id": "B9uqVAxbTT2y"
      }
    },
    {
      "cell_type": "code",
      "source": [
        "# name = \"Mikheltodd\"\n",
        "# address = \"Avenida Siempre Viva\"\n",
        "# city = \"Montería\"\n",
        "# state = \"Colombia\"\n",
        "# zip = \"230001\"\n",
        "# phone_number = \"1234555riente\"\n",
        "# college_major = \"Ingeniero de Memes\"\n",
        "\n",
        "name = input(\"Ingrese su nombre: \")\n",
        "address = input(\"Ingrese su dirección: \")\n",
        "city = input(\"Ingrese su ciudad: \")\n",
        "state = input(\"Ingrese su estado/país: \")\n",
        "zip = input(\"Ingrese su código ZIP: \")\n",
        "phone_number = input(\"Ingrese su número de teléfono: \")\n",
        "college_major = input(\"Ingrese su título universitario: \")\n",
        "\n",
        "i = 5\n",
        "message = f\"\"\"\n",
        "Datos del Usuario No. {str(i)}\n",
        "Esto es cierto? {True}\n",
        "Nombre: {name + address}\n",
        "Dirección: {address}\n",
        "Ciudad: {city}\n",
        "Estado: {state}\n",
        "Código ZIP: {zip}\n",
        "Número de Teléfono: {phone_number}\n",
        "Título Universitario: {college_major}\n",
        "\"\"\"\n",
        "\n",
        "print(message)"
      ],
      "metadata": {
        "id": "uIdUWha4Pqa6"
      },
      "execution_count": null,
      "outputs": []
    },
    {
      "cell_type": "code",
      "source": [
        "# Suma de dos números\n",
        "\n",
        "# a = float(input(\"Ingrese el primer número: \"))\n",
        "# b = float(input(\"Ingrese el segundo número: \"))\n",
        "\n",
        "a = int(input(\"Ingrese el primer número: \"))\n",
        "b = int(input(\"Ingrese el segundo número: \"))\n",
        "c = a + b\n",
        "print(f\"La suma de {a} y {b} es {c}.\")"
      ],
      "metadata": {
        "id": "iHsSYjJ4Rguv"
      },
      "execution_count": null,
      "outputs": []
    },
    {
      "cell_type": "code",
      "source": [
        "# Sales Prediction\n",
        "# A company has determined that its annual profit is typically 23 percent of total\n",
        "# sales. Design a program that asks the user to enter the projected amount of total\n",
        "# sales, and then displays the profit that will be made from that amount.\n",
        "# Hint: Use the value 0.23 to represent 23 percent.\n",
        "\n",
        "# Program Sales_Prediction\n",
        "# // Programa para la calcular las ganancias totales a partir de las ventas\n",
        "# Start\n",
        "\n",
        "# \tDeclare Real sales, profit\n",
        "# \tConstant Real margin = 0.23\n",
        "\n",
        "# \tDisplay \"Ingresa el monto total de las ventas: \"\n",
        "# \tInput sales\n",
        "\n",
        "# \tSet profit = sales * margin\n",
        "\n",
        "# \tDisplay \"Las utilidades fueron de \", profit\n",
        "\n",
        "# Stop\n",
        "\n",
        "margin = 0.23\n",
        "sales = float(input(\"Ingresa el monto total de las ventas: \"))\n",
        "profit = sales * margin\n",
        "print(f\"Las utilidades fueron de {profit}\")"
      ],
      "metadata": {
        "id": "sEEDryw2XnBc"
      },
      "execution_count": null,
      "outputs": []
    },
    {
      "cell_type": "code",
      "source": [
        "# Land Calculation\n",
        "# One acre of land is equivalent to 43,560 square feet. Design a program that asks\n",
        "# the user to enter the total square feet in a tract of land and calculates the number\n",
        "# of acres in the tract.\n",
        "\n",
        "# Program land_calculation\n",
        "# // Program for calculating the total acres in a tract of land given the area in square feet\n",
        "\n",
        "# Start\n",
        "\n",
        "# \tDeclare Real square_feet, total\n",
        "# \tConstant Real TOTAL_ACRE = 43560\n",
        "\n",
        "# \tDisplay \"Insert the total number of square feet in the tract: \"\n",
        "# \tInput square_feet\n",
        "\n",
        "# \tSet total = square_feet / TOTAL_ACRE\n",
        "\n",
        "# \tDisplay \"The total number of acres in the tract is: \", total\n",
        "\n",
        "# Stop\n",
        "\n",
        "\n",
        "#TOTAL_ACRE = 43500\n",
        "square_feet = float(input(\"Insert the total number of square feet in the tract: \"))\n",
        "#total =  square_feet / TOTAL_ACRE\n",
        "print(f\"The total number of acres in the tract is {square_feet / 43500: .2f}.\")"
      ],
      "metadata": {
        "id": "y6znLZxKaPSb"
      },
      "execution_count": null,
      "outputs": []
    },
    {
      "cell_type": "code",
      "source": [
        "# Total Purchase\n",
        "# A customer in a store is purchasing five items. Design a program that asks for the\n",
        "# price of each item, and then displays the subtotal of the sale, the amount of sales\n",
        "# tax, and the total. Assume the sales tax is 6 percent.\n",
        "\n",
        "# Program Total_Purchase\n",
        "# // programa  para calcular precios\n",
        "\n",
        "# Start\n",
        "\n",
        "# \tDeclare Real item_price, sales_tax, amount\n",
        "# \tDeclare Real subtotal = 0\n",
        "# \tConstant Real TAX = 0.06\n",
        "\n",
        "# \tFor counter = 1 To 5:\n",
        "# \t\tInput item_price\n",
        "# \t\tSet subtotal = subtotal + item_price\n",
        "# \tEnd For\n",
        "\n",
        "# \tSet sales_tax = subtotal * TAX\n",
        "# \tSet amount = subtotal + sales_tax\n",
        "\n",
        "# \tDisplay subtotal, sales_tax, amount\n",
        "\n",
        "# Stop\n",
        "\n",
        "TAX = 6 / 100\n",
        "item_1 = float(input(\"Ingrese el valor del ítem 1: $\"))\n",
        "item_2 = float(input(\"Ingrese el valor del ítem 2: $\"))\n",
        "item_3 = float(input(\"Ingrese el valor del ítem 3: $\"))\n",
        "item_4 = float(input(\"Ingrese el valor del ítem 4: $\"))\n",
        "item_5 = float(input(\"Ingrese el valor del ítem 5: $\"))\n",
        "subtotal = item_1 + item_2 + item_3 + item_4 + item_5\n",
        "sales_tax = subtotal * TAX\n",
        "amount = subtotal + sales_tax\n",
        "print(\"-\" * 25)\n",
        "print(f\"Subtotal: ${subtotal}\\nSales Tax: ${sales_tax}\\nTotal: ${amount}\")\n",
        "print(\"-\" * 25)"
      ],
      "metadata": {
        "id": "Gu3xTUJmns2t"
      },
      "execution_count": null,
      "outputs": []
    },
    {
      "cell_type": "code",
      "source": [
        "# Distance Traveled\n",
        "# Assuming there are no accidents or delays, the distance that a car travels down the\n",
        "# interstate can be calculated with the following formula:\n",
        "# Distance = Speed × Time\n",
        "# A car is traveling at 60 miles per hour. Design a program that displays the following:\n",
        "# ● The distance the car will travel in 5 hours\n",
        "# ● The distance the car will travel in 8 hours\n",
        "# ● The distance the car will travel in 12 hours\n",
        "\n",
        "# Program distance_traveled\n",
        "# // Programa para calcular la distancia recorrida por un vehículo dado el tiempo de viaje\n",
        "\n",
        "# Start\n",
        "\n",
        "# \t// Declaración de variables\n",
        "# \tDeclare Real distance_1, distance_2, distance_3\n",
        "\n",
        "# \t// Declaracion de constantes\n",
        "# \tConstant Real SPEED = 60 // velocidad en millas por hora\n",
        "# \tConstant Real TIME_1 = 5 // duración 1 en horas\n",
        "# \tConstant Real TIME_2 = 8 // duración 2 en horas\n",
        "# \tConstant Real TIME_3 = 12 // duración 3 en horas\n",
        "\n",
        "# \t// Proceso\n",
        "# \tSet distance_1 = TIME_1 * SPEED\n",
        "# \tSet distance_2 = TIME_2 * SPEED\n",
        "# \tSet distance_3 = TIME_3 * SPEED\n",
        "\n",
        "# \tDisplay distance_1, distance_2, distance_3\n",
        "\n",
        "# Stop\n",
        "\n",
        "SPEED = 60\n",
        "TIME_1 = 5\n",
        "TIME_2 = 8\n",
        "TIME_3 = 12\n",
        "distance_1 = TIME_1 * SPEED\n",
        "distance_2 = TIME_2 * SPEED\n",
        "distance_3 = TIME_3 * SPEED\n",
        "print(f\"Las distancias recorridas a {SPEED} millas/hora son:\")\n",
        "print(f\"- {distance_1} millas en {TIME_1} horas.\")\n",
        "print(f\"- {distance_2} millas en {TIME_2} horas.\")\n",
        "print(f\"- {distance_3} millas en {TIME_3} horas.\")\n",
        "\n",
        "print(\"Va pa' esa\")\n",
        "print('Va pa\\' esa')\n",
        "print(\"El profe dijo que eso estaba \\t\\\"fácil\\\"\")"
      ],
      "metadata": {
        "id": "2_WWnsraqXF6"
      },
      "execution_count": null,
      "outputs": []
    },
    {
      "cell_type": "code",
      "source": [
        "# Sales Tax\n",
        "# Design a program that will ask the user to enter the amount of a purchase. The\n",
        "# program should then compute the state and county sales tax. Assume the state\n",
        "# sales tax is 4 percent and the county sales tax is 2 percent. The program should display\n",
        "# the amount of the purchase, the state sales tax, the county sales tax, the total\n",
        "# sales tax, and the total of the sale (which is the sum of the amount of purchase plus\n",
        "# the total sales tax).\n",
        "# Hint: Use the value 0.02 to represent 2 percent, and 0.04 to represent 4 percent.\n",
        "\n",
        "# Program sales_tax\n",
        "# Start\n",
        "#   Declare Real purchase, state_sales_tax, county_sales_tax, total_sales_tax, total_sale\n",
        "#   Constant Real STATE_TAX = 0.04\n",
        "#   Constant Real COUNTY_TAX = 0.02\n",
        "\n",
        "#   Input purchase\n",
        "#   Set state_sales_tax = purchase  * STATE_TAX\n",
        "#   Set county_sales_tax = purchase  * COUNTY_TAX\n",
        "#   Set total_sales_tax = state_sales_tax + county_sales_tax\n",
        "#   Set total_sale = purchase + total_sales_tax\n",
        "#   Display purchase, state_sales_tax, county_sales_tax, total_sales_tax, total_sale\n",
        "# Stop\n",
        "\n",
        "\n",
        "STATE_TAX = 0.04\n",
        "COUNTY_TAX = 0.02\n",
        "purchase = float(input(\"Ingrese el valor de las compras: $\"))\n",
        "state_sales_tax = purchase  * STATE_TAX\n",
        "county_sales_tax = purchase  * COUNTY_TAX\n",
        "total_sales_tax = state_sales_tax + county_sales_tax\n",
        "total_sale = purchase + total_sales_tax\n",
        "print(\"-\" * 20)\n",
        "print(f\"Total Compra: ${purchase}\\nImpuestos de Estado: ${state_sales_tax}\\nImpuesto de Condado: ${county_sales_tax}\\nTotal Impuestos: ${total_sales_tax}\\nVenta Total: ${total_sale}\")\n",
        "print(\"-\" * 20)"
      ],
      "metadata": {
        "id": "321BCi4SrjlF"
      },
      "execution_count": null,
      "outputs": []
    },
    {
      "cell_type": "code",
      "source": [
        "if kmoilmn lijmnoil"
      ],
      "metadata": {
        "id": "oSEV3Wm8JE-m"
      },
      "execution_count": null,
      "outputs": []
    }
  ],
  "metadata": {
    "colab": {
      "private_outputs": true,
      "provenance": [],
      "include_colab_link": true
    },
    "kernelspec": {
      "display_name": "Python 3 (ipykernel)",
      "language": "python",
      "name": "python3"
    },
    "language_info": {
      "codemirror_mode": {
        "name": "ipython",
        "version": 3
      },
      "file_extension": ".py",
      "mimetype": "text/x-python",
      "name": "python",
      "nbconvert_exporter": "python",
      "pygments_lexer": "ipython3",
      "version": "3.12.1"
    }
  },
  "nbformat": 4,
  "nbformat_minor": 0
}