{
  "cells": [
    {
      "cell_type": "markdown",
      "metadata": {
        "id": "view-in-github",
        "colab_type": "text"
      },
      "source": [
        "<a href=\"https://colab.research.google.com/github/jeurginocode/introductionupb202410/blob/main/Introduction.ipynb\" target=\"_parent\"><img src=\"https://colab.research.google.com/assets/colab-badge.svg\" alt=\"Open In Colab\"/></a>"
      ]
    },
    {
      "cell_type": "markdown",
      "metadata": {
        "id": "VZA-YfwKnBbc"
      },
      "source": [
        "# Introducción a Python\n",
        "## Fundamentos de Programación\n",
        "### Ingeniería Electrónica UPB Montería (202410)\n",
        "- **Docente:** *Miguel Ortiz*\n",
        "- __email:__ _miguel.ortizp@upb.edu.co_\n"
      ]
    },
    {
      "cell_type": "code",
      "execution_count": null,
      "metadata": {
        "id": "egjbI1I1msBR"
      },
      "outputs": [],
      "source": [
        "# Comentarios\n",
        "\n",
        "# Todo lo que aparezca después de un # se considera un comentario\n",
        "# Sirven para:\n",
        "# - Dar información (contexto)\n",
        "# - Ayuda futura / Documentar\n",
        "# - Hacer pruebas"
      ]
    },
    {
      "cell_type": "code",
      "execution_count": null,
      "metadata": {
        "id": "RI65-J3ZnmM1"
      },
      "outputs": [],
      "source": [
        "# Print\n",
        "\n",
        "print(\"Hello World!\")"
      ]
    },
    {
      "cell_type": "code",
      "execution_count": null,
      "metadata": {
        "id": "lH12QuatoC8Q"
      },
      "outputs": [],
      "source": [
        "# Variables String (Básico)\n",
        "\n",
        "name = \"Miguel\"\n",
        "lastname = \"Ortiz\"\n",
        "\n",
        "print(name, lastname)"
      ]
    },
    {
      "cell_type": "code",
      "execution_count": null,
      "metadata": {
        "id": "yWtEsxlioZpx"
      },
      "outputs": [],
      "source": [
        "# Type\n",
        "\n",
        "fullname = \"Miguel Ortiz\"\n",
        "print(type(fullname))"
      ]
    },
    {
      "cell_type": "code",
      "execution_count": null,
      "metadata": {
        "id": "BSNfzn5-osPm"
      },
      "outputs": [],
      "source": [
        "# Más variables\n",
        "\n",
        "n = 5\n",
        "r = 2.14\n",
        "soleado = True\n",
        "pet = \"Perro\"\n",
        "\n",
        "print(type(n))\n",
        "print(type(r))\n",
        "print(type(soleado))\n",
        "print(type(pet))"
      ]
    },
    {
      "cell_type": "code",
      "execution_count": null,
      "metadata": {
        "id": "_dxQ_8FAqewu"
      },
      "outputs": [],
      "source": [
        "a = 3\n",
        "b = -5\n",
        "c = a + b\n",
        "print(c)"
      ]
    },
    {
      "cell_type": "code",
      "execution_count": null,
      "metadata": {
        "id": "Eg40YRe1sDM-"
      },
      "outputs": [],
      "source": [
        "m = 3\n",
        "b = -2\n",
        "x = 5\n",
        "y = m *  x + b\n",
        "print(y)"
      ]
    },
    {
      "cell_type": "markdown",
      "source": [
        "## Markdown - Básico\n",
        "\n",
        "### Títulos\n",
        "\n",
        "Se colocan con `#`.\n",
        "\n",
        "### Estilo de letras\n",
        "\n",
        "Se colocan con `*` o `_` sencillos (para cursivas) o dobles (para negrita).\n",
        "\n",
        "### Code Snippet\n",
        "\n",
        "Utilizando el backtip (la tilde al revés):\n",
        "\n",
        "- La instrucción `print(name)` muestra el valor de la variable `name` en consola.\n",
        "\n",
        "Si es un bloque de código, se utilizan 3 backtip (al inicio y al final):\n",
        "\n",
        "```python\n",
        "a = 3\n",
        "b = 5\n",
        "c = a + b\n",
        "print(c)\n",
        "```\n",
        "\n",
        "### Salto de línea\n",
        "\n",
        "Utilice `<br>` o `\\` \\ <br/>\n",
        "Y 3 asteriscos (`***`) para la línea horizontal.\n",
        "\n",
        "***\n",
        "\n",
        "### Listas\n",
        "\n",
        "- Ordenadas: con números\n",
        "- Desordenadas: con `-` o `*`\n",
        "\n",
        "Ejemplo:\n",
        "- Leche\n",
        "- Huevo\n",
        "- Carnes\n",
        "  - Pescado\n",
        "  - Pollo\n",
        "\n",
        "1. Desconectar equipo\n",
        "2. Medir voltaje\n",
        "  1. En paralelo\n",
        "  2. En serie\n",
        "\n",
        "### Enlaces (links)\n",
        "\n",
        "Utilice `[texto](url)`\n",
        "\n",
        "[Ir a Google](https://www.google.com/)\n",
        "\n",
        "### LaTeX\n",
        "\n",
        "Utilice el signo `$`\n",
        "\n",
        "Ejemplo:\n",
        "\n",
        "La ecuación que relaciona el voltaje $V$ en una resistencia $R$ con su corriente $I$ se conoce como la Ley de Ohm:\n",
        "$$V =  RI$$"
      ],
      "metadata": {
        "id": "XuixBTQSvh3T"
      }
    },
    {
      "cell_type": "code",
      "execution_count": null,
      "metadata": {
        "id": "CJmomBKdvd9s"
      },
      "outputs": [],
      "source": [
        "# Continuación - Operaciones con números\n",
        "\n",
        "# Suma\n",
        "a = 3\n",
        "b = -4\n",
        "c = a + b\n",
        "print(a)\n",
        "\n",
        "# Resta\n",
        "d = 5\n",
        "e = 7\n",
        "f = d - e\n",
        "\n",
        "# Multiplicación\n",
        "a = b * c # reasignación de variables\n",
        "print(a)\n",
        "\n",
        "# División\n",
        "a = b / a\n",
        "print(a)\n",
        "\n",
        "# Módulo\n",
        "a = 6\n",
        "a = a % 2\n",
        "print(a)\n",
        "\n",
        "# Potencia\n",
        "a = 8\n",
        "print(a ** 2)\n",
        "print(a ** 3)\n",
        "print(a ** (1/2))\n",
        "print(a ** (1/3))"
      ]
    },
    {
      "cell_type": "code",
      "source": [
        "# Concatenar\n",
        "\n",
        "firstname = \"Miguel\"\n",
        "lastname = \"Ortiz\"\n",
        "fullname = lastname + \", \" + firstname\n",
        "print(fullname)"
      ],
      "metadata": {
        "id": "aCiXhFQz804k"
      },
      "execution_count": null,
      "outputs": []
    },
    {
      "cell_type": "code",
      "source": [
        "# +=\n",
        "\n",
        "a = 5\n",
        "a += 10\n",
        "print(a)\n",
        "a -= 8\n",
        "a *= 3\n",
        "a /= 2\n",
        "a **= 2\n",
        "print(a)"
      ],
      "metadata": {
        "id": "m2wFI7Wa-PFG"
      },
      "execution_count": null,
      "outputs": []
    },
    {
      "cell_type": "code",
      "source": [
        "# Multiline String\n",
        "\n",
        "my_text = \"\"\"\n",
        "Hola.\n",
        "Tal vez te preguntarás cómo llegué aquí.\n",
        "Bueno, esta es mi historia:\n",
        "blabla blabla\n",
        "\"\"\"\n",
        "\n",
        "print(my_text)"
      ],
      "metadata": {
        "id": "VNy0uw5P-2a7"
      },
      "execution_count": null,
      "outputs": []
    },
    {
      "cell_type": "code",
      "source": [
        "#operadores boleanas\n",
        "a=2\n",
        "b=3\n",
        "# not\n",
        "d= a == d\n",
        "c = not d\n",
        "\n",
        "print(d,c)\n",
        "\n",
        "\n",
        " #and\n",
        " e= d and not C\n",
        " print(d, c ,e)\n"
      ],
      "metadata": {
        "id": "Rqi8Akoh_rQ5"
      },
      "execution_count": null,
      "outputs": []
    },
    {
      "cell_type": "code",
      "source": [
        "firstname=input(\"name\")\n",
        "lastname= input(\"apelllido\")\n",
        "name= firstname +\" \" + lastname\n",
        "print (name)"
      ],
      "metadata": {
        "id": "58uKpIQXPZKl"
      },
      "execution_count": null,
      "outputs": []
    }
  ],
  "metadata": {
    "colab": {
      "private_outputs": true,
      "provenance": [],
      "include_colab_link": true
    },
    "kernelspec": {
      "display_name": "Python 3 (ipykernel)",
      "language": "python",
      "name": "python3"
    },
    "language_info": {
      "codemirror_mode": {
        "name": "ipython",
        "version": 3
      },
      "file_extension": ".py",
      "mimetype": "text/x-python",
      "name": "python",
      "nbconvert_exporter": "python",
      "pygments_lexer": "ipython3",
      "version": "3.12.1"
    }
  },
  "nbformat": 4,
  "nbformat_minor": 0
}