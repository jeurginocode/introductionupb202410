{
  "nbformat": 4,
  "nbformat_minor": 0,
  "metadata": {
    "colab": {
      "provenance": [],
      "authorship_tag": "ABX9TyN5a4A2Ag+DZtQBk0DItQlD",
      "include_colab_link": true
    },
    "kernelspec": {
      "name": "python3",
      "display_name": "Python 3"
    },
    "language_info": {
      "name": "python"
    }
  },
  "cells": [
    {
      "cell_type": "markdown",
      "metadata": {
        "id": "view-in-github",
        "colab_type": "text"
      },
      "source": [
        "<a href=\"https://colab.research.google.com/github/jeurginocode/introductionupb202410/blob/main/Funciones_y_Modulos.ipynb\" target=\"_parent\"><img src=\"https://colab.research.google.com/assets/colab-badge.svg\" alt=\"Open In Colab\"/></a>"
      ]
    },
    {
      "cell_type": "markdown",
      "source": [
        "##modulos\n",
        "se refiere cuando se quire hacer solamente una tariea en especifica como solamente sumar, restar.  "
      ],
      "metadata": {
        "id": "6Ap7CYYU-tFh"
      }
    },
    {
      "cell_type": "markdown",
      "source": [
        "##funciones\n",
        ":se refiere a una serie de intrucciones guarda <br>\n",
        "* La tarea general que debe realizar el programa se divide en una\n",
        "serie de subtareas.\n",
        "*   Se examina cada una de las subtareas para determinar si se puede\n",
        "además se divide en más subtareas. Este paso se repite hasta que no se puedan identificar más subtareas.\n",
        "\n",
        "**PSUDOCODIGO:**\n",
        "\n",
        "```\n",
        "Function DataType FunctionName(ParameterList)\n",
        "  statement\n",
        "  statement\n",
        "  …\n",
        "  Return value\n",
        "End Function\n",
        "---\n",
        "Function Integer sum(Integer num_1, Integer num_2)\n",
        "Declare Integer result\n",
        "Set result = num_1 + num_2\n",
        "Return result\n",
        "End Function\n",
        "```\n",
        "\n",
        "**CODIGO**\n",
        "* Definiendo fuciones\n",
        "```\n",
        "def say_hello():\n",
        "    print(\"Hola :)\"\n",
        "\n",
        "  def function_name (parameters):    \n",
        "  #Encabezado de función # Acciones\n",
        "```\n",
        "\n",
        "*   Llamando Funciones\n",
        "\n",
        "\n",
        "\n"
      ],
      "metadata": {
        "id": "85C1lF1tvwyj"
      }
    },
    {
      "cell_type": "markdown",
      "source": [
        "#ejemplos\n",
        "\n"
      ],
      "metadata": {
        "id": "4waFuMJv_C-B"
      }
    },
    {
      "cell_type": "code",
      "execution_count": 1,
      "metadata": {
        "id": "o4RlWvlavv79"
      },
      "outputs": [],
      "source": [
        "# PSEUDOCODIGO\n",
        "# Program calcular_hipotenusa\n",
        "# Start\n",
        "#   Module main()\n",
        "#     Declare Real a, b, h\n",
        "#     Set h = hipotenusa(a, b)\n",
        "#   End Module\n",
        "#   Display h\n",
        "#   Function Real hipotenusa (Real a, Real b)\n",
        "#     Declare Real h\n",
        "#     Seth = (a^2+b^2)^(1/2)\n",
        "#     Return h\n",
        "#   End Function\n",
        "# Stop\n",
        "\n",
        "\n"
      ]
    },
    {
      "cell_type": "code",
      "source": [
        "Program calcular hipotenusa\n",
        "Start\n",
        "  Module main()\n",
        "    Declare Real a, b, h\n",
        "    Seth hipotenusa(a, b)\n",
        "    Display h\n",
        "  End Module\n",
        "\n",
        "  Function Real hipotenusa (Real a, Real b)\n",
        "    Declare Real h\n",
        "    Seth (a^2+b^2)^(1/2)\n",
        "    Return h\n",
        "  End Function\n",
        "Stop"
      ],
      "metadata": {
        "id": "ZhEJevaOn9g9",
        "outputId": "2344db71-e245-4521-e642-dbb1f5b79cac",
        "colab": {
          "base_uri": "https://localhost:8080/",
          "height": 106
        }
      },
      "execution_count": 2,
      "outputs": [
        {
          "output_type": "error",
          "ename": "SyntaxError",
          "evalue": "invalid syntax (<ipython-input-2-4ee2c28233f2>, line 1)",
          "traceback": [
            "\u001b[0;36m  File \u001b[0;32m\"<ipython-input-2-4ee2c28233f2>\"\u001b[0;36m, line \u001b[0;32m1\u001b[0m\n\u001b[0;31m    Program calcular hipotenusa\u001b[0m\n\u001b[0m            ^\u001b[0m\n\u001b[0;31mSyntaxError\u001b[0m\u001b[0;31m:\u001b[0m invalid syntax\n"
          ]
        }
      ]
    },
    {
      "cell_type": "markdown",
      "source": [],
      "metadata": {
        "id": "hDCgJV9g5Er6"
      }
    },
    {
      "cell_type": "code",
      "source": [
        "# program promedio_dedosnumeros\n",
        "\n",
        "# start\n",
        "# \tModule main()\n",
        "# \t\tDeclare Real a,b\n",
        "# \t\tser h= prom(a,b)\n",
        "# \t\tDisplay h\n",
        "# \tEnd Module\n",
        "\n",
        "# \tFuntion Real prom(real a, real b)\n",
        "# \t\tDeclare Real h\n",
        "# \t\tSet h=(a+b)/2\n",
        "# \t\tReturn h\n",
        "# \tEnd Funtion\n",
        "\n",
        "\n"
      ],
      "metadata": {
        "id": "R9fi1ARavwbs"
      },
      "execution_count": null,
      "outputs": []
    },
    {
      "cell_type": "code",
      "execution_count": null,
      "metadata": {
        "id": "pNF8PO_C09A4"
      },
      "outputs": [],
      "source": [
        "def hipotenusa(a, b):\n",
        "  return ( a ** 2 + b ** 2 ) ** (1 / 2)\n",
        "\n",
        "a = 3\n",
        "b = 4\n",
        "\n",
        "print(hipotenusa(a, b))"
      ]
    },
    {
      "cell_type": "code",
      "source": [
        "student_1 = {\"name\": \"Homero\", \"edad\": 15, \"genero\": \"M\", \"promedio\": 2.5}\n",
        "student_2 = {\"name\": \"Lisa\", \"edad\": 14, \"genero\": \"F\", \"promedio\": 4.8}\n",
        "student_3 = {\"name\": \"Bart\", \"edad\":14, \"genero\": \"M\", \"promedio\": 2.9}\n",
        "\n",
        "students = [student_1, student_2, student_3]\n",
        "\n",
        "#print(students)\n",
        "\n",
        "#Imprimir lista de estudiantes\n",
        "\n",
        "for student in students:\n",
        "  print(student[\"name\"])\n",
        "\n",
        "#Promedio de edades\n",
        "edad_prom = 0\n",
        "if len(students) > 0:\n",
        "  for student in students:\n",
        "    edad_prom += student[\"edad\"]\n",
        "  edad_prom /= len(students)\n",
        "  print(f\"Edad promedio: {edad_prom:.2f}\")\n",
        "else:\n",
        "  print(\"No hay estudiantes en la lista.\")\n",
        "\n",
        "#Promedio de notas\n",
        "nota_prom = 0\n",
        "if len(students) > 0:\n",
        "  for student in students:\n",
        "    nota_prom += student[\"promedio\"]\n",
        "  nota_prom /= len(students)\n",
        "  print(f\"Nota promedio: {nota_prom:.2f}\")\n",
        "else:\n",
        "  print(\"No hay estudiantes en la lista.\")"
      ],
      "metadata": {
        "id": "lp97-wK71Xl4"
      },
      "execution_count": null,
      "outputs": []
    },
    {
      "cell_type": "code",
      "source": [
        "registro_1 = {\"datetime\": \"2024-04-03 13:07\" ,\"humedad\": 0.20, \"nivel\": 10}"
      ],
      "metadata": {
        "id": "T6EsZrWuFyXC"
      },
      "execution_count": null,
      "outputs": []
    },
    {
      "cell_type": "code",
      "source": [
        "frase = \"A la grande le puse Pucca\"\n",
        "nombre = \"pucca\"\n",
        "\n",
        "def validar_nombre_en_frase(frase, nombre):\n",
        "    if nombre.lower() in frase.lower():\n",
        "        print(\"El nombre sí está en la frase\")\n",
        "    else:\n",
        "        print(\"El nombre no está en la frase\")\n",
        "\n",
        "validar_nombre_en_frase(frase, nombre)\n",
        "\n",
        "frase = \"Mi nombre es Bond. James Bond\"\n",
        "nombre = \"Clark\"\n",
        "\n",
        "validar_nombre_en_frase(frase, nombre)"
      ],
      "metadata": {
        "id": "AmzbMmSeJRVU",
        "outputId": "1bef041d-0b40-4323-eda4-6721237989e4",
        "colab": {
          "base_uri": "https://localhost:8080/"
        }
      },
      "execution_count": 3,
      "outputs": [
        {
          "output_type": "stream",
          "name": "stdout",
          "text": [
            "El nombre sí está en la frase\n",
            "El nombre no está en la frase\n"
          ]
        }
      ]
    },
    {
      "cell_type": "code",
      "source": [
        "def letras_intercaladas(word):\n",
        "    new_word = \"\"\n",
        "    for i in range(0, len(word), 2):\n",
        "        new_word += word[i]\n",
        "    return new_word\n",
        "\n",
        "word = \"Miguelangelo\"\n",
        "new_word = letras_intercaladas(word)\n",
        "print(new_word)"
      ],
      "metadata": {
        "id": "FFmKyFhpQKYO",
        "outputId": "e5b4fc08-8112-4da9-c7c0-221331206b8b",
        "colab": {
          "base_uri": "https://localhost:8080/"
        }
      },
      "execution_count": 4,
      "outputs": [
        {
          "output_type": "stream",
          "name": "stdout",
          "text": [
            "Mgeagl\n"
          ]
        }
      ]
    },
    {
      "cell_type": "code",
      "source": [
        "def invertir_palabra(word):\n",
        "    new_word = \"\"\n",
        "    for i in range(len(word)-1, -1, -1):\n",
        "        new_word += word[i]\n",
        "    return new_word\n",
        "\n",
        "new_word = invertir_palabra(\"Inmarcesible\")\n",
        "print(new_word)"
      ],
      "metadata": {
        "id": "rd-0_bgIQVic",
        "outputId": "30282fe2-afb0-4455-a2a9-d6640b30f163",
        "colab": {
          "base_uri": "https://localhost:8080/"
        }
      },
      "execution_count": 5,
      "outputs": [
        {
          "output_type": "stream",
          "name": "stdout",
          "text": [
            "elbisecramnI\n"
          ]
        }
      ]
    },
    {
      "cell_type": "code",
      "source": [
        "def invertir_palabra(word):\n",
        "    return word[::-1]\n",
        "\n",
        "new_word = invertir_palabra(\"Salchipapa\")\n",
        "print(new_word)"
      ],
      "metadata": {
        "id": "oZNYNC86QV6F",
        "outputId": "b23602a6-06e0-44dc-908c-5641eb7f58ad",
        "colab": {
          "base_uri": "https://localhost:8080/"
        }
      },
      "execution_count": 6,
      "outputs": [
        {
          "output_type": "stream",
          "name": "stdout",
          "text": [
            "apapihclaS\n"
          ]
        }
      ]
    },
    {
      "cell_type": "code",
      "source": [
        "def es_palindrome(frase):\n",
        "    x = \"\".join(frase.split()).lower()\n",
        "    if x == x[::-1]:\n",
        "        print(\"La frase es palíndrome.\")\n",
        "    else:\n",
        "        print(\"La frase NO es palíndrome.\")\n",
        "\n",
        "es_palindrome(\"amo la paloma\")\n",
        "es_palindrome(\"anita lava la tina\")\n",
        "es_palindrome(\"Dabale arroz a la zorra el abad\")\n",
        "es_palindrome(\"Rayos\")"
      ],
      "metadata": {
        "id": "1nHDkgj2QZPh",
        "outputId": "a5b46606-4637-4cf2-c88e-019e3c1795cd",
        "colab": {
          "base_uri": "https://localhost:8080/"
        }
      },
      "execution_count": 7,
      "outputs": [
        {
          "output_type": "stream",
          "name": "stdout",
          "text": [
            "La frase es palíndrome.\n",
            "La frase es palíndrome.\n",
            "La frase es palíndrome.\n",
            "La frase NO es palíndrome.\n"
          ]
        }
      ]
    },
    {
      "cell_type": "markdown",
      "source": [
        "#diccionarios\n",
        "\n"
      ],
      "metadata": {
        "id": "ii63TAdZDnCy"
      }
    },
    {
      "cell_type": "markdown",
      "source": [
        "##**se define como:**\n",
        "* Conjunto desordenado de parejas llave:valor (key:value)\n",
        "* Forma rápida de mapear datos relacionados.\n",
        "\n",
        "\n",
        "\n"
      ],
      "metadata": {
        "id": "AzHwrKVAEDxs"
      }
    },
    {
      "cell_type": "code",
      "source": [
        "menu = {\"Cabeza de gato\": 1000, \"Yuca\": 800, \"Huevo Cocido\": 700}\n",
        "print(menu)\n",
        "{'Cabeza de gato': 1000, 'Yuca': 800, 'Huevo Cocido': 700}"
      ],
      "metadata": {
        "id": "dCgGJJWTHyZk",
        "outputId": "24bee0bc-ffbb-4f2a-bf47-494954fc1893",
        "colab": {
          "base_uri": "https://localhost:8080/"
        }
      },
      "execution_count": 8,
      "outputs": [
        {
          "output_type": "stream",
          "name": "stdout",
          "text": [
            "{'Cabeza de gato': 1000, 'Yuca': 800, 'Huevo Cocido': 700}\n"
          ]
        },
        {
          "output_type": "execute_result",
          "data": {
            "text/plain": [
              "{'Cabeza de gato': 1000, 'Yuca': 800, 'Huevo Cocido': 700}"
            ]
          },
          "metadata": {},
          "execution_count": 8
        }
      ]
    },
    {
      "cell_type": "markdown",
      "source": [],
      "metadata": {
        "id": "MIkYwvYAbgK6"
      }
    },
    {
      "cell_type": "code",
      "source": [],
      "metadata": {
        "id": "kyls-vLyVXCL"
      },
      "execution_count": null,
      "outputs": []
    }
  ]
}