{
  "nbformat": 4,
  "nbformat_minor": 0,
  "metadata": {
    "colab": {
      "provenance": [],
      "authorship_tag": "ABX9TyNNFKr8JQCRFOGZohiF78eG",
      "include_colab_link": true
    },
    "kernelspec": {
      "name": "python3",
      "display_name": "Python 3"
    },
    "language_info": {
      "name": "python"
    }
  },
  "cells": [
    {
      "cell_type": "markdown",
      "metadata": {
        "id": "view-in-github",
        "colab_type": "text"
      },
      "source": [
        "<a href=\"https://colab.research.google.com/github/jeurginocode/introductionupb202410/blob/main/Funciones_y_Modulos.ipynb\" target=\"_parent\"><img src=\"https://colab.research.google.com/assets/colab-badge.svg\" alt=\"Open In Colab\"/></a>"
      ]
    },
    {
      "cell_type": "markdown",
      "source": [
        "##modulos\n",
        "se refiere cuando se quire hacer solamente una tariea en especifica como solamente sumar, restar.  "
      ],
      "metadata": {
        "id": "6Ap7CYYU-tFh"
      }
    },
    {
      "cell_type": "markdown",
      "source": [
        "#funciones\n",
        ":se refiere a una serie de intrucciones guarda <br>\n",
        "* La tarea general que debe realizar el programa se divide en una\n",
        "serie de subtareas.\n",
        "*   Se examina cada una de las subtareas para determinar si se puede\n",
        "además se divide en más subtareas. Este paso se repite hasta que no se puedan identificar más subtareas.\n",
        "\n",
        "**PSUDOCODIGO:**\n",
        "\n",
        "```\n",
        "Function DataType FunctionName(ParameterList)\n",
        "  statement\n",
        "  statement\n",
        "  …\n",
        "  Return value\n",
        "End Function\n",
        "---\n",
        "Function Integer sum(Integer num_1, Integer num_2)\n",
        "Declare Integer result\n",
        "Set result = num_1 + num_2\n",
        "Return result\n",
        "End Function\n",
        "```\n",
        "\n",
        "**CODIGO**\n",
        "* Definiendo fuciones\n",
        "```\n",
        "def say_hello():\n",
        "    print(\"Hola :)\"\n",
        "\n",
        "  def function_name (parameters):    \n",
        "  #Encabezado de función # Acciones\n",
        "```\n",
        "\n",
        "*   Llamando Funciones\n",
        "\n",
        "\n",
        "\n"
      ],
      "metadata": {
        "id": "85C1lF1tvwyj"
      }
    },
    {
      "cell_type": "markdown",
      "source": [
        "#ejemplos\n",
        "\n"
      ],
      "metadata": {
        "id": "4waFuMJv_C-B"
      }
    },
    {
      "cell_type": "code",
      "execution_count": null,
      "metadata": {
        "id": "o4RlWvlavv79"
      },
      "outputs": [],
      "source": [
        "# PSEUDOCODIGO\n",
        "# Program calcular_hipotenusa\n",
        "# Start\n",
        "#   Module main()\n",
        "#     Declare Real a, b, h\n",
        "#     Set h = hipotenusa(a, b)\n",
        "#   End Module\n",
        "#   Display h\n",
        "#   Function Real hipotenusa (Real a, Real b)\n",
        "#     Declare Real h\n",
        "#     Seth = (a^2+b^2)^(1/2)\n",
        "#     Return h\n",
        "#   End Function\n",
        "# Stop\n",
        "\n",
        "\n"
      ]
    },
    {
      "cell_type": "code",
      "source": [
        "# Program calcular hipotenusa\n",
        "# Start\n",
        "#   Module main()\n",
        "#     Declare Real a, b, h\n",
        "#     Seth hipotenusa(a, b)\n",
        "#     Display h\n",
        "#   End Module\n",
        "\n",
        "#   Function Real hipotenusa (Real a, Real b)\n",
        "#     Declare Real h\n",
        "#     Seth (a^2+b^2)^(1/2)\n",
        "#     Return h\n",
        "#   End Function\n",
        "# Stop"
      ],
      "metadata": {
        "id": "ZhEJevaOn9g9"
      },
      "execution_count": null,
      "outputs": []
    },
    {
      "cell_type": "code",
      "source": [
        "# program promedio_dedosnumeros\n",
        "\n",
        "# start\n",
        "# \tModule main()\n",
        "# \t\tDeclare Real a,b\n",
        "# \t\tser h= prom(a,b)\n",
        "# \t\tDisplay h\n",
        "# \tEnd Module\n",
        "\n",
        "# \tFuntion Real prom(real a, real b)\n",
        "# \t\tDeclare Real h\n",
        "# \t\tSet h=(a+b)/2\n",
        "# \t\tReturn h\n",
        "# \tEnd Funtion\n",
        "\n",
        "\n"
      ],
      "metadata": {
        "id": "R9fi1ARavwbs"
      },
      "execution_count": null,
      "outputs": []
    },
    {
      "cell_type": "markdown",
      "source": [
        "###ejemplos modulos"
      ],
      "metadata": {
        "id": "hlwclHw0pzNg"
      }
    },
    {
      "cell_type": "code",
      "source": [
        "#  crear una matriz que van de un numero minimo ha otro maximo\n",
        "# A = [[1,  4,  5],\n",
        "#         [-5,  8,  9]]\n",
        "\n",
        "\n",
        "# print (A)\n",
        "# print (type (A))\n",
        "\n",
        "rows=3\n",
        "colums=3\n",
        "counter=1\n",
        "figurita= []\n",
        "\n",
        "for i in range(rows):\n",
        "  temporal=[]\n",
        "  for j in range(colums):\n",
        "    temporal.append(counter)\n",
        "    counter+=1\n",
        "  figurita.append(temporal)\n",
        "\n",
        "\n",
        "\n",
        "print(figurita)\n",
        "rows=len(counter)\n",
        "\n",
        "for i in range(len(figurita)):\n",
        "  for j in range(len(figurita[i])):\n",
        "    print(figurita[i][j], end=\" \")\n",
        "  print()\n",
        "\n"
      ],
      "metadata": {
        "colab": {
          "base_uri": "https://localhost:8080/",
          "height": 240
        },
        "id": "NCUfVn_DqBzO",
        "outputId": "6bd72e33-26d5-4194-8189-05065932a712"
      },
      "execution_count": null,
      "outputs": [
        {
          "output_type": "stream",
          "name": "stdout",
          "text": [
            "[[1, 2, 3], [4, 5, 6], [7, 8, 9]]\n"
          ]
        },
        {
          "output_type": "error",
          "ename": "TypeError",
          "evalue": "object of type 'int' has no len()",
          "traceback": [
            "\u001b[0;31m---------------------------------------------------------------------------\u001b[0m",
            "\u001b[0;31mTypeError\u001b[0m                                 Traceback (most recent call last)",
            "\u001b[0;32m<ipython-input-25-47689e0d24ae>\u001b[0m in \u001b[0;36m<cell line: 24>\u001b[0;34m()\u001b[0m\n\u001b[1;32m     22\u001b[0m \u001b[0;34m\u001b[0m\u001b[0m\n\u001b[1;32m     23\u001b[0m \u001b[0mprint\u001b[0m\u001b[0;34m(\u001b[0m\u001b[0mfigurita\u001b[0m\u001b[0;34m)\u001b[0m\u001b[0;34m\u001b[0m\u001b[0;34m\u001b[0m\u001b[0m\n\u001b[0;32m---> 24\u001b[0;31m \u001b[0mrows\u001b[0m\u001b[0;34m=\u001b[0m\u001b[0mlen\u001b[0m\u001b[0;34m(\u001b[0m\u001b[0mcounter\u001b[0m\u001b[0;34m)\u001b[0m\u001b[0;34m\u001b[0m\u001b[0;34m\u001b[0m\u001b[0m\n\u001b[0m\u001b[1;32m     25\u001b[0m \u001b[0;34m\u001b[0m\u001b[0m\n\u001b[1;32m     26\u001b[0m \u001b[0;32mfor\u001b[0m \u001b[0mi\u001b[0m \u001b[0;32min\u001b[0m \u001b[0mrange\u001b[0m\u001b[0;34m(\u001b[0m\u001b[0mlen\u001b[0m\u001b[0;34m(\u001b[0m\u001b[0mfigurita\u001b[0m\u001b[0;34m)\u001b[0m\u001b[0;34m)\u001b[0m\u001b[0;34m:\u001b[0m\u001b[0;34m\u001b[0m\u001b[0;34m\u001b[0m\u001b[0m\n",
            "\u001b[0;31mTypeError\u001b[0m: object of type 'int' has no len()"
          ]
        }
      ]
    },
    {
      "cell_type": "code",
      "source": [
        "def create_matrix(rows, colums):\n",
        "  matrix=[]\n",
        "  for i in range(rows):\n",
        "    temporal=[]\n",
        "    for j in range(colums):\n",
        "      temporal.append(0)\n",
        "      counter+=1\n",
        "    figurita.append(temporal)\n",
        "    return matrix\n",
        "\n",
        "board=create_matriz(3, 3)\n",
        "print(board)\n"
      ],
      "metadata": {
        "id": "AycJX8rF2o1h",
        "outputId": "4bebc84b-fdf3-4e63-e1be-5bff7d2f6370",
        "colab": {
          "base_uri": "https://localhost:8080/",
          "height": 203
        }
      },
      "execution_count": null,
      "outputs": [
        {
          "output_type": "error",
          "ename": "NameError",
          "evalue": "name 'create_matriz' is not defined",
          "traceback": [
            "\u001b[0;31m---------------------------------------------------------------------------\u001b[0m",
            "\u001b[0;31mNameError\u001b[0m                                 Traceback (most recent call last)",
            "\u001b[0;32m<ipython-input-18-f8259fe8974e>\u001b[0m in \u001b[0;36m<cell line: 10>\u001b[0;34m()\u001b[0m\n\u001b[1;32m      8\u001b[0m     \u001b[0mfigurita\u001b[0m\u001b[0;34m.\u001b[0m\u001b[0mappend\u001b[0m\u001b[0;34m(\u001b[0m\u001b[0mtemporal\u001b[0m\u001b[0;34m)\u001b[0m\u001b[0;34m\u001b[0m\u001b[0;34m\u001b[0m\u001b[0m\n\u001b[1;32m      9\u001b[0m \u001b[0;34m\u001b[0m\u001b[0m\n\u001b[0;32m---> 10\u001b[0;31m \u001b[0mboard\u001b[0m\u001b[0;34m=\u001b[0m\u001b[0mcreate_matriz\u001b[0m\u001b[0;34m(\u001b[0m\u001b[0;36m3\u001b[0m\u001b[0;34m,\u001b[0m \u001b[0;36m3\u001b[0m\u001b[0;34m)\u001b[0m\u001b[0;34m\u001b[0m\u001b[0;34m\u001b[0m\u001b[0m\n\u001b[0m\u001b[1;32m     11\u001b[0m \u001b[0mprint\u001b[0m\u001b[0;34m(\u001b[0m\u001b[0mboard\u001b[0m\u001b[0;34m)\u001b[0m\u001b[0;34m\u001b[0m\u001b[0;34m\u001b[0m\u001b[0m\n",
            "\u001b[0;31mNameError\u001b[0m: name 'create_matriz' is not defined"
          ]
        }
      ]
    },
    {
      "cell_type": "code",
      "source": [
        "  #DATETIME\n",
        "  from datetime import datetime\n",
        "  current_time = datetime.now()\n",
        "  print(current_time)"
      ],
      "metadata": {
        "id": "pU5xB6VJ9T_O"
      },
      "execution_count": null,
      "outputs": []
    },
    {
      "cell_type": "code",
      "source": [
        "from random import choice,sample, randint\n",
        "\n",
        "random_n = [randint(-10,10)for i in range(10)]\n",
        "print(random_n)\n",
        "\n"
      ],
      "metadata": {
        "id": "nOw8SOtC9xZr",
        "outputId": "cb759937-8702-4807-8e07-e4a208c8acbd",
        "colab": {
          "base_uri": "https://localhost:8080/"
        }
      },
      "execution_count": null,
      "outputs": [
        {
          "output_type": "stream",
          "name": "stdout",
          "text": [
            "[-4, -1, 5, 10, -3, -7, 4, -3, 9, -1]\n"
          ]
        }
      ]
    },
    {
      "cell_type": "code",
      "source": [
        "path=\"/content/sample_data/mensaje secreto.txt\"\n",
        "with open(path) as file_info:\n",
        "  for line in file_info.readlines():\n",
        "    if file_info==\"It all\":\n",
        "       message= \"/n\"\n",
        "       message= file_info.read()\n",
        "\n",
        "print(message)"
      ],
      "metadata": {
        "id": "AIHwTpKOI1oC",
        "outputId": "a5b6f041-5665-4424-e1c9-67cb3208f328",
        "colab": {
          "base_uri": "https://localhost:8080/"
        }
      },
      "execution_count": 7,
      "outputs": [
        {
          "output_type": "stream",
          "name": "stdout",
          "text": [
            "I know, I know I've let you down\n",
            "I've been a fool to myself\n",
            "I thought that I could live for no one else\n",
            "But now, through all the hurt and pain\n",
            "It's time for me to respect\n",
            "The ones you love mean more than anything\n",
            "So, with sadness in my heart\n",
            "Feel the best thing I could do\n",
            "Is end it all and leave forever\n",
            "What's done is done, it feels so bad\n",
            "What once was happy now is sad\n",
            "I'll never love again\n",
            "My world is ending\n",
            "I wish that I could turn back time\n",
            "'Cause now the guilt is all mine\n",
            "Can't live without the trust from those you love\n",
            "I know we can't forget the past\n",
            "You can't forget love and pride\n",
            "Because of that, it's killing me inside\n",
            "It all returns to nothing\n",
            "It all comes tumbling down\n",
            "Tumbling down, tumbling down\n",
            "It all returns to nothing\n",
            "I just keep letting me down\n",
            "Letting me down, letting me down\n",
            "In my heart of hearts\n",
            "I know that I could never love again\n",
            "I've lost everything, everything\n",
            "Everything that matters to me matters in this world\n",
            "I wish that I could turn back time\n",
            "'Cause now the guilt is all mine\n",
            "Can't live without the trust from those you love\n",
            "I know we can't forget the past\n",
            "You can't forget love and pride\n",
            "Because of that, it's killing me inside\n",
            "It all returns to nothing\n",
            "It just keeps tumbling down\n",
            "Tumbling down, tumbling down\n",
            "It all returns to nothing\n",
            "I just keep letting me down\n",
            "Letting me down, letting me down\n",
            "It all returns to nothing\n",
            "It just keeps tumbling down\n",
            "Tumbling down, tumbling down\n",
            "It all returns to nothing\n",
            "I just keep letting me down\n",
            "Letting me down, letting me down\n",
            "Ah, ah, ah, ah\n",
            "Tumbling down\n",
            "Tumbling down\n",
            "Tumbling down\n",
            "Ah, ah, ah, ah\n",
            "Letting me down\n",
            "Letting me down\n",
            "Letting me down\n",
            "Ah, ah, ah, ah\n",
            "Tumbling down\n",
            "Tumbling down\n",
            "Tumbling down\n",
            "Ah, ah, ah, ah\n",
            "Letting me down\n",
            "Letting me down\n",
            "Letting me down\n"
          ]
        }
      ]
    },
    {
      "cell_type": "code",
      "source": [
        "def board_txt(board):\n",
        "  txt=\" \"\n",
        "  board_rows=len(board)\n",
        "  board_colums=len(board[0])\n",
        "  for i in range(board_columns):\n",
        ""
      ],
      "metadata": {
        "id": "Z8qMyRSmMs5K",
        "outputId": "3141b174-84d3-45d8-fd24-92e5f8fa2941",
        "colab": {
          "base_uri": "https://localhost:8080/",
          "height": 106
        }
      },
      "execution_count": 8,
      "outputs": [
        {
          "output_type": "error",
          "ename": "SyntaxError",
          "evalue": "incomplete input (<ipython-input-8-30f7acd45487>, line 6)",
          "traceback": [
            "\u001b[0;36m  File \u001b[0;32m\"<ipython-input-8-30f7acd45487>\"\u001b[0;36m, line \u001b[0;32m6\u001b[0m\n\u001b[0;31m    \u001b[0m\n\u001b[0m    ^\u001b[0m\n\u001b[0;31mSyntaxError\u001b[0m\u001b[0;31m:\u001b[0m incomplete input\n"
          ]
        }
      ]
    },
    {
      "cell_type": "markdown",
      "source": [],
      "metadata": {
        "id": "qEzfeIPV2ocB"
      }
    },
    {
      "cell_type": "markdown",
      "source": [],
      "metadata": {
        "id": "uKqQKRk_p64P"
      }
    },
    {
      "cell_type": "code",
      "source": [],
      "metadata": {
        "id": "CR_e7H7IRjYI"
      },
      "execution_count": null,
      "outputs": []
    },
    {
      "cell_type": "code",
      "source": [
        "#crea una funcion que genere un archico donde guardes numero y  suma de numero anterior en un rango de 0 ha 10\n",
        "\n",
        "\n",
        "def generador_numeros():\n",
        "  with open(\"numeros.txt\", \"a\") as file_info:\n",
        "    numero_previo=0\n",
        "    for i in range(11):\n",
        "      num=i\n",
        "      sum_with_numero+= num\n",
        "      file_info(f\"numero anterios:{num},suma de con el numero anterior:{sum_with_prev}\\n\")\n",
        "      prev_num=num\n",
        "\n",
        "generador_numeros()\n",
        "\n",
        "\n",
        "\n",
        "\n",
        "  #def generate_file():\n",
        "    # with open(\"numbers.txt\", \"w\") as file:\n",
        "    #     previous_sum = 0\n",
        "    #     for i in range(11):\n",
        "    #         number = i\n",
        "    #         sum_with_previous = number + previous_sum\n",
        "    #         file.write(f\"Number: {number}, Sum with previous: {sum_with_previous}\\n\")\n",
        "    #         previous_sum = sum_with_previous"
      ],
      "metadata": {
        "id": "3JShOrXQROJo",
        "outputId": "26b55d20-c505-483f-a396-4c529651099c",
        "colab": {
          "base_uri": "https://localhost:8080/",
          "height": 332
        }
      },
      "execution_count": 16,
      "outputs": [
        {
          "output_type": "error",
          "ename": "UnboundLocalError",
          "evalue": "local variable 'sum_with_numero' referenced before assignment",
          "traceback": [
            "\u001b[0;31m---------------------------------------------------------------------------\u001b[0m",
            "\u001b[0;31mUnboundLocalError\u001b[0m                         Traceback (most recent call last)",
            "\u001b[0;32m<ipython-input-16-9ef5dce0871c>\u001b[0m in \u001b[0;36m<cell line: 13>\u001b[0;34m()\u001b[0m\n\u001b[1;32m     11\u001b[0m       \u001b[0mprev_num\u001b[0m\u001b[0;34m=\u001b[0m\u001b[0mnum\u001b[0m\u001b[0;34m\u001b[0m\u001b[0;34m\u001b[0m\u001b[0m\n\u001b[1;32m     12\u001b[0m \u001b[0;34m\u001b[0m\u001b[0m\n\u001b[0;32m---> 13\u001b[0;31m \u001b[0mgenerador_numeros\u001b[0m\u001b[0;34m(\u001b[0m\u001b[0;34m)\u001b[0m\u001b[0;34m\u001b[0m\u001b[0;34m\u001b[0m\u001b[0m\n\u001b[0m\u001b[1;32m     14\u001b[0m \u001b[0;34m\u001b[0m\u001b[0m\n\u001b[1;32m     15\u001b[0m \u001b[0;34m\u001b[0m\u001b[0m\n",
            "\u001b[0;32m<ipython-input-16-9ef5dce0871c>\u001b[0m in \u001b[0;36mgenerador_numeros\u001b[0;34m()\u001b[0m\n\u001b[1;32m      7\u001b[0m     \u001b[0;32mfor\u001b[0m \u001b[0mi\u001b[0m \u001b[0;32min\u001b[0m \u001b[0mrange\u001b[0m\u001b[0;34m(\u001b[0m\u001b[0;36m11\u001b[0m\u001b[0;34m)\u001b[0m\u001b[0;34m:\u001b[0m\u001b[0;34m\u001b[0m\u001b[0;34m\u001b[0m\u001b[0m\n\u001b[1;32m      8\u001b[0m       \u001b[0mnum\u001b[0m\u001b[0;34m=\u001b[0m\u001b[0mi\u001b[0m\u001b[0;34m\u001b[0m\u001b[0;34m\u001b[0m\u001b[0m\n\u001b[0;32m----> 9\u001b[0;31m       \u001b[0msum_with_numero\u001b[0m\u001b[0;34m+=\u001b[0m \u001b[0mnum\u001b[0m\u001b[0;34m\u001b[0m\u001b[0;34m\u001b[0m\u001b[0m\n\u001b[0m\u001b[1;32m     10\u001b[0m       \u001b[0mfile_info\u001b[0m\u001b[0;34m(\u001b[0m\u001b[0;34mf\"numero anterios:{num},suma de con el numero anterior:{sum_with_prev}\\n\"\u001b[0m\u001b[0;34m)\u001b[0m\u001b[0;34m\u001b[0m\u001b[0;34m\u001b[0m\u001b[0m\n\u001b[1;32m     11\u001b[0m       \u001b[0mprev_num\u001b[0m\u001b[0;34m=\u001b[0m\u001b[0mnum\u001b[0m\u001b[0;34m\u001b[0m\u001b[0;34m\u001b[0m\u001b[0m\n",
            "\u001b[0;31mUnboundLocalError\u001b[0m: local variable 'sum_with_numero' referenced before assignment"
          ]
        }
      ]
    },
    {
      "cell_type": "markdown",
      "source": [
        "matriaz de numero aletorios gauderdlos en un archivo nuevo"
      ],
      "metadata": {
        "id": "uJaQqENkU8W_"
      }
    },
    {
      "cell_type": "markdown",
      "source": [
        "###ejemplos de fuciones"
      ],
      "metadata": {
        "id": "6lCn9vKUXcvk"
      }
    },
    {
      "cell_type": "code",
      "execution_count": null,
      "metadata": {
        "id": "pNF8PO_C09A4"
      },
      "outputs": [],
      "source": [
        "def hipotenusa(a, b):\n",
        "  return ( a ** 2 + b ** 2 ) ** (1 / 2)\n",
        "\n",
        "a = 3\n",
        "b = 4\n",
        "\n",
        "print(hipotenusa(a, b))"
      ]
    },
    {
      "cell_type": "code",
      "source": [
        "registro_1 = {\"datetime\": \"2024-04-03 13:07\" ,\"humedad\": 0.20, \"nivel\": 10}"
      ],
      "metadata": {
        "id": "T6EsZrWuFyXC"
      },
      "execution_count": null,
      "outputs": []
    },
    {
      "cell_type": "code",
      "source": [
        "frase = \"A la grande le puse Pucca\"\n",
        "nombre = \"pucca\"\n",
        "\n",
        "def validar_nombre_en_frase(frase, nombre):\n",
        "    if nombre.lower() in frase.lower():\n",
        "        print(\"El nombre sí está en la frase\")\n",
        "    else:\n",
        "        print(\"El nombre no está en la frase\")\n",
        "\n",
        "validar_nombre_en_frase(frase, nombre)\n",
        "\n",
        "frase = \"Mi nombre es Bond. James Bond\"\n",
        "nombre = \"Clark\"\n",
        "\n",
        "validar_nombre_en_frase(frase, nombre)"
      ],
      "metadata": {
        "id": "AmzbMmSeJRVU"
      },
      "execution_count": null,
      "outputs": []
    },
    {
      "cell_type": "code",
      "source": [
        "def letras_intercaladas(word):\n",
        "    new_word = \"\"\n",
        "    for i in range(0, len(word), 2):\n",
        "        new_word += word[i]\n",
        "    return new_word\n",
        "\n",
        "word = \"Miguelangelo\"\n",
        "new_word = letras_intercaladas(word)\n",
        "print(new_word)"
      ],
      "metadata": {
        "id": "FFmKyFhpQKYO"
      },
      "execution_count": null,
      "outputs": []
    },
    {
      "cell_type": "code",
      "source": [
        "def invertir_palabra(word):\n",
        "    new_word = \"\"\n",
        "    for i in range(len(word)-1, -1, -1):\n",
        "        new_word += word[i]\n",
        "    return new_word\n",
        "\n",
        "new_word = invertir_palabra(\"Inmarcesible\")\n",
        "print(new_word)"
      ],
      "metadata": {
        "id": "rd-0_bgIQVic",
        "outputId": "09345956-c4f6-4227-8fe6-1a79a0165900",
        "colab": {
          "base_uri": "https://localhost:8080/"
        }
      },
      "execution_count": null,
      "outputs": [
        {
          "output_type": "stream",
          "name": "stdout",
          "text": [
            "elbisecramnI\n"
          ]
        }
      ]
    },
    {
      "cell_type": "code",
      "source": [
        "def invertir_palabra(word):\n",
        "    return word[::-1]\n",
        "\n",
        "new_word = invertir_palabra(\"Salchipapa\")\n",
        "print(new_word)"
      ],
      "metadata": {
        "id": "oZNYNC86QV6F",
        "outputId": "6e8fecd1-600a-457c-bbd2-19342ad9b560",
        "colab": {
          "base_uri": "https://localhost:8080/"
        }
      },
      "execution_count": null,
      "outputs": [
        {
          "output_type": "stream",
          "name": "stdout",
          "text": [
            "apapihclaS\n"
          ]
        }
      ]
    },
    {
      "cell_type": "code",
      "source": [
        "def es_palindrome(frase):\n",
        "    x = \"\".join(frase.split()).lower()\n",
        "    if x == x[::-1]:\n",
        "        print(\"La frase es palíndrome.\")\n",
        "    else:\n",
        "        print(\"La frase NO es palíndrome.\")\n",
        "\n",
        "es_palindrome(\"amo la paloma\")\n",
        "es_palindrome(\"anita lava la tina\")\n",
        "es_palindrome(\"Dabale arroz a la zorra el abad\")\n",
        "es_palindrome(\"Rayos\")"
      ],
      "metadata": {
        "id": "1nHDkgj2QZPh"
      },
      "execution_count": null,
      "outputs": []
    },
    {
      "cell_type": "code",
      "source": [
        "str = 'X-DSPAM-Confidence: 0.8475'\n",
        "mm=str.find(\":\")\n",
        "str[18:]\n",
        "print(mm)"
      ],
      "metadata": {
        "id": "oo6SIKVZC-Cr",
        "outputId": "cb9f12e9-de63-47a3-e8dd-3fe091efdb47",
        "colab": {
          "base_uri": "https://localhost:8080/"
        }
      },
      "execution_count": null,
      "outputs": [
        {
          "output_type": "stream",
          "name": "stdout",
          "text": [
            "18\n"
          ]
        }
      ]
    },
    {
      "cell_type": "code",
      "source": [
        "# reescriba su cálculo salarial con tiempo y medio para las horas extra y cree una función llamada computepayque tome dos parámetros ( hours y rate).\n",
        "\n",
        "# Enter Hours: 45\n",
        "# Enter Rate: 10\n",
        "# Pay: 475.0\n",
        "\n",
        "\n",
        "\n",
        "def computepayque(hours, rate):\n",
        "    if hours >= 40:\n",
        "      hours_extra=hours-40\n",
        "      rate_pay=((1.5*rate)*(hours_extra))\n",
        "      pay=rate_pay+(rate*40)\n",
        "    else:\n",
        "      pay=hours * rate\n",
        "    pay=float(pay)\n",
        "    return pay\n",
        "\n",
        "a=float(input(\"horas\"))\n",
        "d=float(input(\"tarifa\"))\n",
        "\n",
        "\n",
        "b= computepayque(a, d)\n",
        "\n",
        "print(\"pay:\", b)\n"
      ],
      "metadata": {
        "id": "jfe9nU9aefFW",
        "outputId": "f463fbf2-5511-441f-f5ce-13e61f5bbc0e",
        "colab": {
          "base_uri": "https://localhost:8080/"
        }
      },
      "execution_count": null,
      "outputs": [
        {
          "output_type": "stream",
          "name": "stdout",
          "text": [
            "horas45\n",
            "tarifa10\n",
            "pay: 475.0\n"
          ]
        }
      ]
    },
    {
      "cell_type": "code",
      "source": [
        "#  escriba un programa que solicite una puntuación entre 0,0 y 1,0. Si la puntuación está fuera de rango, imprima un mensaje de error.\n",
        "# Si la puntuación está entre 0,0 y 1,0, imprima una calificación utilizando la siguiente tabla:\n",
        "\n",
        "\n",
        "# Score   Grade\n",
        "# >= 0.9     A\n",
        "# >= 0.8     B\n",
        "# >= 0.7     C\n",
        "# >= 0.6     D\n",
        "#  < 0.6     F\n",
        "# Enter score: 0.95\n",
        "# A\n",
        "# Enter score: perfect\n",
        "# Bad score\n",
        "# Enter score: 10.0\n",
        "# Bad score\n",
        "# Enter score: 0.75\n",
        "# C\n",
        "# Enter score: 0.5\n",
        "# F\n",
        "\n",
        "score=input(float(\"insgrese punto\"))\n",
        "\n",
        "def computegrade\n"
      ],
      "metadata": {
        "id": "JmsLAt-FtyhT"
      },
      "execution_count": null,
      "outputs": []
    },
    {
      "cell_type": "code",
      "source": [
        "def validate_name(sentence, name):\n",
        "    return name in sentence\n",
        "print(validate_name(\"Today is Monday, April 8, 2024\", \"Monday\"))  # True\n",
        "print(validate_name(\"Today is Monday, April 8, 2024\", \"Tuesday\"))  # False"
      ],
      "metadata": {
        "id": "mVsvC1t0LH_m",
        "outputId": "ca6fd41a-f4b3-4a27-fd38-2b60c462a0fd",
        "colab": {
          "base_uri": "https://localhost:8080/"
        }
      },
      "execution_count": null,
      "outputs": [
        {
          "output_type": "stream",
          "name": "stdout",
          "text": [
            "True\n",
            "False\n"
          ]
        }
      ]
    },
    {
      "cell_type": "code",
      "source": [
        "def extract_letters(word, letters):\n",
        "    result = \"\"\n",
        "    for letter in word:\n",
        "        if letter not in result and letter in letters:\n",
        "            result += letter\n",
        "    return result\n",
        "\n",
        "\n",
        "print(extract_letters(\"python\", \"to\"))  # Output: to\n",
        "print(extract_letters(\"programming\", \"mng\"))  # Output: mng"
      ],
      "metadata": {
        "id": "tEqAe_4uXClE",
        "outputId": "15593a38-2e43-4b96-9bef-b36ac8d7bfb7",
        "colab": {
          "base_uri": "https://localhost:8080/"
        }
      },
      "execution_count": null,
      "outputs": [
        {
          "output_type": "stream",
          "name": "stdout",
          "text": [
            "to\n",
            "gmn\n"
          ]
        }
      ]
    },
    {
      "cell_type": "code",
      "source": [],
      "metadata": {
        "id": "p44o3VuEjV2s"
      },
      "execution_count": null,
      "outputs": []
    },
    {
      "cell_type": "markdown",
      "source": [
        "##ejemplos de diccionarios y fucciones"
      ],
      "metadata": {
        "id": "QPOtAE7CXXNN"
      }
    },
    {
      "cell_type": "code",
      "source": [
        "sujeto = ['Mami ', 'Bebé ', 'Princes ', 'Mami ', 'Brrr ', 'Reina ', 'Hermosa ']\n",
        "intencion = ['yo quiero ', 'yo puedo ', 'yo vengo a ', 'voy a ', 'pretendo ', 'me gustaría ']\n",
        "accion = ['encendelte ', 'amalte ', 'ligar ', 'jugar ', 'cocinar ', 'trabajar ']\n",
        "adjetivo = ['suave ', 'lento ', 'rápido ', 'fuerte ', 'duro ', 'convencido ']\n",
        "duracion = ['hasta que salga el sol ', 'toda la noche ', 'hasta el amanecer ', 'todo el dia ', 'por la noche ']\n",
        "manera = ['sin anestecia.', 'sin compromiso.', 'feis to feis.', 'sin miedo.', 'intensamente.']\n",
        "palabras_reggaeton = [sujeto, intencion, accion, adjetivo, duracion, manera]\n",
        "\n",
        "\n",
        "def palabras_ramdon(reggaton):\n",
        "  import random\n",
        "  verso = \"\"\n",
        "  for palabras in reggaton:\n",
        "    verso += str(random.choice(palabras))\n",
        "    print(verso)\n",
        "  return verso\n",
        "\n",
        "print(palabras_ramdon(palabras_reggaeton))"
      ],
      "metadata": {
        "id": "vwzntub-lxw5",
        "outputId": "a4c4488f-bae1-477d-e608-c22169992b7b",
        "colab": {
          "base_uri": "https://localhost:8080/"
        }
      },
      "execution_count": null,
      "outputs": [
        {
          "output_type": "stream",
          "name": "stdout",
          "text": [
            "Bebé \n",
            "Bebé me gustaría \n",
            "Bebé me gustaría amalte \n",
            "Bebé me gustaría amalte suave \n",
            "Bebé me gustaría amalte suave todo el dia \n",
            "Bebé me gustaría amalte suave todo el dia intensamente.\n",
            "Bebé me gustaría amalte suave todo el dia intensamente.\n"
          ]
        }
      ]
    },
    {
      "cell_type": "code",
      "source": [
        "# Crea una función que genere un nuevo diccionario basado en una lista de strings,\n",
        "# en el cual la llave de cada ítem sea la palabra del string y su valor las veces que aparece en la lista}\n",
        "def create_word_dict(word_list):\n",
        "    word_dict = {}\n",
        "    for word in word_list:\n",
        "        if word in word_dict:\n",
        "            word_dict[word] += 1\n",
        "        else:\n",
        "            word_dict[word] = 1\n",
        "    return word_dict\n",
        "word_list = ['apple', 'banana', 'apple', 'orange', 'banana', 'apple']\n",
        "word_dict = create_word_dict(word_list)\n",
        "print(word_dict)"
      ],
      "metadata": {
        "id": "imaX_SqyhqmF",
        "outputId": "5456c5ba-7855-4752-a001-f86047d7bb2f",
        "colab": {
          "base_uri": "https://localhost:8080/"
        }
      },
      "execution_count": null,
      "outputs": [
        {
          "output_type": "stream",
          "name": "stdout",
          "text": [
            "{'apple': 3, 'banana': 2, 'orange': 1}\n"
          ]
        }
      ]
    },
    {
      "cell_type": "markdown",
      "source": [
        "##ejemplos de biccionarios"
      ],
      "metadata": {
        "id": "eUyrB_a2XP-r"
      }
    },
    {
      "cell_type": "code",
      "source": [
        "student_1 = {\"name\": \"Homero\", \"edad\": 15, \"genero\": \"M\", \"promedio\": 2.5}\n",
        "student_2 = {\"name\": \"Lisa\", \"edad\": 14, \"genero\": \"F\", \"promedio\": 4.8}\n",
        "student_3 = {\"name\": \"Bart\", \"edad\":14, \"genero\": \"M\", \"promedio\": 2.9}\n",
        "\n",
        "students = [student_1, student_2, student_3]\n",
        "\n",
        "#print(students)\n",
        "\n",
        "#Imprimir lista de estudiantes\n",
        "\n",
        "for student in students:\n",
        "  print(student[\"name\"])\n",
        "\n",
        "#Promedio de edades\n",
        "edad_prom = 0\n",
        "if len(students) > 0:\n",
        "  for student in students:\n",
        "    edad_prom += student[\"edad\"]\n",
        "  edad_prom /= len(students)\n",
        "  print(f\"Edad promedio: {edad_prom:.2f}\")\n",
        "else:\n",
        "  print(\"No hay estudiantes en la lista.\")\n",
        "\n",
        "#Promedio de notas\n",
        "nota_prom = 0\n",
        "if len(students) > 0:\n",
        "  for student in students:\n",
        "    nota_prom += student[\"promedio\"]\n",
        "  nota_prom /= len(students)\n",
        "  print(f\"Nota promedio: {nota_prom:.2f}\")\n",
        "else:\n",
        "  print(\"No hay estudiantes en la lista.\")"
      ],
      "metadata": {
        "id": "lp97-wK71Xl4",
        "outputId": "f3da7cfa-2640-4adb-fd0a-13ece04e726e",
        "colab": {
          "base_uri": "https://localhost:8080/"
        }
      },
      "execution_count": null,
      "outputs": [
        {
          "output_type": "stream",
          "name": "stdout",
          "text": [
            "Homero\n",
            "Lisa\n",
            "Bart\n",
            "Edad promedio: 14.33\n",
            "Nota promedio: 3.40\n"
          ]
        }
      ]
    },
    {
      "cell_type": "code",
      "source": [
        "mis_dato={}\n",
        "x=[1,2,3,4]\n",
        "y=[9,10,11,23]\n",
        "z=[96,32,56,28]\n",
        "\n",
        "mis_dato[\"x\"]=x\n",
        "mis_dato[\"y\"]=y\n",
        "mis_dato[\"z\"]=z\n",
        "\n",
        "import random\n",
        "code= \"\"\n",
        "for key in mis_dato.keys():\n",
        "  mis_dato=str(random.choice(palabras_reggaeton(key)))\n"
      ],
      "metadata": {
        "id": "Y3RL16AQmoWr"
      },
      "execution_count": null,
      "outputs": []
    },
    {
      "cell_type": "code",
      "source": [
        "# hacer un discurso poltico aletorio\n",
        "\n",
        "\n",
        "\n",
        "\n",
        "\n",
        "def programa_discurso(data):\n",
        "    import random\n",
        "    code=''\n",
        "    for key in data.keys():\n",
        "        code==str(random.choice(data key))\n",
        "    return code\n",
        "\n",
        "\n",
        "print(generador_discurso(info_discurso))\n",
        "M"
      ],
      "metadata": {
        "id": "vJoWL1bfLufS"
      },
      "execution_count": null,
      "outputs": []
    },
    {
      "cell_type": "markdown",
      "source": [
        "#diccionarios\n",
        "\n"
      ],
      "metadata": {
        "id": "ii63TAdZDnCy"
      }
    },
    {
      "cell_type": "markdown",
      "source": [
        "##**se define como:**\n",
        "* Conjunto desordenado de parejas llave:valor (key:value)\n",
        "* Forma rápida de mapear datos relacionados.\n",
        "\n",
        "\n",
        "\n"
      ],
      "metadata": {
        "id": "AzHwrKVAEDxs"
      }
    },
    {
      "cell_type": "code",
      "source": [
        "menu = {\"Cabeza de gato\": 1000, \"Yuca\": 800, \"Huevo Cocido\": 700}\n",
        "print(menu)\n",
        "# >>>{'Cabeza de gato': 1000, 'Yuca': 800, 'Huevo Cocido': 700}"
      ],
      "metadata": {
        "id": "dCgGJJWTHyZk",
        "colab": {
          "base_uri": "https://localhost:8080/"
        },
        "outputId": "04a1fc4c-1a78-428d-f1a4-b6937b4fc67e"
      },
      "execution_count": null,
      "outputs": [
        {
          "output_type": "stream",
          "name": "stdout",
          "text": [
            "{'Cabeza de gato': 1000, 'Yuca': 800, 'Huevo Cocido': 700}\n"
          ]
        }
      ]
    },
    {
      "cell_type": "markdown",
      "source": [
        "***\n",
        "* Los valores para cada llave pueden ser de cualquier tipo.\n",
        "* Las llaves pueden ser strings o números."
      ],
      "metadata": {
        "id": "Rr_AHgHSifMO"
      }
    },
    {
      "cell_type": "code",
      "source": [
        "person = {\"name\": \"Miguel\", \"age\": 30, \"hobbies\": [\"reading\", \"listening to music\", \"cooking\"]}\n",
        "print(person)"
      ],
      "metadata": {
        "id": "kyls-vLyVXCL",
        "colab": {
          "base_uri": "https://localhost:8080/"
        },
        "outputId": "2fb06ab1-6578-49eb-c6fe-38e1cc2f54e6"
      },
      "execution_count": null,
      "outputs": [
        {
          "output_type": "stream",
          "name": "stdout",
          "text": [
            "{'name': 'Miguel', 'age': 30, 'hobbies': ['reading', 'listening to music', 'cooking']}\n"
          ]
        }
      ]
    },
    {
      "cell_type": "markdown",
      "source": [
        "\n",
        "***\n",
        "* Los diccionarios dependen de que cada llave posea un hash value, un\n",
        "identificador específico que se mantenga inmutable, como en el caso\n",
        "de los números o strings.\n",
        "\n",
        "* Los diccionarios también pueden ser creados vacíos.Las llaves, {} representan un diccionario vacío.Para agregar elementos al diccionario, puede utilizar corchetes:[ ]"
      ],
      "metadata": {
        "id": "8UMVijCzkx7H"
      }
    },
    {
      "cell_type": "code",
      "source": [
        "empty_dict = {}\n",
        "print(empty_dict)\n",
        "\n",
        "# Para agregar elementos al diccionario, puede utilizar corchetes:\n",
        "empty_dict['one'] = 'uno'\n",
        "print(empty_dict)"
      ],
      "metadata": {
        "colab": {
          "base_uri": "https://localhost:8080/"
        },
        "id": "BvcJ8c9olrfW",
        "outputId": "d9eb1c68-72f6-4e96-b591-8538db10e0d7"
      },
      "execution_count": null,
      "outputs": [
        {
          "output_type": "stream",
          "name": "stdout",
          "text": [
            "{}\n",
            "{'one': 'uno'}\n"
          ]
        }
      ]
    },
    {
      "cell_type": "markdown",
      "source": [
        "*   Tambien se puede hacer un dicionario con la funcion` dict()`\n",
        "\n",
        "\n",
        "\n",
        "\n"
      ],
      "metadata": {
        "id": "jZmeqOE3VrOi"
      }
    },
    {
      "cell_type": "code",
      "source": [
        "cabinet = dict()\n",
        "cabinet['summer'] = 12\n",
        "cabinet['fall'] = 3\n",
        "cabinet['spring'] = 75\n",
        "print(cabinet)\n",
        "#------\n",
        "print(cabinet['fall'])\n",
        "#------\n",
        "cabinet['fall'] = cabinet['fall'] + 2\n",
        "\n",
        "print(cabinet)"
      ],
      "metadata": {
        "id": "NZEuKmwDY8KU",
        "outputId": "19559268-77cf-4b5f-b652-62ef18841b6d",
        "colab": {
          "base_uri": "https://localhost:8080/"
        }
      },
      "execution_count": null,
      "outputs": [
        {
          "output_type": "stream",
          "name": "stdout",
          "text": [
            "{'summer': 12, 'fall': 3, 'spring': 75}\n",
            "3\n",
            "{'summer': 12, 'fall': 5, 'spring': 75}\n"
          ]
        }
      ]
    },
    {
      "cell_type": "markdown",
      "source": [],
      "metadata": {
        "id": "kWnKulP2Y7dz"
      }
    },
    {
      "cell_type": "markdown",
      "source": [],
      "metadata": {
        "id": "L3NqQvl1yxFa"
      }
    },
    {
      "cell_type": "markdown",
      "source": [
        "## cosas que se puede hacer con diccionarios:\n",
        "\n",
        "\n"
      ],
      "metadata": {
        "id": "xpuRxM0XN_UL"
      }
    },
    {
      "cell_type": "markdown",
      "source": [
        "###Agregar Llaves\n"
      ],
      "metadata": {
        "id": "otfxiT2NyOXc"
      }
    },
    {
      "cell_type": "code",
      "source": [
        "menu ={\"Cabeza de gato\": 1000, \"Yuca\": 800, \"Huevo Cocido\": 700}\n",
        "print(menu)\n",
        "menu[\"Papa\"] = 800\n",
        "print(menu)"
      ],
      "metadata": {
        "colab": {
          "base_uri": "https://localhost:8080/"
        },
        "id": "QtjbRSlvyNpc",
        "outputId": "0fc1f0fa-d294-48da-a41b-0633411bc14a"
      },
      "execution_count": null,
      "outputs": [
        {
          "output_type": "stream",
          "name": "stdout",
          "text": [
            "{'Cabeza de gato': 1000, 'Yuca': 800, 'Huevo Cocido': 700}\n",
            "{'Cabeza de gato': 1000, 'Yuca': 800, 'Huevo Cocido': 700, 'Papa': 800}\n"
          ]
        }
      ]
    },
    {
      "cell_type": "markdown",
      "source": [
        "###agregar varias llaves\n"
      ],
      "metadata": {
        "id": "XCwCL4rHzjDV"
      }
    },
    {
      "cell_type": "code",
      "source": [
        "menu= {\"Cabeza de gato\": 1000, \"Yuca\": 300, \"Huevo Cocido\": 700}\n",
        "print(menu)\n",
        "menu.update({\"Papa\": 300, \"Arepa de Queso\":1500})\n",
        "print(menu)"
      ],
      "metadata": {
        "colab": {
          "base_uri": "https://localhost:8080/"
        },
        "id": "33heSkP8zwLl",
        "outputId": "fc8cb723-8da0-41b2-88e4-0800de7f9463"
      },
      "execution_count": null,
      "outputs": [
        {
          "output_type": "stream",
          "name": "stdout",
          "text": [
            "{'Cabeza de gato': 1000, 'Yuca': 300, 'Huevo Cocido': 700}\n",
            "{'Cabeza de gato': 1000, 'Yuca': 300, 'Huevo Cocido': 700, 'Papa': 300, 'Arepa de Queso': 1500}\n"
          ]
        }
      ]
    },
    {
      "cell_type": "markdown",
      "source": [
        "###Sobrescribir Valores\n"
      ],
      "metadata": {
        "id": "Dnb__ZJF0oo9"
      }
    },
    {
      "cell_type": "code",
      "source": [
        "menu ={\"Cabeza de gato\": 1000, \"Yuca\": 300, \"Huevo Cocido\": 700}\n",
        "print(menu)\n",
        "menu[\"Yuca\"] = 1000\n",
        "print(menu)"
      ],
      "metadata": {
        "colab": {
          "base_uri": "https://localhost:8080/"
        },
        "id": "o6yQfhZC1MLf",
        "outputId": "a86e7ac7-82b7-40ad-acf5-99bdc7c19a46"
      },
      "execution_count": null,
      "outputs": [
        {
          "output_type": "stream",
          "name": "stdout",
          "text": [
            "{'Cabeza de gato': 1000, 'Yuca': 300, 'Huevo Cocido': 700}\n",
            "{'Cabeza de gato': 1000, 'Yuca': 1000, 'Huevo Cocido': 700}\n"
          ]
        }
      ]
    },
    {
      "cell_type": "markdown",
      "source": [
        "###compresiones de diccionarios"
      ],
      "metadata": {
        "id": "dUymsNUd1ZR9"
      }
    },
    {
      "cell_type": "code",
      "source": [
        "names = [\"Jimena\", \"Juan Pablo\", \"Santiago\"]\n",
        "scores= [80, 75, 77]\n",
        "grades = {key: value*5/100 for key, value in zip(names, scores)}\n",
        "print(grades)"
      ],
      "metadata": {
        "colab": {
          "base_uri": "https://localhost:8080/"
        },
        "id": "9xEOMzTi2EpZ",
        "outputId": "f8f388d1-ea03-4d51-cf3b-d23568976ec0"
      },
      "execution_count": null,
      "outputs": [
        {
          "output_type": "stream",
          "name": "stdout",
          "text": [
            "{'Jimena': 4.0, 'Juan Pablo': 3.75, 'Santiago': 3.85}\n"
          ]
        }
      ]
    },
    {
      "cell_type": "markdown",
      "source": [
        "##llaves\n",
        "\n",
        "\n"
      ],
      "metadata": {
        "id": "WebbtkST2grO"
      }
    },
    {
      "cell_type": "markdown",
      "source": [
        "###obtener una llave\n",
        "\n",
        "* Una vez tengas un diccionario, puedes acceder a sus valores indicando\n",
        "su llave."
      ],
      "metadata": {
        "id": "iyZrRlN828UV"
      }
    },
    {
      "cell_type": "code",
      "source": [
        "city_areas= {\"Montería\": 3141, \"Cartagena\": 609, \"Barranquilla\": 154, \"Sincelejo\": 284}\n",
        "print(city_areas [\"Montería\"])"
      ],
      "metadata": {
        "colab": {
          "base_uri": "https://localhost:8080/"
        },
        "id": "uuv-I2Qw3su7",
        "outputId": "459e71fa-b66b-4373-9b0f-1de43fa781d8"
      },
      "execution_count": null,
      "outputs": [
        {
          "output_type": "stream",
          "name": "stdout",
          "text": [
            "3141\n"
          ]
        }
      ]
    },
    {
      "cell_type": "markdown",
      "source": [
        "\n",
        "\n",
        "*   si no aparece especificada va ha paracer un error:\n"
      ],
      "metadata": {
        "id": "1ulvNcjL4t3x"
      }
    },
    {
      "cell_type": "code",
      "source": [
        "city_areas= {\"Montería\": 3141, \"Cartagena\": 609, \"Barranquilla\": 154, \"Sincelejo\": 284}\n",
        "print(city_areas[\"Riohacha\"])\n",
        "#key error: \"Riohacha\""
      ],
      "metadata": {
        "id": "lYMu-p695Ibf"
      },
      "execution_count": null,
      "outputs": []
    },
    {
      "cell_type": "markdown",
      "source": [
        "###llaves invalidas\n"
      ],
      "metadata": {
        "id": "pHBc6mUNOba3"
      }
    },
    {
      "cell_type": "code",
      "source": [
        "city_areas= {\"Monteria\": 3141, \"Cartagena\": 609, \"Barranquilla\": 154, \"Sincelejo\": 284}\n",
        "if \"Riohacha\" in city_areas:\n",
        "  print(city_areas [\"Riohacha\"])\n",
        "else:\n",
        "  print(\"Ciudad no encontrada\")"
      ],
      "metadata": {
        "id": "h_fkVMJm5Eic",
        "outputId": "f77a4420-e98f-4d7d-f99b-e5dfc2b86c91",
        "colab": {
          "base_uri": "https://localhost:8080/"
        }
      },
      "execution_count": null,
      "outputs": [
        {
          "output_type": "stream",
          "name": "stdout",
          "text": [
            "Ciudad no encontrada\n"
          ]
        }
      ]
    },
    {
      "cell_type": "markdown",
      "source": [
        "###Try/Except\n"
      ],
      "metadata": {
        "id": "rbTwqESaPK4y"
      }
    },
    {
      "cell_type": "code",
      "source": [
        "city_areas = {\"Monteria\": 3141, \"Cartagena\": 609, \"Barranquilla\": 154, \"Sincelejo\": 284}\n",
        "key_to_check = \"Riohacha\"\n",
        "try:\n",
        "  print(city_areas [key_to_check])\n",
        "except KeyError:\n",
        "  print(\"La llave no existe.\")"
      ],
      "metadata": {
        "id": "01evGQ0APKh9",
        "outputId": "85ef6738-554c-4287-a48d-e103810e8581",
        "colab": {
          "base_uri": "https://localhost:8080/"
        }
      },
      "execution_count": null,
      "outputs": [
        {
          "output_type": "stream",
          "name": "stdout",
          "text": [
            "La llave no existe.\n"
          ]
        }
      ]
    },
    {
      "cell_type": "markdown",
      "source": [
        "###Obtener una Llave de forma segura\n",
        "* No podemos predecir cada llave que el usuario pueda llamar. El\n",
        "método .get() nos permite buscar un valor de forma segura.\n"
      ],
      "metadata": {
        "id": "hwznUMLX3qki"
      }
    },
    {
      "cell_type": "code",
      "source": [
        "city_areas = {\"Monteria\": 3141, \"Cartagena\": 609, \"Barranquilla\": 154, \"Sincelejo\": 284}\n",
        "print(city_areas.get(\"Riohacha\"))\n",
        "print(city_areas.get(\"Riohacha\", \"Not Found\"))"
      ],
      "metadata": {
        "id": "OJHyAn_EQMkW",
        "outputId": "9a3b4975-6438-443b-8393-a95c8f9cb99f",
        "colab": {
          "base_uri": "https://localhost:8080/"
        }
      },
      "execution_count": null,
      "outputs": [
        {
          "output_type": "stream",
          "name": "stdout",
          "text": [
            "None\n",
            "Not Found\n"
          ]
        }
      ]
    },
    {
      "cell_type": "markdown",
      "source": [
        "###Borrar una llave\n",
        "* En algunas ocasiones queremos obtener una llave y removerla del\n",
        "diccionario. Para esto, podemos usar el método .pop()."
      ],
      "metadata": {
        "id": "tqs_0i00QXyg"
      }
    },
    {
      "cell_type": "code",
      "source": [
        "prizes ={19284: \"Entradas a Cine\", 8362: \"Combo de Crispetas\", 6528: \"Helado\"}\n",
        "print(prizes.pop (2574, \"No Prize\"))\n",
        "print(prizes.pop (19284, \"No Prize\"))\n",
        "print(prizes)\n"
      ],
      "metadata": {
        "id": "XKzLyA1hQiQ2",
        "outputId": "ead62ee7-b216-4045-ed7a-37018409fa45",
        "colab": {
          "base_uri": "https://localhost:8080/"
        }
      },
      "execution_count": null,
      "outputs": [
        {
          "output_type": "stream",
          "name": "stdout",
          "text": [
            "No Prize\n",
            "Entradas a Cine\n",
            "{8362: 'Combo de Crispetas', 6528: 'Helado'}\n"
          ]
        }
      ]
    },
    {
      "cell_type": "code",
      "source": [
        "items_to_sell= {\"Collar\": 1000, \"Poción\": 300, \"Espada\": 2500}\n",
        "current_money = 150\n",
        "#Vender Espada:\n",
        "current_money += items_to_sell.pop(\"Espada\", 0)\n",
        "print(current_money)\n",
        "print(items_to_sell)"
      ],
      "metadata": {
        "id": "fAYucddeQijG",
        "outputId": "18cba7df-b787-4866-fb1a-e07e02b900d5",
        "colab": {
          "base_uri": "https://localhost:8080/"
        }
      },
      "execution_count": null,
      "outputs": [
        {
          "output_type": "stream",
          "name": "stdout",
          "text": [
            "2650\n",
            "{'Collar': 1000, 'Poción': 300}\n"
          ]
        }
      ]
    },
    {
      "cell_type": "markdown",
      "source": [
        "###obtener todas las llaves"
      ],
      "metadata": {
        "id": "g7AaGV41R2ah"
      }
    },
    {
      "cell_type": "code",
      "source": [
        "items_to_sell= {\"Collar\": 1000, \"Poción\": 300, \"Espada\": 2500}\n",
        "list_of_keys = list(items_to_sell)\n",
        "print(list_of_keys)\n",
        "all_keys= items_to_sell.keys()\n",
        "print(all_keys)\n",
        "for item in all_keys:\n",
        "  print(item)"
      ],
      "metadata": {
        "id": "gvpIXp-9R2DS"
      },
      "execution_count": null,
      "outputs": []
    },
    {
      "cell_type": "markdown",
      "source": [
        "###obtener todos los valores"
      ],
      "metadata": {
        "id": "TlH__R26Qh0Y"
      }
    },
    {
      "cell_type": "code",
      "source": [
        "items_to_sell {\"Collar\": 1000, \"Poción\": 300, \"Espada\": 2500}\n",
        "all_values = items_to_sell.values()\n",
        "print(all_values) for item in all_values:\n",
        "  print(item)"
      ],
      "metadata": {
        "id": "XtxR1BELSV3k"
      },
      "execution_count": null,
      "outputs": []
    },
    {
      "cell_type": "markdown",
      "source": [
        "###obtener todos los items\n",
        "  "
      ],
      "metadata": {
        "id": "wmuOMglOSutM"
      }
    },
    {
      "cell_type": "code",
      "source": [
        "items_to_sell = {\"Collar\": 1000, \"Poción\": 300, \"Espada\": 2500}\n",
        "all_items = items_to_sell.items()\n",
        "print(all_items)\n",
        "for key, value in all_items:\n",
        "  print(f\"Tu (key) vale ${value}.\")"
      ],
      "metadata": {
        "id": "WlEcNkpgS8vA"
      },
      "execution_count": null,
      "outputs": []
    },
    {
      "cell_type": "markdown",
      "source": [
        "***"
      ],
      "metadata": {
        "id": "EB_FirTYQKv9"
      }
    },
    {
      "cell_type": "code",
      "source": [],
      "metadata": {
        "id": "XdCsamwPTH-C"
      },
      "execution_count": null,
      "outputs": []
    }
  ]
}