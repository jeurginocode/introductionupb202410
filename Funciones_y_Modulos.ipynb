{
  "nbformat": 4,
  "nbformat_minor": 0,
  "metadata": {
    "colab": {
      "provenance": [],
      "authorship_tag": "ABX9TyPGl1gZQpmsc0s34g/eWlJZ",
      "include_colab_link": true
    },
    "kernelspec": {
      "name": "python3",
      "display_name": "Python 3"
    },
    "language_info": {
      "name": "python"
    }
  },
  "cells": [
    {
      "cell_type": "markdown",
      "metadata": {
        "id": "view-in-github",
        "colab_type": "text"
      },
      "source": [
        "<a href=\"https://colab.research.google.com/github/jeurginocode/introductionupb202410/blob/main/Funciones_y_Modulos.ipynb\" target=\"_parent\"><img src=\"https://colab.research.google.com/assets/colab-badge.svg\" alt=\"Open In Colab\"/></a>"
      ]
    },
    {
      "cell_type": "markdown",
      "source": [
        "##funciones\n",
        "funcion:\n",
        "modulos: se refiere cuando se quire hacer solamente una tariea en especifica como solamente sumar, rstar,  "
      ],
      "metadata": {
        "id": "85C1lF1tvwyj"
      }
    },
    {
      "cell_type": "code",
      "execution_count": null,
      "metadata": {
        "id": "o4RlWvlavv79"
      },
      "outputs": [],
      "source": [
        "# PSEUDOCODIGO\n",
        "# Program calcular_hipotenusa\n",
        "# Start\n",
        "#   Module main()\n",
        "#     Declare Real a, b, h\n",
        "#     Set h = hipotenusa(a, b)\n",
        "#   End Module\n",
        "#   Display h\n",
        "#   Function Real hipotenusa (Real a, Real b)\n",
        "#     Declare Real h\n",
        "#     Seth = (a^2+b^2)^(1/2)\n",
        "#     Return h\n",
        "#   End Function\n",
        "# Stop\n",
        "\n"
      ]
    },
    {
      "cell_type": "markdown",
      "source": [],
      "metadata": {
        "id": "hDCgJV9g5Er6"
      }
    },
    {
      "cell_type": "code",
      "source": [
        "# program promedio_dedosnumeros\n",
        "\n",
        "# start\n",
        "# \tModule main()\n",
        "# \t\tDeclare Real a,b\n",
        "# \t\tser h= prom(a,b)\n",
        "# \t\tDisplay h\n",
        "# \tEnd Module\n",
        "\n",
        "# \tFuntion Real prom(real a, real b)\n",
        "# \t\tDeclare Real h\n",
        "# \t\tSet h=(a+b)/2\n",
        "# \t\tReturn h\n",
        "# \tEnd Funtion\n",
        "\n",
        "\n"
      ],
      "metadata": {
        "id": "R9fi1ARavwbs"
      },
      "execution_count": null,
      "outputs": []
    }
  ]
}