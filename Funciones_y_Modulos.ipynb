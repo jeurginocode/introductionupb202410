{
  "nbformat": 4,
  "nbformat_minor": 0,
  "metadata": {
    "colab": {
      "provenance": [],
      "authorship_tag": "ABX9TyMwwt9ECRmRsZvrFOhAabeT",
      "include_colab_link": true
    },
    "kernelspec": {
      "name": "python3",
      "display_name": "Python 3"
    },
    "language_info": {
      "name": "python"
    }
  },
  "cells": [
    {
      "cell_type": "markdown",
      "metadata": {
        "id": "view-in-github",
        "colab_type": "text"
      },
      "source": [
        "<a href=\"https://colab.research.google.com/github/jeurginocode/introductionupb202410/blob/main/Funciones_y_Modulos.ipynb\" target=\"_parent\"><img src=\"https://colab.research.google.com/assets/colab-badge.svg\" alt=\"Open In Colab\"/></a>"
      ]
    },
    {
      "cell_type": "markdown",
      "source": [
        "##modulos\n",
        "se refiere cuando se quire hacer solamente una tariea en especifica como solamente sumar, restar.  "
      ],
      "metadata": {
        "id": "6Ap7CYYU-tFh"
      }
    },
    {
      "cell_type": "markdown",
      "source": [
        "#funciones\n",
        ":se refiere a una serie de intrucciones guarda <br>\n",
        "* La tarea general que debe realizar el programa se divide en una\n",
        "serie de subtareas.\n",
        "*   Se examina cada una de las subtareas para determinar si se puede\n",
        "además se divide en más subtareas. Este paso se repite hasta que no se puedan identificar más subtareas.\n",
        "\n",
        "**PSUDOCODIGO:**\n",
        "\n",
        "```\n",
        "Function DataType FunctionName(ParameterList)\n",
        "  statement\n",
        "  statement\n",
        "  …\n",
        "  Return value\n",
        "End Function\n",
        "---\n",
        "Function Integer sum(Integer num_1, Integer num_2)\n",
        "Declare Integer result\n",
        "Set result = num_1 + num_2\n",
        "Return result\n",
        "End Function\n",
        "```\n",
        "\n",
        "**CODIGO**\n",
        "* Definiendo fuciones\n",
        "```\n",
        "def say_hello():\n",
        "    print(\"Hola :)\"\n",
        "\n",
        "  def function_name (parameters):    \n",
        "  #Encabezado de función # Acciones\n",
        "```\n",
        "\n",
        "*   Llamando Funciones\n",
        "\n",
        "\n",
        "\n"
      ],
      "metadata": {
        "id": "85C1lF1tvwyj"
      }
    },
    {
      "cell_type": "markdown",
      "source": [
        "#ejemplos\n",
        "\n"
      ],
      "metadata": {
        "id": "4waFuMJv_C-B"
      }
    },
    {
      "cell_type": "code",
      "execution_count": null,
      "metadata": {
        "id": "o4RlWvlavv79"
      },
      "outputs": [],
      "source": [
        "# PSEUDOCODIGO\n",
        "# Program calcular_hipotenusa\n",
        "# Start\n",
        "#   Module main()\n",
        "#     Declare Real a, b, h\n",
        "#     Set h = hipotenusa(a, b)\n",
        "#   End Module\n",
        "#   Display h\n",
        "#   Function Real hipotenusa (Real a, Real b)\n",
        "#     Declare Real h\n",
        "#     Seth = (a^2+b^2)^(1/2)\n",
        "#     Return h\n",
        "#   End Function\n",
        "# Stop\n",
        "\n",
        "\n"
      ]
    },
    {
      "cell_type": "code",
      "source": [
        "# Program calcular hipotenusa\n",
        "# Start\n",
        "#   Module main()\n",
        "#     Declare Real a, b, h\n",
        "#     Seth hipotenusa(a, b)\n",
        "#     Display h\n",
        "#   End Module\n",
        "\n",
        "#   Function Real hipotenusa (Real a, Real b)\n",
        "#     Declare Real h\n",
        "#     Seth (a^2+b^2)^(1/2)\n",
        "#     Return h\n",
        "#   End Function\n",
        "# Stop"
      ],
      "metadata": {
        "id": "ZhEJevaOn9g9"
      },
      "execution_count": null,
      "outputs": []
    },
    {
      "cell_type": "code",
      "source": [
        "# program promedio_dedosnumeros\n",
        "\n",
        "# start\n",
        "# \tModule main()\n",
        "# \t\tDeclare Real a,b\n",
        "# \t\tser h= prom(a,b)\n",
        "# \t\tDisplay h\n",
        "# \tEnd Module\n",
        "\n",
        "# \tFuntion Real prom(real a, real b)\n",
        "# \t\tDeclare Real h\n",
        "# \t\tSet h=(a+b)/2\n",
        "# \t\tReturn h\n",
        "# \tEnd Funtion\n",
        "\n",
        "\n"
      ],
      "metadata": {
        "id": "R9fi1ARavwbs"
      },
      "execution_count": null,
      "outputs": []
    },
    {
      "cell_type": "markdown",
      "source": [
        "###ejemplos modulos"
      ],
      "metadata": {
        "id": "hlwclHw0pzNg"
      }
    },
    {
      "cell_type": "code",
      "source": [
        "#  crear una matriz que van de un numero minimo ha otro maximo\n",
        "# A = [[1,  4,  5],\n",
        "#         [-5,  8,  9]]\n",
        "\n",
        "\n",
        "# print (A)\n",
        "# print (type (A))\n",
        "\n",
        "\n",
        "figurita= []:\n",
        "\n",
        "for i in range(3):\n",
        "  temp=[]\n",
        "  for j in range(2):\n",
        "    temp.append(1)\n",
        "  figurita.append(temp)\n"
      ],
      "metadata": {
        "id": "NCUfVn_DqBzO",
        "outputId": "718a3d32-6c5d-4663-af0c-c28d94ff5836",
        "colab": {
          "base_uri": "https://localhost:8080/"
        }
      },
      "execution_count": 1,
      "outputs": [
        {
          "output_type": "stream",
          "name": "stdout",
          "text": [
            "[[1, 4, 5], [-5, 8, 9]]\n",
            "<class 'list'>\n"
          ]
        }
      ]
    },
    {
      "cell_type": "markdown",
      "source": [],
      "metadata": {
        "id": "uKqQKRk_p64P"
      }
    },
    {
      "cell_type": "markdown",
      "source": [
        "###ejemplos de fuciones"
      ],
      "metadata": {
        "id": "6lCn9vKUXcvk"
      }
    },
    {
      "cell_type": "code",
      "execution_count": null,
      "metadata": {
        "id": "pNF8PO_C09A4"
      },
      "outputs": [],
      "source": [
        "def hipotenusa(a, b):\n",
        "  return ( a ** 2 + b ** 2 ) ** (1 / 2)\n",
        "\n",
        "a = 3\n",
        "b = 4\n",
        "\n",
        "print(hipotenusa(a, b))"
      ]
    },
    {
      "cell_type": "code",
      "source": [
        "registro_1 = {\"datetime\": \"2024-04-03 13:07\" ,\"humedad\": 0.20, \"nivel\": 10}"
      ],
      "metadata": {
        "id": "T6EsZrWuFyXC"
      },
      "execution_count": null,
      "outputs": []
    },
    {
      "cell_type": "code",
      "source": [
        "frase = \"A la grande le puse Pucca\"\n",
        "nombre = \"pucca\"\n",
        "\n",
        "def validar_nombre_en_frase(frase, nombre):\n",
        "    if nombre.lower() in frase.lower():\n",
        "        print(\"El nombre sí está en la frase\")\n",
        "    else:\n",
        "        print(\"El nombre no está en la frase\")\n",
        "\n",
        "validar_nombre_en_frase(frase, nombre)\n",
        "\n",
        "frase = \"Mi nombre es Bond. James Bond\"\n",
        "nombre = \"Clark\"\n",
        "\n",
        "validar_nombre_en_frase(frase, nombre)"
      ],
      "metadata": {
        "id": "AmzbMmSeJRVU"
      },
      "execution_count": null,
      "outputs": []
    },
    {
      "cell_type": "code",
      "source": [
        "def letras_intercaladas(word):\n",
        "    new_word = \"\"\n",
        "    for i in range(0, len(word), 2):\n",
        "        new_word += word[i]\n",
        "    return new_word\n",
        "\n",
        "word = \"Miguelangelo\"\n",
        "new_word = letras_intercaladas(word)\n",
        "print(new_word)"
      ],
      "metadata": {
        "id": "FFmKyFhpQKYO"
      },
      "execution_count": null,
      "outputs": []
    },
    {
      "cell_type": "code",
      "source": [
        "def invertir_palabra(word):\n",
        "    new_word = \"\"\n",
        "    for i in range(len(word)-1, -1, -1):\n",
        "        new_word += word[i]\n",
        "    return new_word\n",
        "\n",
        "new_word = invertir_palabra(\"Inmarcesible\")\n",
        "print(new_word)"
      ],
      "metadata": {
        "id": "rd-0_bgIQVic",
        "outputId": "09345956-c4f6-4227-8fe6-1a79a0165900",
        "colab": {
          "base_uri": "https://localhost:8080/"
        }
      },
      "execution_count": null,
      "outputs": [
        {
          "output_type": "stream",
          "name": "stdout",
          "text": [
            "elbisecramnI\n"
          ]
        }
      ]
    },
    {
      "cell_type": "code",
      "source": [
        "def invertir_palabra(word):\n",
        "    return word[::-1]\n",
        "\n",
        "new_word = invertir_palabra(\"Salchipapa\")\n",
        "print(new_word)"
      ],
      "metadata": {
        "id": "oZNYNC86QV6F",
        "outputId": "6e8fecd1-600a-457c-bbd2-19342ad9b560",
        "colab": {
          "base_uri": "https://localhost:8080/"
        }
      },
      "execution_count": null,
      "outputs": [
        {
          "output_type": "stream",
          "name": "stdout",
          "text": [
            "apapihclaS\n"
          ]
        }
      ]
    },
    {
      "cell_type": "code",
      "source": [
        "def es_palindrome(frase):\n",
        "    x = \"\".join(frase.split()).lower()\n",
        "    if x == x[::-1]:\n",
        "        print(\"La frase es palíndrome.\")\n",
        "    else:\n",
        "        print(\"La frase NO es palíndrome.\")\n",
        "\n",
        "es_palindrome(\"amo la paloma\")\n",
        "es_palindrome(\"anita lava la tina\")\n",
        "es_palindrome(\"Dabale arroz a la zorra el abad\")\n",
        "es_palindrome(\"Rayos\")"
      ],
      "metadata": {
        "id": "1nHDkgj2QZPh"
      },
      "execution_count": null,
      "outputs": []
    },
    {
      "cell_type": "code",
      "source": [
        "# reescriba su cálculo salarial con tiempo y medio para las horas extra y cree una función llamada computepayque tome dos parámetros ( hours y rate).\n",
        "\n",
        "# Enter Hours: 45\n",
        "# Enter Rate: 10\n",
        "# Pay: 475.0\n",
        "\n",
        "\n",
        "\n",
        "def computepayque(hours, rate):\n",
        "    if hours >= 40:\n",
        "      hours_extra=hours-40\n",
        "      rate_pay=((1.5*rate)*(hours_extra))\n",
        "      pay=rate_pay+(rate*40)\n",
        "    else:\n",
        "      pay=hours * rate\n",
        "    pay=float(pay)\n",
        "    return pay\n",
        "\n",
        "a=float(input(\"horas\"))\n",
        "d=float(input(\"tarifa\"))\n",
        "\n",
        "\n",
        "b= computepayque(a, d)\n",
        "\n",
        "print(\"pay:\", b)\n"
      ],
      "metadata": {
        "id": "jfe9nU9aefFW",
        "outputId": "f463fbf2-5511-441f-f5ce-13e61f5bbc0e",
        "colab": {
          "base_uri": "https://localhost:8080/"
        }
      },
      "execution_count": null,
      "outputs": [
        {
          "output_type": "stream",
          "name": "stdout",
          "text": [
            "horas45\n",
            "tarifa10\n",
            "pay: 475.0\n"
          ]
        }
      ]
    },
    {
      "cell_type": "code",
      "source": [],
      "metadata": {
        "id": "JmsLAt-FtyhT"
      },
      "execution_count": null,
      "outputs": []
    },
    {
      "cell_type": "markdown",
      "source": [
        "##ejemplos de diccionarios y fucciones"
      ],
      "metadata": {
        "id": "QPOtAE7CXXNN"
      }
    },
    {
      "cell_type": "code",
      "source": [
        "sujeto = ['Mami ', 'Bebé ', 'Princes ', 'Mami ', 'Brrr ', 'Reina ', 'Hermosa ']\n",
        "intencion = ['yo quiero ', 'yo puedo ', 'yo vengo a ', 'voy a ', 'pretendo ', 'me gustaría ']\n",
        "accion = ['encendelte ', 'amalte ', 'ligar ', 'jugar ', 'cocinar ', 'trabajar ']\n",
        "adjetivo = ['suave ', 'lento ', 'rápido ', 'fuerte ', 'duro ', 'convencido ']\n",
        "duracion = ['hasta que salga el sol ', 'toda la noche ', 'hasta el amanecer ', 'todo el dia ', 'por la noche ']\n",
        "manera = ['sin anestecia.', 'sin compromiso.', 'feis to feis.', 'sin miedo.', 'intensamente.']\n",
        "palabras_reggaeton = [sujeto, intencion, accion, adjetivo, duracion, manera]\n",
        "\n",
        "\n",
        "def palabras_ramdon(reggaton):\n",
        "  import random\n",
        "  verso = \"\"\n",
        "  for palabras in reggaton:\n",
        "    verso += str(random.choice(palabras))\n",
        "    print(verso)\n",
        "  return verso\n",
        "\n",
        "print(palabras_ramdon(palabras_reggaeton))"
      ],
      "metadata": {
        "id": "vwzntub-lxw5",
        "outputId": "a4c4488f-bae1-477d-e608-c22169992b7b",
        "colab": {
          "base_uri": "https://localhost:8080/"
        }
      },
      "execution_count": null,
      "outputs": [
        {
          "output_type": "stream",
          "name": "stdout",
          "text": [
            "Bebé \n",
            "Bebé me gustaría \n",
            "Bebé me gustaría amalte \n",
            "Bebé me gustaría amalte suave \n",
            "Bebé me gustaría amalte suave todo el dia \n",
            "Bebé me gustaría amalte suave todo el dia intensamente.\n",
            "Bebé me gustaría amalte suave todo el dia intensamente.\n"
          ]
        }
      ]
    },
    {
      "cell_type": "markdown",
      "source": [
        "##ejemplos de biccionarios"
      ],
      "metadata": {
        "id": "eUyrB_a2XP-r"
      }
    },
    {
      "cell_type": "code",
      "source": [
        "student_1 = {\"name\": \"Homero\", \"edad\": 15, \"genero\": \"M\", \"promedio\": 2.5}\n",
        "student_2 = {\"name\": \"Lisa\", \"edad\": 14, \"genero\": \"F\", \"promedio\": 4.8}\n",
        "student_3 = {\"name\": \"Bart\", \"edad\":14, \"genero\": \"M\", \"promedio\": 2.9}\n",
        "\n",
        "students = [student_1, student_2, student_3]\n",
        "\n",
        "#print(students)\n",
        "\n",
        "#Imprimir lista de estudiantes\n",
        "\n",
        "for student in students:\n",
        "  print(student[\"name\"])\n",
        "\n",
        "#Promedio de edades\n",
        "edad_prom = 0\n",
        "if len(students) > 0:\n",
        "  for student in students:\n",
        "    edad_prom += student[\"edad\"]\n",
        "  edad_prom /= len(students)\n",
        "  print(f\"Edad promedio: {edad_prom:.2f}\")\n",
        "else:\n",
        "  print(\"No hay estudiantes en la lista.\")\n",
        "\n",
        "#Promedio de notas\n",
        "nota_prom = 0\n",
        "if len(students) > 0:\n",
        "  for student in students:\n",
        "    nota_prom += student[\"promedio\"]\n",
        "  nota_prom /= len(students)\n",
        "  print(f\"Nota promedio: {nota_prom:.2f}\")\n",
        "else:\n",
        "  print(\"No hay estudiantes en la lista.\")"
      ],
      "metadata": {
        "id": "lp97-wK71Xl4"
      },
      "execution_count": null,
      "outputs": []
    },
    {
      "cell_type": "code",
      "source": [
        "mis_dato={}\n",
        "x=[1,2,3,4]\n",
        "y=[9,10,11,23]\n",
        "z=[96.32.56.28]\n",
        "\n",
        "mis_dato[\"x\"]=x\n",
        "mis_dato[\"y\"]=y\n",
        "mis_dato[\"z\"]=Z\n",
        "\n",
        "import random\n",
        "code= \"\"\n",
        "for key in mis_dato.keys():\n",
        "  verso= str(random.choice(palabras_reggaeton(key)))\n"
      ],
      "metadata": {
        "id": "Y3RL16AQmoWr"
      },
      "execution_count": null,
      "outputs": []
    },
    {
      "cell_type": "markdown",
      "source": [
        "#diccionarios\n",
        "\n"
      ],
      "metadata": {
        "id": "ii63TAdZDnCy"
      }
    },
    {
      "cell_type": "markdown",
      "source": [
        "##**se define como:**\n",
        "* Conjunto desordenado de parejas llave:valor (key:value)\n",
        "* Forma rápida de mapear datos relacionados.\n",
        "\n",
        "\n",
        "\n"
      ],
      "metadata": {
        "id": "AzHwrKVAEDxs"
      }
    },
    {
      "cell_type": "code",
      "source": [
        "menu = {\"Cabeza de gato\": 1000, \"Yuca\": 800, \"Huevo Cocido\": 700}\n",
        "print(menu)\n",
        "# >>>{'Cabeza de gato': 1000, 'Yuca': 800, 'Huevo Cocido': 700}"
      ],
      "metadata": {
        "id": "dCgGJJWTHyZk",
        "colab": {
          "base_uri": "https://localhost:8080/"
        },
        "outputId": "04a1fc4c-1a78-428d-f1a4-b6937b4fc67e"
      },
      "execution_count": null,
      "outputs": [
        {
          "output_type": "stream",
          "name": "stdout",
          "text": [
            "{'Cabeza de gato': 1000, 'Yuca': 800, 'Huevo Cocido': 700}\n"
          ]
        }
      ]
    },
    {
      "cell_type": "markdown",
      "source": [
        "***\n",
        "* Los valores para cada llave pueden ser de cualquier tipo.\n",
        "* Las llaves pueden ser strings o números."
      ],
      "metadata": {
        "id": "Rr_AHgHSifMO"
      }
    },
    {
      "cell_type": "code",
      "source": [
        "person = {\"name\": \"Miguel\", \"age\": 30, \"hobbies\": [\"reading\", \"listening to music\", \"cooking\"]}\n",
        "print(person)"
      ],
      "metadata": {
        "id": "kyls-vLyVXCL",
        "colab": {
          "base_uri": "https://localhost:8080/"
        },
        "outputId": "2fb06ab1-6578-49eb-c6fe-38e1cc2f54e6"
      },
      "execution_count": null,
      "outputs": [
        {
          "output_type": "stream",
          "name": "stdout",
          "text": [
            "{'name': 'Miguel', 'age': 30, 'hobbies': ['reading', 'listening to music', 'cooking']}\n"
          ]
        }
      ]
    },
    {
      "cell_type": "markdown",
      "source": [
        "\n",
        "***\n",
        "* Los diccionarios dependen de que cada llave posea un hash value, un\n",
        "identificador específico que se mantenga inmutable, como en el caso\n",
        "de los números o strings.\n",
        "\n",
        "* Los diccionarios también pueden ser creados vacíos.Las llaves, {} representan un diccionario vacío.Para agregar elementos al diccionario, puede utilizar corchetes:[ ]"
      ],
      "metadata": {
        "id": "8UMVijCzkx7H"
      }
    },
    {
      "cell_type": "code",
      "source": [
        "empty_dict = {}\n",
        "print(empty_dict)\n",
        "\n",
        "# Para agregar elementos al diccionario, puede utilizar corchetes:\n",
        "empty_dict['one'] = 'uno'\n",
        "print(empty_dict)"
      ],
      "metadata": {
        "colab": {
          "base_uri": "https://localhost:8080/"
        },
        "id": "BvcJ8c9olrfW",
        "outputId": "d9eb1c68-72f6-4e96-b591-8538db10e0d7"
      },
      "execution_count": null,
      "outputs": [
        {
          "output_type": "stream",
          "name": "stdout",
          "text": [
            "{}\n",
            "{'one': 'uno'}\n"
          ]
        }
      ]
    },
    {
      "cell_type": "markdown",
      "source": [
        "*   Tambien se puede hacer un dicionario con la funcion` dict()`\n",
        "\n",
        "\n",
        "\n",
        "\n"
      ],
      "metadata": {
        "id": "jZmeqOE3VrOi"
      }
    },
    {
      "cell_type": "code",
      "source": [
        "cabinet = dict()\n",
        "cabinet['summer'] = 12\n",
        "cabinet['fall'] = 3\n",
        "cabinet['spring'] = 75\n",
        "print(cabinet)\n",
        "#------\n",
        "print(cabinet['fall'])\n",
        "#------\n",
        "cabinet['fall'] = cabinet['fall'] + 2\n",
        "\n",
        "print(cabinet)"
      ],
      "metadata": {
        "id": "NZEuKmwDY8KU",
        "outputId": "19559268-77cf-4b5f-b652-62ef18841b6d",
        "colab": {
          "base_uri": "https://localhost:8080/"
        }
      },
      "execution_count": null,
      "outputs": [
        {
          "output_type": "stream",
          "name": "stdout",
          "text": [
            "{'summer': 12, 'fall': 3, 'spring': 75}\n",
            "3\n",
            "{'summer': 12, 'fall': 5, 'spring': 75}\n"
          ]
        }
      ]
    },
    {
      "cell_type": "markdown",
      "source": [],
      "metadata": {
        "id": "kWnKulP2Y7dz"
      }
    },
    {
      "cell_type": "markdown",
      "source": [],
      "metadata": {
        "id": "L3NqQvl1yxFa"
      }
    },
    {
      "cell_type": "markdown",
      "source": [
        "## cosas que se puede hacer con diccionarios:\n",
        "\n",
        "\n"
      ],
      "metadata": {
        "id": "xpuRxM0XN_UL"
      }
    },
    {
      "cell_type": "markdown",
      "source": [
        "###Agregar Llaves\n"
      ],
      "metadata": {
        "id": "otfxiT2NyOXc"
      }
    },
    {
      "cell_type": "code",
      "source": [
        "menu ={\"Cabeza de gato\": 1000, \"Yuca\": 800, \"Huevo Cocido\": 700}\n",
        "print(menu)\n",
        "menu[\"Papa\"] = 800\n",
        "print(menu)"
      ],
      "metadata": {
        "colab": {
          "base_uri": "https://localhost:8080/"
        },
        "id": "QtjbRSlvyNpc",
        "outputId": "0fc1f0fa-d294-48da-a41b-0633411bc14a"
      },
      "execution_count": null,
      "outputs": [
        {
          "output_type": "stream",
          "name": "stdout",
          "text": [
            "{'Cabeza de gato': 1000, 'Yuca': 800, 'Huevo Cocido': 700}\n",
            "{'Cabeza de gato': 1000, 'Yuca': 800, 'Huevo Cocido': 700, 'Papa': 800}\n"
          ]
        }
      ]
    },
    {
      "cell_type": "markdown",
      "source": [
        "###agregar varias llaves\n"
      ],
      "metadata": {
        "id": "XCwCL4rHzjDV"
      }
    },
    {
      "cell_type": "code",
      "source": [
        "menu= {\"Cabeza de gato\": 1000, \"Yuca\": 300, \"Huevo Cocido\": 700}\n",
        "print(menu)\n",
        "menu.update({\"Papa\": 300, \"Arepa de Queso\":1500})\n",
        "print(menu)"
      ],
      "metadata": {
        "colab": {
          "base_uri": "https://localhost:8080/"
        },
        "id": "33heSkP8zwLl",
        "outputId": "fc8cb723-8da0-41b2-88e4-0800de7f9463"
      },
      "execution_count": null,
      "outputs": [
        {
          "output_type": "stream",
          "name": "stdout",
          "text": [
            "{'Cabeza de gato': 1000, 'Yuca': 300, 'Huevo Cocido': 700}\n",
            "{'Cabeza de gato': 1000, 'Yuca': 300, 'Huevo Cocido': 700, 'Papa': 300, 'Arepa de Queso': 1500}\n"
          ]
        }
      ]
    },
    {
      "cell_type": "markdown",
      "source": [
        "###Sobrescribir Valores\n"
      ],
      "metadata": {
        "id": "Dnb__ZJF0oo9"
      }
    },
    {
      "cell_type": "code",
      "source": [
        "menu ={\"Cabeza de gato\": 1000, \"Yuca\": 300, \"Huevo Cocido\": 700}\n",
        "print(menu)\n",
        "menu[\"Yuca\"] = 1000\n",
        "print(menu)"
      ],
      "metadata": {
        "colab": {
          "base_uri": "https://localhost:8080/"
        },
        "id": "o6yQfhZC1MLf",
        "outputId": "a86e7ac7-82b7-40ad-acf5-99bdc7c19a46"
      },
      "execution_count": null,
      "outputs": [
        {
          "output_type": "stream",
          "name": "stdout",
          "text": [
            "{'Cabeza de gato': 1000, 'Yuca': 300, 'Huevo Cocido': 700}\n",
            "{'Cabeza de gato': 1000, 'Yuca': 1000, 'Huevo Cocido': 700}\n"
          ]
        }
      ]
    },
    {
      "cell_type": "markdown",
      "source": [
        "###compresiones de diccionarios"
      ],
      "metadata": {
        "id": "dUymsNUd1ZR9"
      }
    },
    {
      "cell_type": "code",
      "source": [
        "names = [\"Jimena\", \"Juan Pablo\", \"Santiago\"]\n",
        "scores= [80, 75, 77]\n",
        "grades = {key: value*5/100 for key, value in zip(names, scores)}\n",
        "print(grades)"
      ],
      "metadata": {
        "colab": {
          "base_uri": "https://localhost:8080/"
        },
        "id": "9xEOMzTi2EpZ",
        "outputId": "f8f388d1-ea03-4d51-cf3b-d23568976ec0"
      },
      "execution_count": null,
      "outputs": [
        {
          "output_type": "stream",
          "name": "stdout",
          "text": [
            "{'Jimena': 4.0, 'Juan Pablo': 3.75, 'Santiago': 3.85}\n"
          ]
        }
      ]
    },
    {
      "cell_type": "markdown",
      "source": [
        "##llaves\n",
        "\n",
        "\n"
      ],
      "metadata": {
        "id": "WebbtkST2grO"
      }
    },
    {
      "cell_type": "markdown",
      "source": [
        "###obtener una llave\n",
        "\n",
        "* Una vez tengas un diccionario, puedes acceder a sus valores indicando\n",
        "su llave."
      ],
      "metadata": {
        "id": "iyZrRlN828UV"
      }
    },
    {
      "cell_type": "code",
      "source": [
        "city_areas= {\"Montería\": 3141, \"Cartagena\": 609, \"Barranquilla\": 154, \"Sincelejo\": 284}\n",
        "print(city_areas [\"Montería\"])"
      ],
      "metadata": {
        "colab": {
          "base_uri": "https://localhost:8080/"
        },
        "id": "uuv-I2Qw3su7",
        "outputId": "459e71fa-b66b-4373-9b0f-1de43fa781d8"
      },
      "execution_count": null,
      "outputs": [
        {
          "output_type": "stream",
          "name": "stdout",
          "text": [
            "3141\n"
          ]
        }
      ]
    },
    {
      "cell_type": "markdown",
      "source": [
        "\n",
        "\n",
        "*   si no aparece especificada va ha paracer un error:\n"
      ],
      "metadata": {
        "id": "1ulvNcjL4t3x"
      }
    },
    {
      "cell_type": "code",
      "source": [
        "city_areas= {\"Montería\": 3141, \"Cartagena\": 609, \"Barranquilla\": 154, \"Sincelejo\": 284}\n",
        "print(city_areas[\"Riohacha\"])\n",
        "#key error: \"Riohacha\""
      ],
      "metadata": {
        "id": "lYMu-p695Ibf"
      },
      "execution_count": null,
      "outputs": []
    },
    {
      "cell_type": "markdown",
      "source": [
        "###llaves invalidas\n"
      ],
      "metadata": {
        "id": "pHBc6mUNOba3"
      }
    },
    {
      "cell_type": "code",
      "source": [
        "city_areas= {\"Monteria\": 3141, \"Cartagena\": 609, \"Barranquilla\": 154, \"Sincelejo\": 284}\n",
        "if \"Riohacha\" in city_areas:\n",
        "  print(city_areas [\"Riohacha\"])\n",
        "else:\n",
        "  print(\"Ciudad no encontrada\")"
      ],
      "metadata": {
        "id": "h_fkVMJm5Eic",
        "outputId": "f77a4420-e98f-4d7d-f99b-e5dfc2b86c91",
        "colab": {
          "base_uri": "https://localhost:8080/"
        }
      },
      "execution_count": null,
      "outputs": [
        {
          "output_type": "stream",
          "name": "stdout",
          "text": [
            "Ciudad no encontrada\n"
          ]
        }
      ]
    },
    {
      "cell_type": "markdown",
      "source": [
        "###Try/Except\n"
      ],
      "metadata": {
        "id": "rbTwqESaPK4y"
      }
    },
    {
      "cell_type": "code",
      "source": [
        "city_areas = {\"Monteria\": 3141, \"Cartagena\": 609, \"Barranquilla\": 154, \"Sincelejo\": 284}\n",
        "key_to_check = \"Riohacha\"\n",
        "try:\n",
        "  print(city_areas [key_to_check])\n",
        "except KeyError:\n",
        "  print(\"La llave no existe.\")"
      ],
      "metadata": {
        "id": "01evGQ0APKh9",
        "outputId": "85ef6738-554c-4287-a48d-e103810e8581",
        "colab": {
          "base_uri": "https://localhost:8080/"
        }
      },
      "execution_count": null,
      "outputs": [
        {
          "output_type": "stream",
          "name": "stdout",
          "text": [
            "La llave no existe.\n"
          ]
        }
      ]
    },
    {
      "cell_type": "markdown",
      "source": [
        "###Obtener una Llave de forma segura\n",
        "* No podemos predecir cada llave que el usuario pueda llamar. El\n",
        "método .get() nos permite buscar un valor de forma segura.\n"
      ],
      "metadata": {
        "id": "hwznUMLX3qki"
      }
    },
    {
      "cell_type": "code",
      "source": [
        "city_areas = {\"Monteria\": 3141, \"Cartagena\": 609, \"Barranquilla\": 154, \"Sincelejo\": 284}\n",
        "print(city_areas.get(\"Riohacha\"))\n",
        "print(city_areas.get(\"Riohacha\", \"Not Found\"))"
      ],
      "metadata": {
        "id": "OJHyAn_EQMkW",
        "outputId": "9a3b4975-6438-443b-8393-a95c8f9cb99f",
        "colab": {
          "base_uri": "https://localhost:8080/"
        }
      },
      "execution_count": null,
      "outputs": [
        {
          "output_type": "stream",
          "name": "stdout",
          "text": [
            "None\n",
            "Not Found\n"
          ]
        }
      ]
    },
    {
      "cell_type": "markdown",
      "source": [
        "###Borrar una llave\n",
        "* En algunas ocasiones queremos obtener una llave y removerla del\n",
        "diccionario. Para esto, podemos usar el método .pop()."
      ],
      "metadata": {
        "id": "tqs_0i00QXyg"
      }
    },
    {
      "cell_type": "code",
      "source": [
        "prizes ={19284: \"Entradas a Cine\", 8362: \"Combo de Crispetas\", 6528: \"Helado\"}\n",
        "print(prizes.pop (2574, \"No Prize\"))\n",
        "print(prizes.pop (19284, \"No Prize\"))\n",
        "print(prizes)\n"
      ],
      "metadata": {
        "id": "XKzLyA1hQiQ2",
        "outputId": "ead62ee7-b216-4045-ed7a-37018409fa45",
        "colab": {
          "base_uri": "https://localhost:8080/"
        }
      },
      "execution_count": null,
      "outputs": [
        {
          "output_type": "stream",
          "name": "stdout",
          "text": [
            "No Prize\n",
            "Entradas a Cine\n",
            "{8362: 'Combo de Crispetas', 6528: 'Helado'}\n"
          ]
        }
      ]
    },
    {
      "cell_type": "code",
      "source": [
        "items_to_sell= {\"Collar\": 1000, \"Poción\": 300, \"Espada\": 2500}\n",
        "current_money = 150\n",
        "#Vender Espada:\n",
        "current_money += items_to_sell.pop(\"Espada\", 0)\n",
        "print(current_money)\n",
        "print(items_to_sell)"
      ],
      "metadata": {
        "id": "fAYucddeQijG",
        "outputId": "18cba7df-b787-4866-fb1a-e07e02b900d5",
        "colab": {
          "base_uri": "https://localhost:8080/"
        }
      },
      "execution_count": null,
      "outputs": [
        {
          "output_type": "stream",
          "name": "stdout",
          "text": [
            "2650\n",
            "{'Collar': 1000, 'Poción': 300}\n"
          ]
        }
      ]
    },
    {
      "cell_type": "markdown",
      "source": [
        "###obtener todas las llaves"
      ],
      "metadata": {
        "id": "g7AaGV41R2ah"
      }
    },
    {
      "cell_type": "code",
      "source": [
        "items_to_sell= {\"Collar\": 1000, \"Poción\": 300, \"Espada\": 2500}\n",
        "list_of_keys = list(items_to_sell)\n",
        "print(list_of_keys)\n",
        "all_keys= items_to_sell.keys()\n",
        "print(all_keys)\n",
        "for item in all_keys:\n",
        "  print(item)"
      ],
      "metadata": {
        "id": "gvpIXp-9R2DS"
      },
      "execution_count": null,
      "outputs": []
    },
    {
      "cell_type": "markdown",
      "source": [
        "###obtener todos los valores"
      ],
      "metadata": {
        "id": "TlH__R26Qh0Y"
      }
    },
    {
      "cell_type": "code",
      "source": [
        "items_to_sell {\"Collar\": 1000, \"Poción\": 300, \"Espada\": 2500}\n",
        "all_values = items_to_sell.values()\n",
        "print(all_values) for item in all_values:\n",
        "  print(item)"
      ],
      "metadata": {
        "id": "XtxR1BELSV3k"
      },
      "execution_count": null,
      "outputs": []
    },
    {
      "cell_type": "markdown",
      "source": [
        "###obtener todos los items\n",
        "  "
      ],
      "metadata": {
        "id": "wmuOMglOSutM"
      }
    },
    {
      "cell_type": "code",
      "source": [
        "items_to_sell = {\"Collar\": 1000, \"Poción\": 300, \"Espada\": 2500}\n",
        "all_items = items_to_sell.items()\n",
        "print(all_items)\n",
        "for key, value in all_items:\n",
        "  print(f\"Tu (key) vale ${value}.\")"
      ],
      "metadata": {
        "id": "WlEcNkpgS8vA"
      },
      "execution_count": null,
      "outputs": []
    },
    {
      "cell_type": "markdown",
      "source": [
        "***"
      ],
      "metadata": {
        "id": "EB_FirTYQKv9"
      }
    },
    {
      "cell_type": "code",
      "source": [],
      "metadata": {
        "id": "XdCsamwPTH-C"
      },
      "execution_count": null,
      "outputs": []
    }
  ]
}