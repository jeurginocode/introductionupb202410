{
  "nbformat": 4,
  "nbformat_minor": 0,
  "metadata": {
    "colab": {
      "private_outputs": true,
      "provenance": [],
      "include_colab_link": true
    },
    "kernelspec": {
      "name": "python3",
      "display_name": "Python 3"
    },
    "language_info": {
      "name": "python"
    }
  },
  "cells": [
    {
      "cell_type": "markdown",
      "metadata": {
        "id": "view-in-github",
        "colab_type": "text"
      },
      "source": [
        "<a href=\"https://colab.research.google.com/github/jeurginocode/introductionupb202410/blob/main/Ciclos.ipynb\" target=\"_parent\"><img src=\"https://colab.research.google.com/assets/colab-badge.svg\" alt=\"Open In Colab\"/></a>"
      ]
    },
    {
      "cell_type": "code",
      "execution_count": null,
      "metadata": {
        "id": "M4tWDhnGkjZx"
      },
      "outputs": [],
      "source": [
        "# Program calcular_suma_usuario\n",
        "# Start\n",
        "# \tDeclare Real sum_x, x\n",
        "# \tSet sum_x = 0\n",
        "# \tDisplay \"Bienvenido al programa Calcular Suma.\"\n",
        "# \tDisplay \"Ingrese los números cuando se le solicite.\"\n",
        "# \tDisplay \"Para finalizar, ingrese 0.\"\n",
        "# \tDisplay \"Ingrese el primer valor: \"\n",
        "# \tInput x\n",
        "# \tSet sum_x = sum_x + x\n",
        "# \tWhile x != 0 Then\n",
        "# \t\tDisplay \"Ingrese el siguiente valor: \"\n",
        "# \t\tInput x\n",
        "# \t\tSet sum_x = sum_x + x\n",
        "# \tEnd While\n",
        "# \tDisplay \"La suma es \", sum_x\n",
        "# Stop\n",
        "\n",
        "sum_x = 0\n",
        "message = \"\"\"\n",
        "Bienvenido al programa Calcular Suma.\n",
        "Ingrese los números cuando se le solicite.\n",
        "Para finalizar, ingrese 0.\n",
        "Ingrese el primer valor:\n",
        "\"\"\"\n",
        "print(message)\n",
        "x = float(input())\n",
        "sum_x += x\n",
        "\n",
        "while x != 0:\n",
        "  print(\"Ingrese el siguiente valor: \")\n",
        "  x = float(input())\n",
        "  sum_x +=  x\n",
        "\n",
        "print(f\"La suma es {sum_x}\")\n"
      ]
    },
    {
      "cell_type": "code",
      "source": [
        "# Program calcular_promedio_ponderado\n",
        "# Start\n",
        "# \tDeclare Integer N\n",
        "# \tDeclare Real nota, peso, prom, sum_prod, sum_pes\n",
        "\n",
        "# \tDisplay \"Ingrese el número de notas: \"\n",
        "# \tInput N\n",
        "# \tSet sum_prod = 0\n",
        "# \tSet sum_pes = 0\n",
        "# \tFor i = 1 To N\n",
        "# \t\tDisplay \"Ingrese nota: \"\n",
        "# \t\tInput nota\n",
        "# \t\tDisplay \"Ingrese peso: \"\n",
        "# \t\tInput peso\n",
        "# \t\tSet sum_prod += nota * peso / 100\n",
        "# \t\tSet sum_pes += peso / 100\n",
        "# \tEnd For\n",
        "# \tIf sum_pes != 0 Then\n",
        "# \t\tSet prom = sum_prod / sum_pes\n",
        "# \t\tDisplay prom\n",
        "# \t\tIf prom > 3 Then\n",
        "# \t\t\tDisplay \"Va ganando.\"\n",
        "# \t\tElse\n",
        "# \t\t\tDisplay \"Va perdiendo.\"\n",
        "# \t\tEnd If\n",
        "# \tElse\n",
        "# \t\tDisplay \"No se puede calcular el promedio.\"\n",
        "# \tEnd if\n",
        "# Stop\n",
        "\n",
        "N = int(input(\"Ingrese el número de notas: \"))\n",
        "sum_prod = 0\n",
        "sum_pes = 0\n",
        "message = \"Resumen:\\n\"\n",
        "for i in range(N):\n",
        "  nota = float(input(\"Ingrese nota: \"))\n",
        "  peso = float(input(\"Ingrese peso: \"))\n",
        "  sum_prod += nota * peso / 100\n",
        "  sum_pes += peso / 100\n",
        "  message += f\"Nota: {nota}\\tPeso: {peso}%\\n\"\n",
        "\n",
        "if sum_pes != 0:\n",
        "  prom = sum_prod / sum_pes\n",
        "  # print(prom)\n",
        "  message += f\"Peso: {sum_pes * 100:.2f}%\\tPromedio: {prom:.2f}\"\n",
        "  print(message)\n",
        "  print(\"Va ganando\") if prom >= 3 else print(\"Va perdiendo\")\n",
        "else:\n",
        "  print(\"No se puede calcular el promedio.\")"
      ],
      "metadata": {
        "id": "XajHayMzl287"
      },
      "execution_count": null,
      "outputs": []
    },
    {
      "cell_type": "code",
      "source": [],
      "metadata": {
        "id": "WlZHDMwvPYh_"
      },
      "execution_count": null,
      "outputs": []
    },
    {
      "cell_type": "markdown",
      "source": [
        "# listas\n",
        "**lista:**se refiere a una serie de variable que se almacena en corchetes `[  ]`\n",
        "\n",
        "*   `fruits.append:` sirve para agrargar algo a la lista.\n",
        "\n",
        "```\n",
        "# Tiene formato de código\n",
        "```\n",
        "*   `print(fruits:[3])` sirve para mencionar todos los elementos hasta el numero mencionado entre corchestes (que seria la posicion de la lista que va desde 0 )\n",
        "*  `fruits.insert(2, \"piña\")` sirve insertar un nuevo elemento en una determinada posicion de la litas\n",
        "*  ` fruits.pop(2)` sirva para quitar un elemento de una lista sin eliminarlo  complementamente, osea que queda almacenada en alguna variable asignada\n",
        "* `fruit.remove`eliminar un elemento de una lista sin poder recuperalo\n",
        "* `fruit.range()`hace una lista que rango de numeoros definidos en corchetes` ()`\n",
        "* `fruits.len`  \n",
        "\n",
        "##Ciclos en las lista:\n",
        "\n",
        "\n",
        "*   Elemento de lista\n",
        "*   Elemento de lista\n",
        "\n"
      ],
      "metadata": {
        "id": "TVzGE1b2PZdP"
      }
    },
    {
      "cell_type": "code",
      "source": [
        "fruits = ['manzana', 'naranja', 'pera', 'maracuyá', 'mango', 'pomelo']\n",
        "# fruits.append('guanábana')\n",
        "# fruits.append('ciruela')\n",
        "# print(fruits[0])\n",
        "# print(fruits[-1])\n",
        "# print(fruits[4])\n",
        "# print(fruits[:3])\n",
        "# print(fruits[4:])\n",
        "# print(fruits[:2] + fruits[3:])\n",
        "# print(fruits[2:5])\n",
        "# print(fruits)\n",
        "# fruits[2] = 'banano'\n",
        "# fruits[5] = 'mandarina'\n",
        "# print(fruits)\n",
        "# print(fruits)\n",
        "# fruits.remove('guanábana')\n",
        "# print(fruits)\n",
        "# print(fruits)\n",
        "# fruits.insert(2, 'piña')\n",
        "print(fruits)\n",
        "# b=fruits.pop()\n",
        "# print(b)\n",
        "# print(fruits)\n",
        "# a = fruits.pop(2)\n",
        "# print(fruits)\n",
        "# print(a)\n",
        "# a = range(5)\n",
        "# print(a)\n",
        "# b = range(2,5)\n",
        "# print(b)\n",
        "# c = range(3, -5, 2)\n",
        "# print(c)\n",
        "d = range(len(fruits))\n",
        "print(d)\n",
        "print(fruits)\n",
        "# fruits.sort(reverse=True)\n",
        "# a = sorted(fruits)\n",
        "# print(fruits)\n",
        "# print(a)"
      ],
      "metadata": {
        "id": "C0ti_iCTsdQD"
      },
      "execution_count": null,
      "outputs": []
    },
    {
      "cell_type": "code",
      "source": [
        "fruits = ['manzana', 'naranja', 'pera', 'maracuyá', 'mango', 'pomelo']\n",
        "# for fruit in fruits:\n",
        "#   print(fruit)\n",
        "\n",
        "# for i in range(len(fruits)):\n",
        "#   print(f\"{i + 1}. {fruits[i]}\")\n",
        "\n",
        "for i in range(5):\n",
        "  print(i)\n",
        "\n",
        "# i = 0\n",
        "# while i < 5:\n",
        "#   print(i)\n",
        "#   i += 1\n",
        "\n",
        "# for i in range(10, -11, -2):\n",
        "#   print(i)\n",
        "\n",
        "# for fruit in fruits:\n",
        "#   print(fruit)\n",
        "#   if fruit == 'maracuyá':\n",
        "#     print(\"La encontré\")\n",
        "#     break\n",
        "# fruits.append('maracuyá')\n",
        "# fruits.append('fresa')\n",
        "# print(fruits)\n",
        "# for fruit in fruits:\n",
        "#   if fruit == 'maracuyá':\n",
        "#     continue\n",
        "#   print(fruit)\n",
        "\n",
        "# extra_fruits = ['extra ' + fruit + ' ' + str(len(fruit)) for fruit in fruits]\n",
        "# print(extra_fruits)"
      ],
      "metadata": {
        "id": "jfuEkMc0Pl8E"
      },
      "execution_count": null,
      "outputs": []
    },
    {
      "cell_type": "code",
      "source": [
        "fruits= [\"manzana\", \"naranja\", \"pera\", \"Maracuya\", \"manga\", \"pomelo\"]\n",
        "# print(fruits)\n",
        "# for fruit in fruits:\n",
        "#   print(fruits)\n",
        "# for i range(lan)\n",
        "fruits.insert(2, \"piña\")\n",
        "print(fruits)"
      ],
      "metadata": {
        "id": "xZZuXdyemn7B"
      },
      "execution_count": null,
      "outputs": []
    },
    {
      "cell_type": "code",
      "source": [
        "# • Determine cuál de dos listas de números definidas por el usuario tiene\n",
        "# la suma más grande.\n",
        "\n",
        "lista1=[1,2,3,4]\n",
        "lista2=[1,3,4,5]\n",
        "\n",
        "a=sum(lista1)\n",
        "b=sum(lista2)\n",
        "\n",
        "if a>b:\n",
        "  print(\"lisa\")\n",
        "else:\n",
        "  print(\" b mayor\")"
      ],
      "metadata": {
        "id": "Ji6aU5uCfiI3"
      },
      "execution_count": null,
      "outputs": []
    },
    {
      "cell_type": "code",
      "source": [
        "# • Determine cuál de dos listas de números definidas por el usuario tiene\n",
        "# la suma más grande.\n",
        "\n",
        "a = [1, 3, 5]\n",
        "b = [2, 4, 6]\n",
        "sum_a = 0\n",
        "sum_b = 0\n",
        "for element in a: sum_a += element\n",
        "for element in b: sum_b += element\n",
        "if sum_a > sum_b:\n",
        "  print('La suma de la primera lista es mayor.')\n",
        "elif sum_b > sum_a:\n",
        "  print('La suma de la segunda lista es mayor.')\n",
        "else:\n",
        "  print('Las sumas son iguales.')"
      ],
      "metadata": {
        "id": "js5koLbHeUZF"
      },
      "execution_count": null,
      "outputs": []
    },
    {
      "cell_type": "code",
      "source": [
        " import random []\n",
        "\n",
        " linea1=[\"mami\",\"yoquierio\", \"encenderte\", \"suave\", \"hasta_que_salga_sol\", \"sin_anestesia\"  ]\n",
        " linea2=[\"bebe\", \"yo puedo\", \"amarte\"]\n",
        "line3= [\"princes\",\"yo vengo\", \"ligar\",])\n",
        "linea4= [\"mamia\", \"voy\", \"jugar\", \"fuerte\"]\n",
        "tabla_regueton=[linea1, linea2, line3, linea4]\n",
        " for part in parablas"
      ],
      "metadata": {
        "id": "4doqipWyZU07"
      },
      "execution_count": null,
      "outputs": []
    },
    {
      "cell_type": "code",
      "source": [
        "import random\n",
        "sujeto = ['Mami ', 'Bebé ', 'Princes ', 'Mami ', 'Brrr ', 'Reina ', 'Hermosa ']\n",
        "intencion = ['yo quiero ', 'yo puedo ', 'yo vengo a ', 'voy a ', 'pretendo ', 'me gustaría ']\n",
        "accion = ['encendelte ', 'amalte ', 'ligar ', 'jugar ', 'cocinar ', 'trabajar ']\n",
        "adjetivo = ['suave ', 'lento ', 'rápido ', 'fuerte ', 'duro ', 'convencido ']\n",
        "duracion = ['hasta que salga el sol ', 'toda la noche ', 'hasta el amanecer ', 'todo el dia ', 'por la noche ']\n",
        "manera = ['sin anestecia.', 'sin compromiso.', 'feis to feis.', 'sin miedo.', 'intensamente.']\n",
        "palabras_reggaeton = [sujeto, intencion, accion, adjetivo, duracion, manera]\n",
        "message = str()\n",
        "for part in palabras_reggaeton:\n",
        "  message += random.choice(part) #+ '\\n'\n",
        "print(message)"
      ],
      "metadata": {
        "id": "qjnjxse4ShSL"
      },
      "execution_count": null,
      "outputs": []
    },
    {
      "cell_type": "code",
      "source": [
        "a = list(input(\"Ingrese números separados por coma (','): \"))\n",
        "numbers = []\n",
        "for i in range(len(a)):\n",
        "  if a[i] != ' ':\n",
        "    numbers.append(float(a[i]))\n",
        "print(numbers)"
      ],
      "metadata": {
        "id": "36OHbIIJakOw"
      },
      "execution_count": null,
      "outputs": []
    },
    {
      "cell_type": "code",
      "source": [
        "import math\n",
        "\n",
        "print(math.pi)\n",
        "print(math.e)\n",
        "print(math.exp(3))\n",
        "print(math.sqrt(2))\n",
        "print(5e3)\n",
        "print(3e-2)"
      ],
      "metadata": {
        "id": "Fs9Gdu5ajkGI"
      },
      "execution_count": null,
      "outputs": []
    },
    {
      "cell_type": "code",
      "source": [
        "# Declare variables\n",
        "    # Declare Integer n, i, sum, target\n",
        "    # Declare List numbers\n",
        "\n",
        "    # # Initialize sum\n",
        "    # Set sum = 0\n",
        "\n",
        "    # Display \"Enter the target value: \"\n",
        "    # Read target\n",
        "\n",
        "    # Display \"Enter the number of elements in the list: \"\n",
        "    # Read n\n",
        "\n",
        "    # For i = 1 to n\n",
        "    #     Display \"Enter element \", i, \" of the list: \"\n",
        "    #     Read numbers[i]\n",
        "    # End For\n",
        "\n",
        "    # # Loop through the list to find the number of elements needed to exceed the target\n",
        "    # For i = 1 to n\n",
        "    #     # Add numbers[i] to sum\n",
        "    #     Set sum = sum + numbers[i]\n",
        "    #     # Check if the sum exceeds the target\n",
        "    #     If sum > target Then\n",
        "    #         Display \"Number of elements needed to exceed the target: \", i\n",
        "    #         # Exit the loop\n",
        "    #         Exit Loop\n",
        "    #     End If\n",
        "    # End For\n",
        "\n",
        "#     # If the loop completes without exiting, display that the target cannot be exceeded\n",
        "#     If sum <= target Then\n",
        "#         # Display \"The target cannot be exceeded with the given list of numbers.\"\n",
        "#         Display \"The target cannot be exceeded with the given list of numbers.\"\n",
        "#     End If\n",
        "\n",
        "# Stop\n",
        "# Determine cuántos números de una lista debe contar hasta sumar en\n",
        "# orden un valor ingresado por el usuario\n",
        "\n",
        "\n",
        "##mal echo\n",
        "# numbers= list(input(\"numeros\"))\n",
        "\n",
        "# n=float(input(\"inserta cantidad numeros\"))\n",
        "# for i in n:\n",
        "#     print(\"inserta numero\")\n",
        "#     input(numbers(i)\n",
        "##MAL ECHO}\n",
        "\n",
        "\n",
        "numbers = [1, 5, 9]\n",
        "target = 25\n",
        "\n",
        "current_sum = 0\n",
        "num_count = 0\n",
        "for num in numbers:\n",
        "    current_sum += num\n",
        "    num_count += 1\n",
        "    if current_sum >= target:\n",
        "        break\n",
        "\n",
        "print(f\"Count of numbers: {num_count}\")\n",
        "print(f\"Final sum: {current_sum}\")"
      ],
      "metadata": {
        "id": "1Bjs3T619jhh"
      },
      "execution_count": null,
      "outputs": []
    },
    {
      "cell_type": "code",
      "source": [
        "# • Determine la lista que contiene el dato con mayor valor a partir de dos\n",
        "# listas ingresadas por el usuario.\n",
        "\n",
        "# list1=list[1,4,5]\n",
        "# list2=list[1.2,3]\n",
        "\n",
        "list1 = [int(x) for x in input(\"Enter the elements of list 1 separated by space: \").split()]\n",
        "list2 = [int(y) for y in input(\"Enter the elements of list 2 separated by space: \").split()]\n",
        "\n",
        "# Compare the maximum values of both lists\n",
        "max_value_list1 = max(list1)\n",
        "max_value_list2 = max(list2)\n",
        "\n",
        "# Return the list with the greater maximum value\n",
        "if max_value_list1 > max_value_list2:\n",
        "    print(\"List 1 has the greatest value:\", max_value_list1)\n",
        "elif max_value_list1 < max_value_list2:\n",
        "    print(\"List 2 has the greatest value:\", max_value_list2)\n",
        "else:\n",
        "    print(\"Both lists have the same greatest value:\", max_value_list1)\n",
        "\n"
      ],
      "metadata": {
        "id": "cyQV52J2Jvcd"
      },
      "execution_count": null,
      "outputs": []
    },
    {
      "cell_type": "code",
      "source": [
        "programa\n",
        "start\n",
        "    Declare real 1largo,2largo, 3largo,\n",
        "\n",
        "\n",
        "\n",
        "\n",
        "1largo=int(input(\"largo del 1 rectacngulo:\"))\n",
        "2ancho=int(input(\"ancho del  \"))\n",
        "\n",
        "2largo=int(input(\"largo del 1 rectacngulo:\"))\n",
        "3ancho=int(input(\"ancho del  \"))\n",
        "\n",
        "area_1=1largo * 2ancho\n",
        "area_2=2largo * 2ancho\n",
        "\n",
        "if area_1 > area_2:\n",
        "  print(\"rectangilo mayoq\")\n",
        "elif area_2 > area_1\n",
        "  print(\"retangulo 2 es mayor\")\n",
        "else:\n",
        "  print(\"son iguales\")"
      ],
      "metadata": {
        "id": "tqMjEfEdmWyk"
      },
      "execution_count": null,
      "outputs": []
    },
    {
      "cell_type": "code",
      "source": [
        "number= input(\"ingrese numeros\"))\n",
        "\n",
        "if number == \"1\":\n",
        "    print(\"I\")\n",
        "else\n",
        "    if number ==\"2\":\n",
        "        print(\"II\")\n",
        "\n"
      ],
      "metadata": {
        "id": "3aFZ3clhm9PI"
      },
      "execution_count": null,
      "outputs": []
    },
    {
      "cell_type": "markdown",
      "source": [
        "# actividadedes gaddis"
      ],
      "metadata": {
        "id": "Foenu1521xv5"
      }
    },
    {
      "cell_type": "code",
      "source": [
        "##analisis\n",
        "problema: calcular el factorial de un numero\n",
        "\n",
        "El factorial es el producro de los enteros no negativos desde:\n",
        "-un numero entero"
      ],
      "metadata": {
        "id": "pp5QRjZB1-9x"
      },
      "execution_count": null,
      "outputs": []
    }
  ]
}