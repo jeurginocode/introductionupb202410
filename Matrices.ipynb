{
  "nbformat": 4,
  "nbformat_minor": 0,
  "metadata": {
    "colab": {
      "private_outputs": true,
      "provenance": [],
      "include_colab_link": true
    },
    "kernelspec": {
      "name": "python3",
      "display_name": "Python 3"
    },
    "language_info": {
      "name": "python"
    }
  },
  "cells": [
    {
      "cell_type": "markdown",
      "metadata": {
        "id": "view-in-github",
        "colab_type": "text"
      },
      "source": [
        "<a href=\"https://colab.research.google.com/github/jeurginocode/introductionupb202410/blob/main/Matrices.ipynb\" target=\"_parent\"><img src=\"https://colab.research.google.com/assets/colab-badge.svg\" alt=\"Open In Colab\"/></a>"
      ]
    },
    {
      "cell_type": "markdown",
      "source": [
        "##ejemplos echos por mi\n"
      ],
      "metadata": {
        "id": "r3lpq05PuqOg"
      }
    },
    {
      "cell_type": "markdown",
      "source": [
        "###tarea\n",
        "crear una matriaz de numero aletorios gauderdlos en un archivo nuevo y tambien crear una funcion que genere un archico donde guardes numero y  suma de numero anterior en un rango de 0 ha 10"
      ],
      "metadata": {
        "id": "fngMsugC1Wxh"
      }
    },
    {
      "cell_type": "code",
      "source": [
        "#crea una funcion que genere un archico donde guardes numero y  suma de numero anterior en un rango de 0 ha 10\n",
        "\n",
        "\n",
        "def generador_numeros():\n",
        "  with open(\"numeros.txt\", \"a\") as file_info:\n",
        "    numero_previo=0\n",
        "    for i in range(11):\n",
        "      num=i\n",
        "      sum_with_numero+= num\n",
        "      file_info(f\"numero anterios:{num},suma de con el numero anterior:{sum_with_prev}\\n\")\n",
        "      prev_num=num\n",
        "\n",
        "generador_numeros()\n",
        "\n",
        "\n",
        "\n",
        "\n",
        "  #def generate_file():\n",
        "    # with open(\"numbers.txt\", \"w\") as file:\n",
        "    #     previous_sum = 0\n",
        "    #     for i in range(11):\n",
        "    #         number = i\n",
        "    #         sum_with_previous = number + previous_sum\n",
        "    #         file.write(f\"Number: {number}, Sum with previous: {sum_with_previous}\\n\")\n",
        "    #         previous_sum = sum_with_previous\n",
        "\n",
        "#generado_numeros()"
      ],
      "metadata": {
        "id": "AIHwTpKOI1oC"
      },
      "execution_count": null,
      "outputs": []
    },
    {
      "cell_type": "code",
      "source": [
        "#  crear una matriz que van de un numero minimo ha otro maximo\n",
        "# A = [[1,  4,  5],\n",
        "#         [-5,  8,  9]]\n",
        "\n",
        "\n",
        "# print (A)\n",
        "# print (type (A))\n",
        "\n",
        "rows=3\n",
        "colums=3\n",
        "counter=1\n",
        "figurita= []\n",
        "\n",
        "for i in range(rows):\n",
        "  temporal=[]\n",
        "  for j in range(colums):\n",
        "    temporal.append(counter)\n",
        "    counter+=1\n",
        "  figurita.append(temporal)\n",
        "\n",
        "\n",
        "\n",
        "print(figurita)\n",
        "rows=len(counter)\n",
        "\n",
        "for i in range(len(figurita)):\n",
        "  for j in range(len(figurita[i])):\n",
        "    print(figurita[i][j], end=\" \")\n",
        "  print()\n",
        "\n"
      ],
      "metadata": {
        "id": "eghz_C3ix9oj"
      },
      "execution_count": null,
      "outputs": []
    },
    {
      "cell_type": "code",
      "source": [
        "def create_matrix(rows, colums):\n",
        "  matrix=[]\n",
        "  for i in range(rows):\n",
        "    temporal=[]\n",
        "    for j in range(colums):\n",
        "      temporal.append(0)\n",
        "      counter+=1\n",
        "    figurita.append(temporal)\n",
        "    return matrix\n",
        "\n",
        "board=create_matriz(3, 3)\n",
        "print(board)\n"
      ],
      "metadata": {
        "id": "AycJX8rF2o1h"
      },
      "execution_count": null,
      "outputs": []
    },
    {
      "cell_type": "code",
      "source": [
        "  #DATETIME\n",
        "  from datetime import datetime\n",
        "  current_time = datetime.now()\n",
        "  print(current_time)"
      ],
      "metadata": {
        "id": "pU5xB6VJ9T_O"
      },
      "execution_count": null,
      "outputs": []
    },
    {
      "cell_type": "code",
      "source": [
        "from random import choice,sample, randint\n",
        "\n",
        "random_n = [randint(-10,10)for i in range(10)]\n",
        "print(random_n)\n",
        "\n"
      ],
      "metadata": {
        "id": "nOw8SOtC9xZr"
      },
      "execution_count": null,
      "outputs": []
    },
    {
      "cell_type": "code",
      "source": [
        "# codigo para leer un documento\n",
        "\n",
        "path=\"/content/sample_data/mensaje secreto.txt\"\n",
        "with open(path) as file_info:\n",
        "  for line in file_info.readlines():\n",
        "    print(line)\n",
        "\n"
      ],
      "metadata": {
        "id": "36hmaBNAwzd3"
      },
      "execution_count": null,
      "outputs": []
    },
    {
      "cell_type": "code",
      "source": [
        "def board_txt(board):\n",
        "  txt=\" \"\n",
        "  board_rows=len(board)\n",
        "  board_colums=len(board[0])\n",
        "  for i in range(board_columns):\n"
      ],
      "metadata": {
        "id": "Z8qMyRSmMs5K"
      },
      "execution_count": null,
      "outputs": []
    },
    {
      "cell_type": "code",
      "source": [],
      "metadata": {
        "id": "icGxxYgbwrhX"
      },
      "execution_count": null,
      "outputs": []
    },
    {
      "cell_type": "code",
      "source": [],
      "metadata": {
        "id": "vXMAi_XMws-t"
      },
      "execution_count": null,
      "outputs": []
    },
    {
      "cell_type": "code",
      "source": [],
      "metadata": {
        "id": "dUWfELDqwvb2"
      },
      "execution_count": null,
      "outputs": []
    },
    {
      "cell_type": "code",
      "source": [],
      "metadata": {
        "id": "uRBQqCUnwyye"
      },
      "execution_count": null,
      "outputs": []
    },
    {
      "cell_type": "markdown",
      "source": [
        "##matrices"
      ],
      "metadata": {
        "id": "vT3tO3iXz9jS"
      }
    },
    {
      "cell_type": "markdown",
      "source": [
        "###ejemplos"
      ],
      "metadata": {
        "id": "iw2ylPzo5vJB"
      }
    },
    {
      "cell_type": "markdown",
      "source": [
        " Números aleatorios y su suma\\\n",
        "  A continuación, una solución para el ejercicio de los números aleatorios y su suma:\\\n",
        "  \n",
        "Un punto de partida para el ejercicio es tener un archivo que tenga por lo menos una fila (por ejemplo, \"0, 0\") y a partir de allí leer el último número de esa fila para sumarlo al número aleatorio actual. En el caso del código que les comparto, considero que es más práctico utilizar un try/except (parecido a un if/else pero para gestión de errores). Este try funciona si el archivo donde estoy almacenando los datos ya existe, y en caso de que no exista, en lugar de producirse el error FileNotFoundError, crea el archivo y le agrega una primera fila con datos aleatorios.\n",
        "\n",
        "Les recomiendo practicar generando matrices con números aleatorios y guardarlas en archivos.\n",
        "Intenten también crear una función que les permita crear una matriz y agregar/modificar números con entradas de usuario.\n",
        "\n"
      ],
      "metadata": {
        "id": "b5v5VZhk6Qva"
      }
    },
    {
      "cell_type": "code",
      "source": [
        "# Números aleatorios y su suma\n",
        "# A continuación, una solución para el ejercicio de los números aleatorios y su suma:\n",
        "\n",
        "#########################\n",
        "import random\n",
        "\n",
        "path = './my_random_numbers.txt'\n",
        "def save_random(path):\n",
        "    n = random.randint(0, 10)\n",
        "    try:\n",
        "        with open(path, 'r') as file_info:\n",
        "            content = file_info.readlines()\n",
        "\n",
        "            s = int(content[-1].split(\", \")[-1]) + n\n",
        "            line = str(n) + \", \" + str(s)\n",
        "        with open(path, 'a') as file_info:\n",
        "            file_info.write(line + \"\\n\")\n",
        "    except FileNotFoundError:\n",
        "        with open(path, 'w') as file_info:\n",
        "            file_info.write(str(n) + \", \" + str(n) + \"\\n\")\n",
        "\n",
        "for i in range(10):\n",
        "   save_random(path)\n",
        "\n",
        "with open(path) as file_info:\n",
        "    print(file_info.read())\n",
        "#########################\n",
        "\n"
      ],
      "metadata": {
        "id": "1TGj-DDu56Kr"
      },
      "execution_count": null,
      "outputs": []
    },
    {
      "cell_type": "markdown",
      "source": [
        "***"
      ],
      "metadata": {
        "id": "u8bLjvybv93u"
      }
    },
    {
      "cell_type": "code",
      "source": [
        "##CODIGOS PARA NAVEGAR EN UNA MATRIZ\n",
        "matrix = [[1, 2, 3],\n",
        "          [4, 5, 6],\n",
        "          [7, 8, 9]]\n",
        "\n",
        "##codigo para en navegar en una matriz fila en fila\n",
        "print(\"Mostrar todos los elementos de la matriz fila por fila\")\n",
        "for row in matrix:\n",
        "    print(row)\n",
        "print(\"-------------------------------------\")\n",
        "\n",
        "##codigo para navegar en una matriz como una columna\n",
        "print(\"Mostrar todos los elementos de la matriz elemento a elemento en columna\")\n",
        "for row in matrix:\n",
        "    for element in row:\n",
        "        print(element)\n",
        "print(\"-------------------------------------\")\n",
        "\n",
        "#codigo para navegar en un matriz como si fuera una matriz\n",
        "print(\"Mostrar todos los elementos de una matriz en formato de matriz\")\n",
        "for row in matrix:\n",
        "    for element in row:\n",
        "        print(element, end=\" \")\n",
        "    print(\" \")\n",
        "print(\"-------------------------------------\")\n",
        "\n",
        "#codigo para navegar en un matriz como si fuera una sola fila\n",
        "print(\"Mostrar todos los elementos de una matriz en formato de una fila\")\n",
        "for row in matrix:\n",
        "    for element in row:\n",
        "        print(element, end=\" \")\n",
        "\n"
      ],
      "metadata": {
        "id": "w0jFHxd_5tfA"
      },
      "execution_count": null,
      "outputs": []
    },
    {
      "cell_type": "code",
      "execution_count": null,
      "metadata": {
        "id": "UjJDVwHprwMI"
      },
      "outputs": [],
      "source": [
        "matrix = []\n",
        "rows = 3\n",
        "columns = 3\n",
        "counter = 1\n",
        "\n",
        "for i in range(rows):\n",
        "  temp_row = []\n",
        "  for j in range(columns):\n",
        "    temp_row.append(counter)\n",
        "    # temp.append(\" _ \")\n",
        "    counter += 1\n",
        "  matrix.append(temp_row)\n",
        "\n",
        "#\n",
        "print(matrix)\n",
        "\n",
        "matrix_rows = len(matrix)\n",
        "if matrix_rows > 0:\n",
        "  matrix_columns = len(matrix[0])\n",
        "for i in range(matrix_rows):\n",
        "  for j in range(matrix_columns):\n",
        "    print(matrix[i][j], end=\" \")\n",
        "  print()\n"
      ]
    },
    {
      "cell_type": "code",
      "source": [
        "def create_board(rows, columns):\n",
        "  board = []\n",
        "  for i in range(rows):\n",
        "    temp_row = []\n",
        "    for j in range(columns):\n",
        "      temp_row.append(0)\n",
        "    board.append(temp_row)\n",
        "  return board\n",
        "\n",
        "def show_board(board):\n",
        "  print()\n",
        "  board_rows = len(board)\n",
        "  board_columns = len(board[0])\n",
        "  for i in range(board_rows):\n",
        "    for j in range(board_columns):\n",
        "      print(board[i][j], end=\" \")\n",
        "    print()\n",
        "\n",
        "def board_txt(board):\n",
        "  txt = ''\n",
        "  board_rows = len(board)\n",
        "  board_columns = len(board[0])\n",
        "  for i in range(board_rows):\n",
        "    for j in range(board_columns):\n",
        "      txt += str(board[i][j]) + \" \"\n",
        "    txt += '\\n'\n",
        "  return txt\n",
        "\n",
        "board = create_board(3, 3)\n",
        "show_board(board)\n",
        "board[1][1] = \"x\"\n",
        "show_board(board)\n",
        "board[0][0] = \"x\"\n",
        "show_board(board)\n",
        "board[2][2] = \"x\"\n",
        "show_board(board)\n",
        "my_board = board_txt(board)\n",
        "print()\n",
        "print(my_board)"
      ],
      "metadata": {
        "id": "xmYjWoltrxfY"
      },
      "execution_count": null,
      "outputs": []
    },
    {
      "cell_type": "code",
      "source": [
        "from random import choice, sample, randint\n",
        "\n",
        "random_n = [randint(-10, 10) for i in range(10)]\n",
        "print(random_n)\n",
        "print(choice(random_n))\n",
        "print(sample(random_n, 2))\n",
        "# sample = 3\n",
        "print(sample(random_n, 2))"
      ],
      "metadata": {
        "id": "AHprpCPq1zfk"
      },
      "execution_count": null,
      "outputs": []
    },
    {
      "cell_type": "markdown",
      "source": [
        "##MAnejos de archivos"
      ],
      "metadata": {
        "id": "iX2OMnPJdDfT"
      }
    },
    {
      "cell_type": "code",
      "source": [
        "path = '/content/sample_data/secret_message.txt'\n",
        "with open(path) as file_info:\n",
        "  message = file_info.read()\n",
        "print(message)\n"
      ],
      "metadata": {
        "id": "w4J_nxvEtoxa"
      },
      "execution_count": null,
      "outputs": []
    },
    {
      "cell_type": "code",
      "source": [
        "path = '/content/sample_data/secret_song.txt'\n",
        "with open(path) as file_info:\n",
        "  for line in file_info.readlines():\n",
        "    print(line, end='')"
      ],
      "metadata": {
        "id": "_nBq0hDWtqLw"
      },
      "execution_count": null,
      "outputs": []
    },
    {
      "cell_type": "code",
      "source": [
        "my_board = create_board(4, 4)\n",
        "my_board[2][2] = 'X'\n",
        "my_board[1][1] = 'X'\n",
        "show_board(my_board)\n",
        "my_board = board_txt(my_board)\n",
        "\n",
        "with open('/content/sample_data/my_text.txt', 'w') as file_info:\n",
        "  file_info.write(my_board)"
      ],
      "metadata": {
        "id": "ArTBCGTVtqN-"
      },
      "execution_count": null,
      "outputs": []
    },
    {
      "cell_type": "code",
      "source": [
        "my_board = create_board(5, 5)\n",
        "my_board[2][3] = 'X'\n",
        "my_board[1][2] = 'X'\n",
        "show_board(my_board)\n",
        "my_board = board_txt(my_board)\n",
        "\n",
        "with open('/content/sample_data/my_text.txt', 'a') as file_info:\n",
        "  file_info.write(my_board)"
      ],
      "metadata": {
        "id": "rZPV7pxttqQb"
      },
      "execution_count": null,
      "outputs": []
    },
    {
      "cell_type": "code",
      "source": [
        "name = 'Miguel Angel Ortiz Padilla'\n",
        "path = '/content/sample_data/new_text.txt'\n",
        "with open(path, 'w') as file_info:\n",
        "  file_info.write(name)\n",
        "\n",
        "with open(path, 'a') as file_info:\n",
        "  for i in range(10):\n",
        "    file_info.write(\"Gato \" * i + '\\n')\n",
        "\n",
        "with open(path, 'r') as file_info:\n",
        "  content = file_info.read()\n",
        "print(content)"
      ],
      "metadata": {
        "id": "pioN04u8tqSv"
      },
      "execution_count": null,
      "outputs": []
    },
    {
      "cell_type": "code",
      "source": [],
      "metadata": {
        "id": "b84UySB3PvLA"
      },
      "execution_count": null,
      "outputs": []
    },
    {
      "cell_type": "code",
      "source": [
        "import csv\n",
        "ages = []\n",
        "with open('/content/sample_data/edades.csv') as file_info:\n",
        "  file_reader = csv.DictReader(file_info)\n",
        "  for row in file_reader:\n",
        "    ages.append(int(row[\"Age\"]))\n",
        "\n",
        "print(ages)"
      ],
      "metadata": {
        "id": "5JSz_Ii7tqVK"
      },
      "execution_count": null,
      "outputs": []
    },
    {
      "cell_type": "code",
      "source": [
        "import random\n",
        "\n",
        "path = './my_random_numbers.txt'\n",
        "def save_random(path):\n",
        "    n = random.randint(0, 10)\n",
        "    try:\n",
        "        with open(path, 'r') as file_info:\n",
        "            content = file_info.readlines()\n",
        "\n",
        "            s = int(content[-1].split(\", \")[-1]) + n\n",
        "            line = str(n) + \", \" + str(s)\n",
        "        with open(path, 'a') as file_info:\n",
        "            file_info.write(line + \"\\n\")\n",
        "    except FileNotFoundError:\n",
        "        with open(path, 'w') as file_info:\n",
        "            file_info.write(str(n) + \", \" + str(n) + \"\\n\")\n",
        "\n",
        "for i in range(10):\n",
        "   save_random(path)\n",
        "\n",
        "with open(path) as file_info:\n",
        "    print(file_info.read())"
      ],
      "metadata": {
        "id": "ApEHVd2ctqXf"
      },
      "execution_count": null,
      "outputs": []
    },
    {
      "cell_type": "code",
      "source": [],
      "metadata": {
        "id": "vsyWl8u2tqa2"
      },
      "execution_count": null,
      "outputs": []
    },
    {
      "cell_type": "code",
      "source": [
        "with open('/content/sample_data/secret_message.txt') as file_info:\n",
        "  message = file_info.read()\n",
        "print(message)"
      ],
      "metadata": {
        "id": "Hv90QTW292UV"
      },
      "execution_count": null,
      "outputs": []
    },
    {
      "cell_type": "code",
      "source": [
        "with open('/content/sample_data/secret_song.txt') as file_info:\n",
        "  for line in file_info.readlines():\n",
        "    print(line)"
      ],
      "metadata": {
        "id": "jwh1okrToY6s"
      },
      "execution_count": null,
      "outputs": []
    },
    {
      "cell_type": "code",
      "source": [
        "with open('/content/sample_data/secret_song.txt') as file_info:\n",
        "  first_line = file_info.readline()\n",
        "  second_line = file_info.readline()\n",
        "print(first_line)\n",
        "print(second_line)"
      ],
      "metadata": {
        "id": "sHgCPR5cpCoR"
      },
      "execution_count": null,
      "outputs": []
    },
    {
      "cell_type": "code",
      "source": [
        "message = \"Mikheltodd\"\n",
        "with open('/content/sample_data/my_text.txt', 'w') as file_info:\n",
        "  file_info.write(message)"
      ],
      "metadata": {
        "id": "FhHIkeHVpWZd"
      },
      "execution_count": null,
      "outputs": []
    },
    {
      "cell_type": "code",
      "source": [
        "with open('/content/sample_data/my_text.txt', 'a') as file_info:\n",
        "  file_info.write(\"\\nMigue\")"
      ],
      "metadata": {
        "id": "lISFCmOkptrJ"
      },
      "execution_count": null,
      "outputs": []
    },
    {
      "cell_type": "code",
      "source": [
        "with open('/content/sample_data/users_data.csv') as file_info:\n",
        "  print(file_info.read())"
      ],
      "metadata": {
        "id": "A7Fd49nqp6Lt"
      },
      "execution_count": null,
      "outputs": []
    },
    {
      "cell_type": "code",
      "source": [
        "import csv\n",
        "ages = []\n",
        "with open('/content/sample_data/users_data.csv') as file_info:\n",
        "  file_reader = csv.DictReader(file_info)\n",
        "  for row in file_reader:\n",
        "    ages.append(row[\"Age\"])\n",
        "\n",
        "for age in ages:\n",
        "  print(age, end=\" \")"
      ],
      "metadata": {
        "id": "4czPLFwGqiou"
      },
      "execution_count": null,
      "outputs": []
    },
    {
      "cell_type": "markdown",
      "source": [
        "##actividad de vectores y matrices\n",
        "crear un jego de cartas que cuando se volteas por tiempo se memoriza y despues se selecciona las misma que tiene el mismo simbolo, descartando asuvez las mismas\n"
      ],
      "metadata": {
        "id": "HppGAFmGdi0b"
      }
    },
    {
      "cell_type": "code",
      "source": [
        "import random\n",
        "import time\n",
        "from IPython.display import clear_output\n",
        "\n",
        "rows = 2\n",
        "columns = 3\n",
        "cards_back = [[\"|_|\" for i in range(columns)] for i in range(rows)]\n",
        "options = ['J', 'J', 'Q', 'Q', 'K', 'K']\n",
        "game_cards = [[\"\" for i in range(columns)] for i in range (rows)]\n",
        "\n",
        "for i in range(len(game_cards)):\n",
        "  for j in range(len(game_cards[i])):\n",
        "    random_card = random.choice(options)\n",
        "    game_cards[i][j] = '|' + random_card + '|'\n",
        "    options.remove(random_card)\n",
        "\n",
        "\n",
        "def show_cards(cards):\n",
        "  for i in range(len(cards)):\n",
        "    for j in range(len(cards[i])):\n",
        "      print(cards[i][j], end=\" \")\n",
        "    print(\"\\n\")\n",
        "\n",
        "t = 2\n",
        "show_cards(cards_back)\n",
        "time.sleep(t)\n",
        "clear_output()\n",
        "show_cards(game_cards)\n",
        "time.sleep(t)\n",
        "clear_output()\n",
        "show_cards(cards_back)\n",
        "\n",
        "row = int(input(\"Indique la fila: \"))\n",
        "column = int(input(\"Indique la columna: \"))\n",
        "\n",
        "temp_cards = cards_back\n",
        "temp_cards[row][column] = game_cards[row][column]\n",
        "clear_output()\n",
        "show_cards(temp_cards)\n",
        "\n",
        "row = int(input(\"Indique la fila: \"))\n",
        "column = int(input(\"Indique la columna: \"))\n",
        "\n",
        "temp_cards = cards_back\n",
        "temp_cards[row][column] = game_cards[row][column]\n",
        "clear_output()\n",
        "show_cards(temp_cards)"
      ],
      "metadata": {
        "id": "wDJOqnpalJ-Y"
      },
      "execution_count": null,
      "outputs": []
    },
    {
      "cell_type": "markdown",
      "source": [
        "***"
      ],
      "metadata": {
        "id": "Y2XcGXiYL_hh"
      }
    },
    {
      "cell_type": "code",
      "source": [
        "import random\n",
        "\n",
        "size=int(input(\"ingrese tamaño: \"))\n",
        "options = ['J', 'J', 'Q', 'Q', 'K', 'K',\"D\",\"#\"]\n",
        "def generate_board(size,options):\n",
        "  board = size * options\n",
        "  for i in\n",
        "  return board\n",
        "  print()\n",
        "\n",
        "a=generate_board(size,options)\n",
        "print(a)\n",
        "\n",
        "\n",
        "\n",
        "\n",
        "for i in range(size)\n",
        "\n",
        "for row in matrix:\n",
        "    for element in row:\n",
        "        print(element, end=\" \")\n",
        "    print(\" \")\n",
        "\n",
        "\n",
        "for i in range(rows):\n",
        "  temp_row = []\n",
        "  for j in range(columns):\n",
        "    temp_row.append(counter)\n",
        "    # temp.append(\" _ \")\n",
        "    counter += 1\n",
        "  matrix.append(temp_row)"
      ],
      "metadata": {
        "id": "NMlVry6bfuH-"
      },
      "execution_count": null,
      "outputs": []
    },
    {
      "cell_type": "code",
      "source": [
        "def generate_board(size, options):\n",
        "  board = size * options\n",
        "  return board\n",
        "\n",
        "def show_board(board):\n",
        "  print(board)\n",
        "\n",
        "def hide_value(board):\n",
        "  secret_value = board / 2\n",
        "  board += 1\n",
        "  return secret_value, board\n",
        "\n",
        "def play_game(size, options):\n",
        "  board = generate_board(size, options)\n",
        "  show_board(board)\n",
        "  secret_value, board = hide_value(board)\n",
        "  show_board(board)\n",
        "\n",
        "def main():\n",
        "    print(\"Bienvenido\")\n",
        "    size = int(input(\"Tamaño: \"))\n",
        "    options = 5\n",
        "    play_game(size, options)\n",
        "\n",
        "if __name__ == \"__main__\":\n",
        "    main()"
      ],
      "metadata": {
        "id": "aEpl2JryzOzz"
      },
      "execution_count": null,
      "outputs": []
    },
    {
      "cell_type": "code",
      "source": [
        "def generate_board(size, options):\n",
        "  board=[]\n",
        "  for i in range(size):\n",
        "    Temp_гow=[]\n",
        "    for j in range(size):\n",
        "      temp_row.append(random.choice(options))\n",
        "    board.append(temp_row)\n",
        "  return board\n",
        "def show_board(board)\n",
        "  for fow in board:\n",
        "    for element in row:\n",
        "      print(element, end=\" \")\n",
        "    print()\n",
        "\n",
        "board =generate_board(size, options)\n",
        "show_board(board)"
      ],
      "metadata": {
        "id": "DS7ZrotB9aiV"
      },
      "execution_count": null,
      "outputs": []
    },
    {
      "cell_type": "code",
      "source": [
        "import random\n",
        "import time\n",
        "\n",
        "def generate_board(size, options):\n",
        "    board = [random.choice(options) for _ in range(size)]\n",
        "    return board\n",
        "\n",
        "def show_board(board):\n",
        "    print(\" \".join(board))\n",
        "\n",
        "def hide_value(board):\n",
        "    size = random.randint(0, len(board)-1)\n",
        "    hidden_value = board[size ]\n",
        "    board[size ] = '*'\n",
        "    return hidden_value, board\n",
        "\n",
        "def play_game(size, options):\n",
        "    board = generate_board(size, options)\n",
        "    show_board(board)\n",
        "    input(\"Presiona Enter para ocultar el valor...\")\n",
        "    hidden_value, board = hide_value(board)\n",
        "    show_board(board)\n",
        "    guess = input(\"Intenta adivinar qué valor fue ocultado: \")\n",
        "    if guess == hidden_value:\n",
        "        print(\"¡Correcto! Has ganado.\")\n",
        "    else:\n",
        "        print(f\"Incorrecto. El valor oculto era '{hidden_value}'. Has perdido.\")\n",
        "\n",
        "def main():\n",
        "    print(\"Bienvenido\")\n",
        "    size = int(input(\"Tamaño: \"))\n",
        "    options = ['A', 'B', 'C', 'D', 'E',\"n\"]   # Opciones de valores posibles\n",
        "    play_game(size, options)\n",
        "\n",
        "if __name__ == \"__main__\":\n",
        "    main()"
      ],
      "metadata": {
        "id": "QMspSAUf7LGt"
      },
      "execution_count": null,
      "outputs": []
    },
    {
      "cell_type": "code",
      "source": [
        "import random\n",
        "import time\n",
        "from IPython.display import clear_output\n",
        "\n",
        "def create_board(size, options):\n",
        "    board = [[random.choice(options) for _ in range(size)] for _ in range(size)]\n",
        "    return board\n",
        "\n",
        "def show_board(board):\n",
        "    for row in board:\n",
        "        print(\" \".join(row))\n",
        "\n",
        "def hide_value(board):\n",
        "    secreto_row = random.randint(0, len(board)-1)\n",
        "    secreto_col = random.randint(0, len(board[0])-1)\n",
        "    secret_value = board[secreto_row][secreto_col]\n",
        "    board[secreto_row][secreto_col] = \"*\"\n",
        "    return secreto_row, secreto_col, secret_value, board\n",
        "\n",
        "def play_game(size, options):\n",
        "    board = create_board(size, options)\n",
        "    show_board(board)\n",
        "    print(\"\\n¡Mostrar cartas en 2 segundos...\")\n",
        "    time.sleep(2)\n",
        "    clear_output()\n",
        "    secreto_row, secreto_col, secret_value, board = hide_value(board)\n",
        "    print(\"¡Hay un valor secreto ocultado en el tablero!\")\n",
        "    show_board(board)\n",
        "    valor = str(input(\"Intenta adivinar qué valor es: \"))\n",
        "\n",
        "    if secret_value == valor:\n",
        "        print(\"\\n¡Felicidades! ¡Has encontrado el valor secreto!\")\n",
        "    else:\n",
        "        print(\"\\nLo siento, el valor secreto era '{}'. ¡Mejor suerte la próxima vez!\".format(secret_value))\n",
        "\n",
        "def main():\n",
        "    print(\"Bienvenido al Juego de Tablero\")\n",
        "    size = int(input(\"Ingrese el tamaño del tablero: \"))\n",
        "    options = ['J', 'Q', 'K', 'A', 'B', 'C']\n",
        "\n",
        "    play_game(size, options)\n",
        "\n",
        "if __name__ == \"__main__\":\n",
        "    main()"
      ],
      "metadata": {
        "id": "S4t4AwqEKAiQ"
      },
      "execution_count": null,
      "outputs": []
    },
    {
      "cell_type": "code",
      "source": [
        "def main():\n",
        "    print(\"Bienvenido\")\n",
        "    options = 5\n",
        "    play_game(options)\n",
        "    while True:\n",
        "        play_again = input(\"¿Quieres jugar de nuevo? (s/n): \").lower()\n",
        "        if play_again != 's':\n",
        "            break\n",
        "        play_game(options)\n",
        "\n",
        "if __name__ == \"__main__\":\n",
        "    main()\n",
        "import random\n",
        "\n",
        "\n",
        "options = ['A', '8', 'C', '1', '2', '3']\n",
        "size=4\n",
        "\n",
        "def generate_board(size, options);\n",
        "  board = []\n",
        "for i in range(size):\n",
        "  temp_row = []\n",
        "for j in range(size):\n",
        "  temp_row.append(random.choice options))\n",
        "board.append(temp_row)\n",
        "return board\n",
        "def show_board(board):\n",
        "  for row in board:\n",
        "    For element in row:"
      ],
      "metadata": {
        "id": "yoIHtRcVBbD2"
      },
      "execution_count": null,
      "outputs": []
    },
    {
      "cell_type": "markdown",
      "source": [
        "***"
      ],
      "metadata": {
        "id": "Qnln89dsL30y"
      }
    },
    {
      "cell_type": "code",
      "source": [
        "\n",
        "# Recuerden validar las entradas del usuario y considerar las cartas jugadas.\n",
        "# Incompleto:\n",
        "\n",
        "import random\n",
        "import time\n",
        "from IPython.display import clear_output\n",
        "import copy\n",
        "\n",
        "rows = 2\n",
        "columns = 3\n",
        "cards_back = [[\"|_|\" for i in range(columns)] for i in range(rows)]\n",
        "temp_cards = copy.deepcopy(cards_back)\n",
        "options = ['J', 'J', 'Q', 'Q', 'K', 'K']\n",
        "game_cards = [[\"\" for i in range(columns)] for i in range (rows)]\n",
        "points = 10\n",
        "\n",
        "for i in range(len(game_cards)):\n",
        "  for j in range(len(game_cards[i])):\n",
        "    random_card = random.choice(options)\n",
        "    game_cards[i][j] = '|' + random_card + '|'\n",
        "    options.remove(random_card)\n",
        "\n",
        "remaining = rows * columns\n",
        "\n",
        "def show_cards(cards):\n",
        "  for i in range(len(cards)):\n",
        "    for j in range(len(cards[i])):\n",
        "      print(cards[i][j], end=\" \")\n",
        "    print(\"\\n\")\n",
        "  print(\"Puntos: \", points)\n",
        "\n",
        "t = 2\n",
        "show_cards(cards_back)\n",
        "time.sleep(t)\n",
        "clear_output()\n",
        "show_cards(game_cards)\n",
        "time.sleep(t)\n",
        "clear_output()\n",
        "show_cards(cards_back)\n",
        "\n",
        "while remaining > 0:\n",
        "  row_1 = int(input(\"Indique la fila: \"))\n",
        "  column_1 = int(input(\"Indique la columna: \"))\n",
        "\n",
        "  card_choice_1 = game_cards[row_1][column_1]\n",
        "  temp_cards[row_1][column_1] = card_choice_1\n",
        "  clear_output()\n",
        "  show_cards(temp_cards)\n",
        "\n",
        "  row_2 = int(input(\"Indique la fila: \"))\n",
        "  column_2 = int(input(\"Indique la columna: \"))\n",
        "\n",
        "  card_choice_2 = game_cards[row_2][column_2]\n",
        "  temp_cards[row_2][column_2] = card_choice_2\n",
        "  clear_output()\n",
        "  show_cards(temp_cards)\n",
        "\n",
        "  if card_choice_1 == card_choice_2:\n",
        "    temp_cards[row_1][column_1] = \"   \"\n",
        "    temp_cards[row_2][column_2] = \"   \"\n",
        "    game_cards[row_1][column_1] = \"X\"\n",
        "    game_cards[row_2][column_2] = \"Y\"\n",
        "    remaining -= 2\n",
        "    clear_output()\n",
        "    show_cards(temp_cards)\n",
        "  else:\n",
        "    clear_output()\n",
        "    temp_cards[row_1][column_1] = cards_back[row_1][column_1]\n",
        "    temp_cards[row_2][column_2] = cards_back[row_2][column_2]\n",
        "    points -= 1\n",
        "    show_cards(temp_cards)\n",
        "\n",
        "  if remaining == 0:\n",
        "    print(\"Win Win\")"
      ],
      "metadata": {
        "id": "5cWQHWu2dmOz"
      },
      "execution_count": null,
      "outputs": []
    },
    {
      "cell_type": "code",
      "source": [
        "import random\n",
        "from IPython.display import clear_output\n",
        "\n",
        "rows = 2\n",
        "columns = 3\n",
        "cards_back = [[\"|_|\"] * columns for _ in range(rows)]\n",
        "options = ['J', 'J', 'Q', 'Q', 'K', 'K']\n",
        "game_cards = [[\"\" for _ in range(columns)] for _ in range(rows)]\n",
        "\n",
        "for i in range(rows):\n",
        "  for j in range(columns):\n",
        "    game_cards[i][j] = '|' + random.choice(options) + '|'\n",
        "    options.remove(game_cards[i][j][1:-1])\n",
        "\n",
        "def show_cards(cards):\n",
        "  for row in cards:\n",
        "    print(\" \".join(row))\n",
        "\n",
        "def flip_card(row, column):\n",
        "  temp_cards = [row[:column] + [game_cards[row[0]][column]] + row[column+1:] for row in cards_back]\n",
        "  return temp_cards\n",
        "\n",
        "t = 2\n",
        "show_cards(cards_back)\n",
        "time.sleep(t)\n",
        "clear_output()\n",
        "show_cards(game_cards)\n",
        "time.sleep(t)\n",
        "clear_output()\n",
        "show_cards(cards_back)\n",
        "\n",
        "while True:\n",
        "  row = int(input(\"Indique la fila: \"))\n",
        "  column = int(input(\"Indique la columna: \"))\n",
        "  clear_output()\n",
        "  show_cards(flip_card(row,column))\n",
        "  row = int(input(\"Indique la fila: \"))\n",
        "  column = int(input(\"Indique la columna: \"))\n",
        "  clear_output()\n",
        "  show_cards(flip_card([row, column]))\n"
      ],
      "metadata": {
        "id": "eQXOUqUcmH83"
      },
      "execution_count": null,
      "outputs": []
    }
  ]
}