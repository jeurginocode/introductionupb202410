{
  "nbformat": 4,
  "nbformat_minor": 0,
  "metadata": {
    "colab": {
      "provenance": [],
      "authorship_tag": "ABX9TyPIMQ0ZpFHbn9KDPlY3vUmZ",
      "include_colab_link": true
    },
    "kernelspec": {
      "name": "python3",
      "display_name": "Python 3"
    },
    "language_info": {
      "name": "python"
    }
  },
  "cells": [
    {
      "cell_type": "markdown",
      "metadata": {
        "id": "view-in-github",
        "colab_type": "text"
      },
      "source": [
        "<a href=\"https://colab.research.google.com/github/jeurginocode/introductionupb202410/blob/main/librerias_numpy_archivos.ipynb\" target=\"_parent\"><img src=\"https://colab.research.google.com/assets/colab-badge.svg\" alt=\"Open In Colab\"/></a>"
      ]
    },
    {
      "cell_type": "markdown",
      "source": [
        "#numpy\n",
        "mas informacion:\n",
        "[Numpy](https://numpy.org/devdocs/user/absolute_beginners.html#welcome-to-numpy)\n",
        "\n",
        "**Python list vs NumPy array**\n",
        "\n",
        "*   Mientras que en las listas podemos tener diferentes tipos de datos, en\n",
        "NumPy los arrays deben ser homogéneos.\n",
        "*   Los *arrays* en NumPy son más rápidos y compactos que las *listas*.\n",
        "Consumen menos memoria y se puede especificar su tipo de datos\n",
        "\n",
        "##arrays:\n",
        "Es basicaementeun tipo especial de lista usualmente utilizada para almacenar\n",
        "números debido a que facilita la ejecución de operaciones matemáticas\n",
        "que son sencillas de escribir y más eficientes computacionalmente.\n",
        "\n",
        "###carateristicas\n",
        "\n",
        "*   Es la estructura de datos central de la librería NumPy\n",
        "*  Es una matriz de valores que contiene información sobre datos sin\n",
        "procesar, cómo ubicar un elemento y cómo interpretarlo\n",
        "Sus elementos pueden ser indexados y son del mismo tipo (`dtype`).\n",
        "*   Puede ser indexado por una tupla de enteros no negativos, booleanos,\n",
        "otro array o enteros.\n",
        "*   El rango (`rank`) de un array es el número de dimensiones.\n",
        "*   La forma (`shape`) del array es una tupla de enteros que dan el tamaño\n",
        "del array en cada dimensión.\n",
        "*   Podemos inicializar un array a partir de una lista (o varias para más\n",
        "dimensiones).\n",
        "###Array from CSV\n",
        "Normalmente no ingresamos datos directamente en un array. En lugar\n",
        "de esto, importamos los datos de otro lugar.\\\n",
        "Podemos transformar archivos CSV en arrays usando la función\n",
        "`np.genfromtxt()`:\n",
        "\n",
        "\n",
        "```\n",
        "recipes= np.genfromtxt(\"/content/recipes.csv\", delimiter=\",\")#no.genformtxt# trasnsforma achivos CSV en arrasys\n",
        "print(recipes)\n",
        ">>>[[2.    0.75  2.    1.    0.5  ]\n",
        ">>>[1.    0.125 1.    1.    0.125]\n",
        ">>>[2.75  1.5   1.    0.    1.   ]\n",
        ">>>[4.    0.5   2.    2.    0.5  ]]\n",
        "```\n",
        "\n"
      ],
      "metadata": {
        "id": "MlI8ZybC2j-b"
      }
    },
    {
      "cell_type": "code",
      "execution_count": 1,
      "metadata": {
        "colab": {
          "base_uri": "https://localhost:8080/"
        },
        "id": "4efLqwUrCkG-",
        "outputId": "de5a2f67-4374-4e9f-9820-f7a9d0faaad6"
      },
      "outputs": [
        {
          "output_type": "stream",
          "name": "stdout",
          "text": [
            "[2006]\n",
            "[2006, 2007]\n",
            "[2006, 2007, 2006]\n",
            "[2006, 2007, 2006, 2007]\n",
            "[2006, 2007, 2006, 2007, 2000]\n",
            "[2006, 2007, 2006, 2007, 2000, 2008]\n",
            "[2006, 2007, 2006, 2007, 2000, 2008, 2007]\n",
            "[2006, 2007, 2006, 2007, 2000, 2008, 2007, 2001]\n",
            "[2006, 2007, 2006, 2007, 2000, 2008, 2007, 2001, 2005]\n",
            "[2006, 2007, 2006, 2007, 2000, 2008, 2007, 2001, 2005, 2009]\n",
            "[2006, 2007, 2006, 2007, 2000, 2008, 2007, 2001, 2005, 2009, 2009]\n",
            "[2006 2007 2006 2007 2000 2008 2007 2001 2005 2009 2009]\n"
          ]
        }
      ],
      "source": [
        "\n",
        "#la didfenrecia entre lista y arrays es que los arrasy son mas rapidos, y que cuando se imprime es sin la comas\n",
        "[]\n",
        "import numpy as np\n",
        "\n",
        "edades=[18, 17, 18, 17, 24, 16, 17, 23, 19, 15, 15]\n",
        "edades_array = np.array(edades)\n",
        "# print(edades)#imprime sin comas\n",
        "# print(edades_array)\n",
        "# pirnt(edades_arrat.dtype)\n",
        "\n",
        "\n",
        "birt_years=[]\n",
        "for edad in edades:\n",
        "  birt_years.append(2024-edad)\n",
        "  print(birt_years)\n",
        "\n",
        "birth_years_array = 2024-edades_array\n",
        "print(birth_years_array)"
      ]
    },
    {
      "cell_type": "code",
      "source": [
        "m= np.array([32, 27,3,8,],\n",
        "            [1,2,3,4],\n",
        "            [1,2,5,6,7])\n",
        "print(m)\n",
        "print(m.shape)\n",
        "print(m[1][0])\n",
        "\n",
        "print(a[3])\n",
        "print()\n"
      ],
      "metadata": {
        "id": "8eG8MqCWGWL1"
      },
      "execution_count": null,
      "outputs": []
    },
    {
      "cell_type": "code",
      "source": [
        "\n",
        "edades=[18, 17, 18, 17, 24, 16, 17, 23, 19, 15, 15]\n",
        "edades_array = np.array(edades)\n",
        "edades_pares= edades_array[edades_array % 2== 0]\n",
        "mayores_de_edades= edades_array >= 18\n",
        "eadades_5 = edades_array[edades_array ]"
      ],
      "metadata": {
        "id": "Qvw3gExRJp9W",
        "outputId": "9e2ca86d-a763-45fc-921f-b7d9feb88a81",
        "colab": {
          "base_uri": "https://localhost:8080/",
          "height": 176
        }
      },
      "execution_count": null,
      "outputs": [
        {
          "output_type": "error",
          "ename": "IndexError",
          "evalue": "index 18 is out of bounds for axis 0 with size 11",
          "traceback": [
            "\u001b[0;31m---------------------------------------------------------------------------\u001b[0m",
            "\u001b[0;31mIndexError\u001b[0m                                Traceback (most recent call last)",
            "\u001b[0;32m<ipython-input-14-a386fe15240e>\u001b[0m in \u001b[0;36m<cell line: 5>\u001b[0;34m()\u001b[0m\n\u001b[1;32m      3\u001b[0m \u001b[0medades_pares\u001b[0m\u001b[0;34m=\u001b[0m \u001b[0medades_array\u001b[0m\u001b[0;34m[\u001b[0m\u001b[0medades_array\u001b[0m \u001b[0;34m%\u001b[0m \u001b[0;36m2\u001b[0m\u001b[0;34m==\u001b[0m \u001b[0;36m0\u001b[0m\u001b[0;34m]\u001b[0m\u001b[0;34m\u001b[0m\u001b[0;34m\u001b[0m\u001b[0m\n\u001b[1;32m      4\u001b[0m \u001b[0mmayores_de_edades\u001b[0m\u001b[0;34m=\u001b[0m \u001b[0medades_array\u001b[0m \u001b[0;34m>=\u001b[0m \u001b[0;36m18\u001b[0m\u001b[0;34m\u001b[0m\u001b[0;34m\u001b[0m\u001b[0m\n\u001b[0;32m----> 5\u001b[0;31m \u001b[0meadades_5\u001b[0m \u001b[0;34m=\u001b[0m \u001b[0medades_array\u001b[0m\u001b[0;34m[\u001b[0m\u001b[0medades_array\u001b[0m \u001b[0;34m]\u001b[0m\u001b[0;34m\u001b[0m\u001b[0;34m\u001b[0m\u001b[0m\n\u001b[0m",
            "\u001b[0;31mIndexError\u001b[0m: index 18 is out of bounds for axis 0 with size 11"
          ]
        }
      ]
    },
    {
      "cell_type": "code",
      "source": [
        "import numpy as np\n",
        "\n",
        "recipes= np.genfromtxt(\"/content/recipes.csv\", delimiter=\",\")#no.genformtxt# trasnsforma achivos CSV en arrasys\n",
        "print(recipes)\n",
        "\n",
        "# print(recipes.dtype)\n",
        "# print(recipes.dtype)\n",
        "# print(recipes.shape)\n",
        "\n",
        "# eggs=recipes[:, 2]\n",
        "# print(eggs[eggs==1])\n",
        "\n",
        "# cupcackes=2*recipes[0,:]\n",
        "# cookies= recipes[2, :]\n",
        "\n",
        "# grocery_list=cupcackes+cookies\n",
        "# print(grocery_list)"
      ],
      "metadata": {
        "colab": {
          "base_uri": "https://localhost:8080/"
        },
        "id": "oKZfvWAsLNo-",
        "outputId": "635f9a81-935b-4eb4-aa40-8da48b9f424f"
      },
      "execution_count": null,
      "outputs": [
        {
          "output_type": "stream",
          "name": "stdout",
          "text": [
            "[[2.    0.75  2.    1.    0.5  ]\n",
            " [1.    0.125 1.    1.    0.125]\n",
            " [2.75  1.5   1.    0.    1.   ]\n",
            " [4.    0.5   2.    2.    0.5  ]]\n"
          ]
        }
      ]
    },
    {
      "cell_type": "code",
      "source": [
        "nj_10=np.arange(10)\n",
        "print(nj_10)\n",
        "n_5_20_3=np.arange(5, 20, 3)\n",
        "print(n_5_20_3)\n",
        "\n",
        "t=np.linspace(0, 2*np.pi,num=10)\n",
        "print(t)\n"
      ],
      "metadata": {
        "colab": {
          "base_uri": "https://localhost:8080/"
        },
        "id": "-u52hw6EPEte",
        "outputId": "3242e2fe-7490-408f-c231-25122980f393"
      },
      "execution_count": null,
      "outputs": [
        {
          "output_type": "stream",
          "name": "stdout",
          "text": [
            "[0 1 2 3 4 5 6 7 8 9]\n",
            "[ 5  8 11 14 17]\n",
            "[0.         0.6981317  1.3962634  2.0943951  2.7925268  3.4906585\n",
            " 4.1887902  4.88692191 5.58505361 6.28318531]\n"
          ]
        }
      ]
    },
    {
      "cell_type": "code",
      "source": [
        "vector_9=np.arange(9)\n",
        "print(vector_9)\n",
        "\n",
        "\n",
        "n =np.arenge(10,20)\n",
        "print(n)\n",
        "print(n.sum())"
      ],
      "metadata": {
        "colab": {
          "base_uri": "https://localhost:8080/"
        },
        "id": "0Fnhz8RURFXM",
        "outputId": "f0e948b9-dd4b-43ea-f5cc-da30f79a1512"
      },
      "execution_count": null,
      "outputs": [
        {
          "output_type": "stream",
          "name": "stdout",
          "text": [
            "[0 1 2 3 4 5 6 7 8]\n"
          ]
        }
      ]
    },
    {
      "cell_type": "code",
      "source": [
        "a=np.arange(0,10)\n",
        "b=np.arange(10,20)\n",
        "\n",
        "matrix_h = np.array([1, 2, 3, 4, 5])\n",
        "print(matrix_h)\n",
        "print(f\"suma de todos los valores: {matrix_h.sum()}\")#axis seleccioan el eje que v asumasr en columan o fila\n",
        "print(f\"suma de las columnas{matrix_h.sum(0)}\")"
      ],
      "metadata": {
        "id": "3rWmLXQlR8tt",
        "outputId": "7b20ed31-51ef-41db-b3da-7a8b34134b74",
        "colab": {
          "base_uri": "https://localhost:8080/"
        }
      },
      "execution_count": 9,
      "outputs": [
        {
          "output_type": "stream",
          "name": "stdout",
          "text": [
            "[1 2 3 4 5]\n",
            "suma de todos los valores: 15\n",
            "suma de las columnas15\n"
          ]
        }
      ]
    },
    {
      "cell_type": "code",
      "source": [
        "rng=np.random.default_rng()\n",
        "rand_1= rng.integers(_10, 10)"
      ],
      "metadata": {
        "id": "WT0o0W8XUB6p"
      },
      "execution_count": null,
      "outputs": []
    },
    {
      "cell_type": "markdown",
      "source": [
        "##NumPy fpr linear Algebra operations"
      ],
      "metadata": {
        "id": "G6Ga0YC8cdyz"
      }
    },
    {
      "cell_type": "code",
      "source": [
        "A = np.array([[1,2],[3,4]])\n",
        "\n",
        "print(A,\"\\n\")\n",
        "print(4*A, \"\\n\")\n",
        "\n",
        "B=np.ones(shape = [2,2])\n",
        "\n",
        "print(A)\n"
      ],
      "metadata": {
        "id": "7k-BXKaAcdeM",
        "outputId": "ec68e860-8610-42b1-9203-20e584442360",
        "colab": {
          "base_uri": "https://localhost:8080/"
        }
      },
      "execution_count": null,
      "outputs": [
        {
          "output_type": "stream",
          "name": "stdout",
          "text": [
            "[[1 2]\n",
            " [3 4]] \n",
            "\n",
            "[[ 4  8]\n",
            " [12 16]] \n",
            "\n",
            "[[1 2]\n",
            " [3 4]]\n"
          ]
        }
      ]
    },
    {
      "cell_type": "markdown",
      "source": [
        "##estadistica basicas en numpy"
      ],
      "metadata": {
        "id": "ZqQ2swrV4ByN"
      }
    },
    {
      "cell_type": "code",
      "source": [
        "# crear hacer el primedio e las siguinetres array\n",
        "\n",
        "\n",
        "\n",
        "\n",
        "array1 = np.array([1, 2, 3, 4, 5])\n",
        "array2 = np.array([6, 7, 8, 9, 10])\n",
        "\n",
        "# promedio_array1 = np.mean(array1)\n",
        "# promedio_array2 = np.mean(array2)\n",
        "# print(\"El promedio del primer array es:\", promedio_array1)\n",
        "# print(\"El promedio del segundo array es:\", promedio_array2)\n",
        "\n",
        "# ring_toss= np.array([[1,0,0],\n",
        "#                     [0,0,1],\n",
        "#                     [1,0,1]])\n",
        "# print(np.mean(ring_toss))\n",
        "# print(np.mean(ring_toss, axis=1))\n",
        "# print(np.mean(ring_toss, axis=0))\n",
        "\n",
        "\n",
        "allergy_trails=np.array([[6,1,3,8,2],[2,6,3,9,8],[5,2,6,9,9]])\n",
        "\n",
        "# pruebas = int\n",
        "# for prueba in pruebas:\n",
        "total_medai= np.array(allergy_trails)\n",
        "print(np.mean(allergy_trails))\n",
        "print(np.mean(allergy_trails, axis=1))\n",
        "print(np.mean(allergy_trails, axis=0))"
      ],
      "metadata": {
        "colab": {
          "base_uri": "https://localhost:8080/"
        },
        "id": "IW08DnApzR67",
        "outputId": "b4eb25e0-42bc-4c3f-deff-9a3c5a74a718"
      },
      "execution_count": 5,
      "outputs": [
        {
          "output_type": "stream",
          "name": "stdout",
          "text": [
            "5.266666666666667\n",
            "[4.  5.6 6.2]\n",
            "[4.33333333 3.         4.         8.66666667 6.33333333]\n"
          ]
        }
      ]
    },
    {
      "cell_type": "markdown",
      "source": [
        "Otra métrica importante que podemos utilizar en análisis de datos es la\n",
        "media. Este es el valor que se encuentra en el centro de todos los datos\n",
        "al ser ordenados en términos de su magnitud (de menor a mayor).\n",
        "Podemos calcular la mediana con la función `np.median`:"
      ],
      "metadata": {
        "id": "CPjt0BxF4cW9"
      }
    },
    {
      "cell_type": "code",
      "source": [
        "# mediana\n",
        "my_array = np.array ([50, 38, 291, 59, 14])\n",
        "print(np.median(my_array))"
      ],
      "metadata": {
        "colab": {
          "base_uri": "https://localhost:8080/"
        },
        "id": "hUk0Ck4Q4PmH",
        "outputId": "f6ceb4c9-b9dc-4aa2-fe96-f3ba0ae08774"
      },
      "execution_count": 10,
      "outputs": [
        {
          "output_type": "stream",
          "name": "stdout",
          "text": [
            "50.0\n"
          ]
        }
      ]
    },
    {
      "cell_type": "markdown",
      "source": [
        "* La mediana\n",
        "\n",
        "es el valor que se ubica en el centro de un conjunto de\n",
        "datos, es decir, el número para el cual el 50% de los datos están por\n",
        "encima y el otro 50% por debajo.\n",
        "Un percentil es un punto que me divide la distribución tal que un\n",
        "porcentaje se encuentra por debajo de este. Por ejemplo. El percentil\n",
        "40vo indica que el 40% de los datos se encuentran por debajo de este, y\n",
        "el 60% por encima.\n",
        "\n",
        "En NumPy podemos calcular percentiles usando la función\n",
        "`np.percentile`, la cual toma dos argumentos: el array y el percentil\n",
        "a calcular:"
      ],
      "metadata": {
        "id": "IWZoQiNq5MWw"
      }
    },
    {
      "cell_type": "code",
      "source": [
        "# percemtiles\n",
        "d = np.array([6, 8, 3, 4, 4, 4, 6, 7, 5, 8, 8])\n",
        "print(np.percentile (d, 40))"
      ],
      "metadata": {
        "colab": {
          "base_uri": "https://localhost:8080/"
        },
        "id": "4SOk0o9r5SQQ",
        "outputId": "b0ce9114-91be-4cda-96d7-c9b2d30241b9"
      },
      "execution_count": 11,
      "outputs": [
        {
          "output_type": "stream",
          "name": "stdout",
          "text": [
            "5.0\n"
          ]
        }
      ]
    },
    {
      "cell_type": "markdown",
      "source": [],
      "metadata": {
        "id": "jsTZ9wli5ELa"
      }
    },
    {
      "cell_type": "markdown",
      "source": [
        "##NumPy for Linear Algebra – linalg\n"
      ],
      "metadata": {
        "id": "9Nyuqn-imoX8"
      }
    },
    {
      "cell_type": "code",
      "source": [
        "A = np.array([[1,2],[3,4]])\n",
        "# B=np.ones(2, dtype=np)\n",
        "\n",
        "\n",
        "b=np.array([[5],[10]])\n",
        "A_inv= np.linalg.inv(A)\n",
        "\n",
        "print(A)\n",
        "# pirn(A_inv)\n",
        "# pint(np.eye(2))\n",
        "# print(A @ A_inv)\n",
        "\n",
        "x= A_inv @ A\n",
        "print(b)"
      ],
      "metadata": {
        "id": "Sm1A8cMrj8r_",
        "outputId": "512d8a76-b02f-4638-a7a9-5c7fe6dae236",
        "colab": {
          "base_uri": "https://localhost:8080/"
        }
      },
      "execution_count": null,
      "outputs": [
        {
          "output_type": "stream",
          "name": "stdout",
          "text": [
            "[[1 2]\n",
            " [3 4]]\n",
            "[[ 5]\n",
            " [10]]\n"
          ]
        }
      ]
    },
    {
      "cell_type": "code",
      "source": [],
      "metadata": {
        "id": "9zIJlbMgzAVu"
      },
      "execution_count": null,
      "outputs": []
    },
    {
      "cell_type": "markdown",
      "source": [
        "#tarea\n",
        "hacer un algoritmo que use el maximo y el minimo de un matriz sin la fucione de numpy\n",
        "\n",
        "\n",
        "\n",
        "```\n",
        "A = ([[1,2],[3,4]])\n",
        "new_A=[]\n",
        " for row ina A:\n",
        "  temp_row =[\n",
        "     for element in row:\n",
        "      tme_row.append(4 *element)\n",
        "     new_A.append(temp_row)\n",
        "print(A)\n",
        "print(new_A)\n",
        "```\n",
        "\n"
      ],
      "metadata": {
        "id": "ldcBcXGeYbvu"
      }
    },
    {
      "cell_type": "code",
      "source": [
        "A = ([[1,2],[3,4]])\n",
        "new_A=[]\n",
        "for row in A:\n",
        "  temp_row =[]\n",
        "  for element in row:\n",
        "    temp_row.append(4 *element)\n",
        "    temp_ro\n",
        "    new_A.append(temp_row)\n",
        "print(A)\n",
        "print(\"--------\")\n",
        "print(new_A)"
      ],
      "metadata": {
        "id": "nzuvcNRiYbe-"
      },
      "execution_count": null,
      "outputs": []
    }
  ]
}