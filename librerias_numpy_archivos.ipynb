{
  "nbformat": 4,
  "nbformat_minor": 0,
  "metadata": {
    "colab": {
      "provenance": [],
      "authorship_tag": "ABX9TyOf9mg0xsXNeUatpMMQNj5E",
      "include_colab_link": true
    },
    "kernelspec": {
      "name": "python3",
      "display_name": "Python 3"
    },
    "language_info": {
      "name": "python"
    }
  },
  "cells": [
    {
      "cell_type": "markdown",
      "metadata": {
        "id": "view-in-github",
        "colab_type": "text"
      },
      "source": [
        "<a href=\"https://colab.research.google.com/github/jeurginocode/introductionupb202410/blob/main/librerias_numpy_archivos.ipynb\" target=\"_parent\"><img src=\"https://colab.research.google.com/assets/colab-badge.svg\" alt=\"Open In Colab\"/></a>"
      ]
    },
    {
      "cell_type": "code",
      "execution_count": 1,
      "metadata": {
        "colab": {
          "base_uri": "https://localhost:8080/"
        },
        "id": "4efLqwUrCkG-",
        "outputId": "1a08fd08-be34-462c-88bc-019a29582959"
      },
      "outputs": [
        {
          "output_type": "stream",
          "name": "stdout",
          "text": [
            "Requirement already satisfied: numpy in /usr/local/lib/python3.10/dist-packages (1.25.2)\n"
          ]
        }
      ],
      "source": [
        "pip install numpy\n",
        "#la didfenreci entre lista y arrays es que los arrasy son mas rapidos, y que cuando se imprime es sin la comas\n",
        "import numpy as np\n",
        "\n",
        "edades=[18, 17, 18, 17, 24, 16, 17, 23, 19, 15, 15]\n",
        "edad_arrat = np.array(edades)\n",
        "# print(edades)#imprime sin coams\n",
        "# print(edades_array)\n",
        "# pirnt(edades_arrat.dtype)\n",
        "\n",
        "\n",
        "birt_years=[]\n",
        "for edad in edades:birt_years.append():\n",
        "  años_nacimiento.append(2024-edad)\n",
        "print(años_nacimiento)\n"
      ]
    },
    {
      "cell_type": "code",
      "source": [
        "m= np.array([32, 27,3,8,],[1,2,3,4],[1,2,5,6,7])\n",
        "print(m)\n",
        "print(m.shape)\n",
        "\n",
        "print(a[3])\n",
        "print()\n"
      ],
      "metadata": {
        "id": "8eG8MqCWGWL1"
      },
      "execution_count": null,
      "outputs": []
    },
    {
      "cell_type": "code",
      "source": [
        "edades=[18, 17, 18, 17, 24, 16, 17, 23, 19, 15, 15]\n",
        "edad_array = np.array(edades)\n",
        "eadedes_pares= edad_array[edad_array % 2= 0]\n",
        "eadades_5 = edad_array[edad_array ]"
      ],
      "metadata": {
        "id": "Qvw3gExRJp9W"
      },
      "execution_count": null,
      "outputs": []
    },
    {
      "cell_type": "code",
      "source": [
        "import numpy as np\n",
        "\n",
        "recipes= np.genfromtxt(\"/content/recipes.csv\", delimiter=\",\")\n",
        "# print(recipes)\n",
        "\n",
        "# print(recipes.dtype)\n",
        "# print(recipes.dtype)\n",
        "# print(recipes.shape)\n",
        "\n",
        "eggs=recipes[:, 2]\n",
        "print(eggs[eggs==1])\n",
        "\n",
        "cupcackes=2*recipes[0,:]\n",
        "cookies= recipes[2, :]\n",
        "\n",
        "grocery_list=cupcackes+cookies\n",
        "print(grocery_list)"
      ],
      "metadata": {
        "colab": {
          "base_uri": "https://localhost:8080/"
        },
        "id": "oKZfvWAsLNo-",
        "outputId": "2e34aead-9e37-4a02-e4bc-91f789467297"
      },
      "execution_count": 7,
      "outputs": [
        {
          "output_type": "stream",
          "name": "stdout",
          "text": [
            "[1. 1.]\n",
            "[6.75 3.   5.   2.   2.  ]\n"
          ]
        }
      ]
    },
    {
      "cell_type": "code",
      "source": [
        "nj_10=np.arange(10)\n",
        "print(nj_10)\n",
        "n_5_20_3=np.arange(5, 20, 3)\n",
        "print(n_5_20_3)\n",
        "\n",
        "t=np.linspace(0, 2*np.pi,num=10)\n",
        "print(t)\n"
      ],
      "metadata": {
        "colab": {
          "base_uri": "https://localhost:8080/"
        },
        "id": "-u52hw6EPEte",
        "outputId": "3242e2fe-7490-408f-c231-25122980f393"
      },
      "execution_count": 10,
      "outputs": [
        {
          "output_type": "stream",
          "name": "stdout",
          "text": [
            "[0 1 2 3 4 5 6 7 8 9]\n",
            "[ 5  8 11 14 17]\n",
            "[0.         0.6981317  1.3962634  2.0943951  2.7925268  3.4906585\n",
            " 4.1887902  4.88692191 5.58505361 6.28318531]\n"
          ]
        }
      ]
    },
    {
      "cell_type": "code",
      "source": [
        "vector_9=np.arange(9)\n",
        "print(vector_9)\n",
        "\n",
        "\n",
        "n =np.arenge(10,20)\n",
        "print(n)\n",
        "print(n.sum())"
      ],
      "metadata": {
        "colab": {
          "base_uri": "https://localhost:8080/"
        },
        "id": "0Fnhz8RURFXM",
        "outputId": "f0e948b9-dd4b-43ea-f5cc-da30f79a1512"
      },
      "execution_count": 12,
      "outputs": [
        {
          "output_type": "stream",
          "name": "stdout",
          "text": [
            "[0 1 2 3 4 5 6 7 8]\n"
          ]
        }
      ]
    },
    {
      "cell_type": "code",
      "source": [
        "a=np.arnege(0,10)\n",
        "b=np.arange(10,20)\n",
        "\n",
        "matrix\n",
        "print(matrix_h)\n",
        "print(f\"suma de todos los valores: {matriz_h.sum()}\")#axis seleccioan el eje que v asumasr en columan o fila\n",
        "print(f\"suma de las columnas{matri_h.sum(0)}\")"
      ],
      "metadata": {
        "id": "3rWmLXQlR8tt"
      },
      "execution_count": null,
      "outputs": []
    },
    {
      "cell_type": "code",
      "source": [
        "rng=np.random.default_rng()\n",
        "rand_1= rng.integers(_10, 10)"
      ],
      "metadata": {
        "id": "WT0o0W8XUB6p"
      },
      "execution_count": null,
      "outputs": []
    }
  ]
}