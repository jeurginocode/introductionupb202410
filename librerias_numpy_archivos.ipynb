{
  "nbformat": 4,
  "nbformat_minor": 0,
  "metadata": {
    "colab": {
      "provenance": [],
      "authorship_tag": "ABX9TyOo8PdvhSVzdgzq+aQPEX7h",
      "include_colab_link": true
    },
    "kernelspec": {
      "name": "python3",
      "display_name": "Python 3"
    },
    "language_info": {
      "name": "python"
    }
  },
  "cells": [
    {
      "cell_type": "markdown",
      "metadata": {
        "id": "view-in-github",
        "colab_type": "text"
      },
      "source": [
        "<a href=\"https://colab.research.google.com/github/jeurginocode/introductionupb202410/blob/main/librerias_numpy_archivos.ipynb\" target=\"_parent\"><img src=\"https://colab.research.google.com/assets/colab-badge.svg\" alt=\"Open In Colab\"/></a>"
      ]
    },
    {
      "cell_type": "markdown",
      "source": [
        "#numpy\n",
        "mas informacion:\n",
        "[Numpy](https://numpy.org/devdocs/user/absolute_beginners.html#welcome-to-numpy)\n",
        "\n",
        "**Python list vs NumPy array**\n",
        "\n",
        "*   Mientras que en las listas podemos tener diferentes tipos de datos, en\n",
        "NumPy los arrays deben ser homogéneos.\n",
        "*   Los *arrays* en NumPy son más rápidos y compactos que las *listas*.\n",
        "Consumen menos memoria y se puede especificar su tipo de datos\n",
        "\n",
        "##arrays:\n",
        "Es basicaementeun tipo especial de lista usualmente utilizada para almacenar\n",
        "números debido a que facilita la ejecución de operaciones matemáticas\n",
        "que son sencillas de escribir y más eficientes computacionalmente.\n",
        "\n",
        "###carateristicas\n",
        "\n",
        "*   Es la estructura de datos central de la librería NumPy\n",
        "*  Es una matriz de valores que contiene información sobre datos sin\n",
        "procesar, cómo ubicar un elemento y cómo interpretarlo\n",
        "Sus elementos pueden ser indexados y son del mismo tipo (`dtype`).\n",
        "*   Puede ser indexado por una tupla de enteros no negativos, booleanos,\n",
        "otro array o enteros.\n",
        "*   El rango (`rank`) de un array es el número de dimensiones.\n",
        "*   La forma (`shape`) del array es una tupla de enteros que dan el tamaño\n",
        "del array en cada dimensión.\n",
        "*   Podemos inicializar un array a partir de una lista (o varias para más\n",
        "dimensiones).\n",
        "###Array from CSV\n",
        "Normalmente no ingresamos datos directamente en un array. En lugar\n",
        "de esto, importamos los datos de otro lugar.\\\n",
        "Podemos transformar archivos CSV en arrays usando la función\n",
        "`np.genfromtxt()`:"
      ],
      "metadata": {
        "id": "MlI8ZybC2j-b"
      }
    },
    {
      "cell_type": "code",
      "execution_count": 5,
      "metadata": {
        "colab": {
          "base_uri": "https://localhost:8080/"
        },
        "id": "4efLqwUrCkG-",
        "outputId": "e6f4f52b-e11f-48c9-bf97-f829ae941693"
      },
      "outputs": [
        {
          "output_type": "stream",
          "name": "stdout",
          "text": [
            "[2006, 2007, 2006, 2007, 2000, 2008, 2007, 2001, 2005, 2009, 2009]\n"
          ]
        }
      ],
      "source": [
        "\n",
        "#la didfenrecia entre lista y arrays es que los arrasy son mas rapidos, y que cuando se imprime es sin la comas\n",
        "[]\n",
        "import numpy as np\n",
        "\n",
        "edades=[18, 17, 18, 17, 24, 16, 17, 23, 19, 15, 15]\n",
        "edad_arrat = np.array(edades)\n",
        "# print(edades)#imprime sin comas\n",
        "# print(edades_array)\n",
        "# pirnt(edades_arrat.dtype)\n",
        "\n",
        "\n",
        "birt_years=[]\n",
        "for edad in edades:\n",
        "  birt_years.append(2024-edad)\n",
        "print(birt_years)\n"
      ]
    },
    {
      "cell_type": "code",
      "source": [
        "m= np.array([32, 27,3,8,],[1,2,3,4],[1,2,5,6,7])\n",
        "print(m)\n",
        "print(m.shape)\n",
        "\n",
        "print(a[3])\n",
        "print()\n"
      ],
      "metadata": {
        "id": "8eG8MqCWGWL1"
      },
      "execution_count": null,
      "outputs": []
    },
    {
      "cell_type": "code",
      "source": [
        "edades=[18, 17, 18, 17, 24, 16, 17, 23, 19, 15, 15]\n",
        "edad_array = np.array(edades)\n",
        "eadedes_pares= edad_array[edad_array % 2== 0]\n",
        "eadades_5 = edad_array[edad_array ]"
      ],
      "metadata": {
        "id": "Qvw3gExRJp9W"
      },
      "execution_count": null,
      "outputs": []
    },
    {
      "cell_type": "code",
      "source": [
        "import numpy as np\n",
        "\n",
        "recipes= np.genfromtxt(\"/content/recipes.csv\", delimiter=\",\")#no.genformtxt# trasnsforma achivos CSV en arrasys\n",
        "# print(recipes)\n",
        "\n",
        "# print(recipes.dtype)\n",
        "# print(recipes.dtype)\n",
        "# print(recipes.shape)\n",
        "\n",
        "eggs=recipes[:, 2]\n",
        "print(eggs[eggs==1])\n",
        "\n",
        "cupcackes=2*recipes[0,:]\n",
        "cookies= recipes[2, :]\n",
        "\n",
        "grocery_list=cupcackes+cookies\n",
        "print(grocery_list)"
      ],
      "metadata": {
        "colab": {
          "base_uri": "https://localhost:8080/"
        },
        "id": "oKZfvWAsLNo-",
        "outputId": "2e34aead-9e37-4a02-e4bc-91f789467297"
      },
      "execution_count": null,
      "outputs": [
        {
          "output_type": "stream",
          "name": "stdout",
          "text": [
            "[1. 1.]\n",
            "[6.75 3.   5.   2.   2.  ]\n"
          ]
        }
      ]
    },
    {
      "cell_type": "code",
      "source": [
        "nj_10=np.arange(10)\n",
        "print(nj_10)\n",
        "n_5_20_3=np.arange(5, 20, 3)\n",
        "print(n_5_20_3)\n",
        "\n",
        "t=np.linspace(0, 2*np.pi,num=10)\n",
        "print(t)\n"
      ],
      "metadata": {
        "colab": {
          "base_uri": "https://localhost:8080/"
        },
        "id": "-u52hw6EPEte",
        "outputId": "3242e2fe-7490-408f-c231-25122980f393"
      },
      "execution_count": null,
      "outputs": [
        {
          "output_type": "stream",
          "name": "stdout",
          "text": [
            "[0 1 2 3 4 5 6 7 8 9]\n",
            "[ 5  8 11 14 17]\n",
            "[0.         0.6981317  1.3962634  2.0943951  2.7925268  3.4906585\n",
            " 4.1887902  4.88692191 5.58505361 6.28318531]\n"
          ]
        }
      ]
    },
    {
      "cell_type": "code",
      "source": [
        "vector_9=np.arange(9)\n",
        "print(vector_9)\n",
        "\n",
        "\n",
        "n =np.arenge(10,20)\n",
        "print(n)\n",
        "print(n.sum())"
      ],
      "metadata": {
        "colab": {
          "base_uri": "https://localhost:8080/"
        },
        "id": "0Fnhz8RURFXM",
        "outputId": "f0e948b9-dd4b-43ea-f5cc-da30f79a1512"
      },
      "execution_count": null,
      "outputs": [
        {
          "output_type": "stream",
          "name": "stdout",
          "text": [
            "[0 1 2 3 4 5 6 7 8]\n"
          ]
        }
      ]
    },
    {
      "cell_type": "code",
      "source": [
        "a=np.arnege(0,10)\n",
        "b=np.arange(10,20)\n",
        "\n",
        "matrix\n",
        "print(matrix_h)\n",
        "print(f\"suma de todos los valores: {matriz_h.sum()}\")#axis seleccioan el eje que v asumasr en columan o fila\n",
        "print(f\"suma de las columnas{matri_h.sum(0)}\")"
      ],
      "metadata": {
        "id": "3rWmLXQlR8tt"
      },
      "execution_count": null,
      "outputs": []
    },
    {
      "cell_type": "code",
      "source": [
        "rng=np.random.default_rng()\n",
        "rand_1= rng.integers(_10, 10)"
      ],
      "metadata": {
        "id": "WT0o0W8XUB6p"
      },
      "execution_count": null,
      "outputs": []
    },
    {
      "cell_type": "markdown",
      "source": [
        "#tarea\n",
        "hacer un algoritmo que suq ele maximo y el minimo de un matriz sin la fucione de numpy"
      ],
      "metadata": {
        "id": "ldcBcXGeYbvu"
      }
    },
    {
      "cell_type": "code",
      "source": [],
      "metadata": {
        "id": "nzuvcNRiYbe-"
      },
      "execution_count": null,
      "outputs": []
    }
  ]
}