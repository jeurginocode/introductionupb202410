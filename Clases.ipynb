{
  "nbformat": 4,
  "nbformat_minor": 0,
  "metadata": {
    "colab": {
      "provenance": [],
      "authorship_tag": "ABX9TyOdXh/bnSVO7WMZe9Nd4NE/",
      "include_colab_link": true
    },
    "kernelspec": {
      "name": "python3",
      "display_name": "Python 3"
    },
    "language_info": {
      "name": "python"
    }
  },
  "cells": [
    {
      "cell_type": "markdown",
      "metadata": {
        "id": "view-in-github",
        "colab_type": "text"
      },
      "source": [
        "<a href=\"https://colab.research.google.com/github/jeurginocode/introductionupb202410/blob/main/Clases.ipynb\" target=\"_parent\"><img src=\"https://colab.research.google.com/assets/colab-badge.svg\" alt=\"Open In Colab\"/></a>"
      ]
    },
    {
      "cell_type": "markdown",
      "source": [
        "#clases\n",
        "**definicion:**\n",
        "\n",
        "*   Una clase es una plantilla para un tipo de datos.\n",
        "*   Elemento de la lista\n",
        "*   Elemento de la lista\n",
        "\n",
        "\n"
      ],
      "metadata": {
        "id": "aAq4JSVH5cP3"
      }
    },
    {
      "cell_type": "code",
      "execution_count": null,
      "metadata": {
        "colab": {
          "base_uri": "https://localhost:8080/"
        },
        "id": "xldNKZCk0t7O",
        "outputId": "a73c2a86-34a9-4df7-dae4-998afbc34129"
      },
      "outputs": [
        {
          "output_type": "stream",
          "name": "stdout",
          "text": [
            "Robpt de la serie JPK crado pararecolectar basura \n",
            "hola mundo\n",
            "hola mundo\n",
            "wall-e\n",
            "EVA\n"
          ]
        }
      ],
      "source": [
        "class robot: #clases son variaebles que se le asigna un valor que es generar para todas las clases\n",
        "  material= \"Hierro\"\n",
        "  def __init__(self,modelo, nombre,funcion): #__INIT__ es metodo constructor o inicalizaro\n",
        "    self.model=modelo\n",
        "    self.name=nombre #name es la instancia\n",
        "    self.funcion=funcion\n",
        "\n",
        "  def saludar(self): #metodos#es basicamente cuando le pone una intrucion o una funcion dentro de una clase\n",
        "                          #simepre debe llevar un self dentro del parentesis\n",
        "    print(\"hola mundo\")\n",
        "  def correr(self,distance):\n",
        "    print(f\"Estoy corriendo {distance}km, wii\")\n",
        "  def __repr__(self): #repr teda un mensaje predertirmado cunado lo imprima ejecuta la clase-.\n",
        "  # si no lo hace te du mensaej sin informacion que se pueda entender\n",
        "    return f\"Robpt de la serie {self.model} crado para{self.funcion} \"\n",
        "\n",
        "walle= robot(\"JPK\",\"wall-e\",\"recolectar basura\")\n",
        "eva= robot(\"HTG\",\"EVA\", \"identificado formas de viad\")\n",
        "print(walle)\n",
        "# print(type(walle))\n",
        "# print(walle.material)\n",
        "# print(eva.material)\n",
        "walle.saludar()\n",
        "eva.saludar()\n",
        "# walle.correr(18)\n",
        "print(walle.name)\n",
        "print(eva.name)\n",
        "# print(dir(walle))#dir para saber las clases y objetos de que hay, como tambien lo que hemos echo propios,"
      ]
    },
    {
      "cell_type": "markdown",
      "source": [],
      "metadata": {
        "id": "GiWE_9I3-0pA"
      }
    },
    {
      "cell_type": "markdown",
      "source": [
        "import"
      ],
      "metadata": {
        "id": "93ztTKpV-1CX"
      }
    },
    {
      "cell_type": "code",
      "source": [
        "\n",
        "# Juego Cara o Sello\n",
        "import random\n",
        "\n",
        "class Player:\n",
        "  def __init__(self, name):\n",
        "    self.name = name\n",
        "    self.points = 0\n",
        "  def add_points(self):\n",
        "    self.points += 1\n",
        "\n",
        "def main():\n",
        "  print(\"Bienvenido al juego de Cara o Sello\")\n",
        "  player_1_name = input(\"Ingese el nombre del primer jugador: \")\n",
        "  player_2_name = input(\"Ingese el nombre del segundo jugador: \")\n",
        "  player_1 = Player(player_1_name)\n",
        "  player_2 = Player(player_2_name)\n",
        "\n",
        "  print(f\"{player_1.name} vs {player_2.name}\")\n",
        "  round = 1\n",
        "  while open(\"myfile1.txt\", \"w\") as fileinfo:\n",
        "    while True:\n",
        "      current_player = random.randint(1, 2)\n",
        "      print(\"1. Cara\\n2. Sello\")\n",
        "      if current_player == 1:\n",
        "        player_1_choice = int(input(f\"{player_1.name}, ¿cara o sello?: \"))\n",
        "        if player_1_choice == 1:\n",
        "          player_2_choice = 2\n",
        "        else:\n",
        "          player_2_choice = 1\n",
        "      else:\n",
        "        player_2_choice = int(input(f\"{player_2.name}, ¿cara o sello?: \"))\n",
        "        if player_2_choice == 1:\n",
        "          player_1_choice = 2\n",
        "        else:\n",
        "          player_1_choice = 1\n",
        "      coin = random.randint(1, 2)\n",
        "      if coin == 1:\n",
        "        print(\"¡Cara!\")\n",
        "      else:\n",
        "        print(\"¡Sello!\")\n",
        "\n",
        "      if player_1_choice == coin:\n",
        "        player_1.add_points()\n",
        "      if player_2_choice == coin:\n",
        "        player_2.add_points()\n",
        "\n",
        "      print(f\"Puntos:\\n{player_1.name} --> {player_1.points}\\n{player_2.name} --> {player_2.points}\")\n",
        "      flag = input(\"Desea seguir jugando? (s/n): \")\n",
        "\n",
        "      if flag == 'n':\n",
        "        break\n",
        "\n",
        "\n",
        "if __name__ == '__main__':\n",
        "  main()\n",
        "\n",
        "\n",
        "import csv\n",
        "ages = []\n",
        "path=\n",
        "f =\n"
      ],
      "metadata": {
        "colab": {
          "base_uri": "https://localhost:8080/"
        },
        "id": "_9KE2x_m_EA4",
        "outputId": "2133c61a-5c6f-4cfd-f6ce-1fdf8b3f2d21"
      },
      "execution_count": null,
      "outputs": [
        {
          "name": "stdout",
          "output_type": "stream",
          "text": [
            "Bienvenido al juego de Cara o Sello\n",
            "Ingese el nombre del primer jugador: eva\n",
            "Ingese el nombre del segundo jugador: saka\n",
            "eva vs saka\n",
            "1. Cara\n",
            "2. Sello\n",
            "eva, ¿cara o sello?: 2\n",
            "¡Cara!\n",
            "Puntos:\n",
            "eva --> 0\n",
            "saka --> 1\n",
            "Desea seguir jugando? (s/n): m\n",
            "1. Cara\n",
            "2. Sello\n",
            "saka, ¿cara o sello?: 2\n",
            "¡Cara!\n",
            "Puntos:\n",
            "eva --> 1\n",
            "saka --> 1\n",
            "Desea seguir jugando? (s/n): n\n"
          ]
        }
      ]
    }
  ]
}