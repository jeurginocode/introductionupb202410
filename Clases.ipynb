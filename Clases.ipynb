{
  "nbformat": 4,
  "nbformat_minor": 0,
  "metadata": {
    "colab": {
      "provenance": [],
      "authorship_tag": "ABX9TyM06lV0zDF7/sM5yiDvKFWf",
      "include_colab_link": true
    },
    "kernelspec": {
      "name": "python3",
      "display_name": "Python 3"
    },
    "language_info": {
      "name": "python"
    }
  },
  "cells": [
    {
      "cell_type": "markdown",
      "metadata": {
        "id": "view-in-github",
        "colab_type": "text"
      },
      "source": [
        "<a href=\"https://colab.research.google.com/github/jeurginocode/introductionupb202410/blob/main/Clases.ipynb\" target=\"_parent\"><img src=\"https://colab.research.google.com/assets/colab-badge.svg\" alt=\"Open In Colab\"/></a>"
      ]
    },
    {
      "cell_type": "markdown",
      "source": [
        "#clases\n",
        "**definicion:**\n",
        "\n",
        "*   Una clase es una plantilla para un tipo de datos.\n",
        "*   Elemento de la lista\n",
        "*   Elemento de la lista\n",
        "\n",
        "\n"
      ],
      "metadata": {
        "id": "aAq4JSVH5cP3"
      }
    },
    {
      "cell_type": "code",
      "execution_count": null,
      "metadata": {
        "colab": {
          "base_uri": "https://localhost:8080/"
        },
        "id": "xldNKZCk0t7O",
        "outputId": "a73c2a86-34a9-4df7-dae4-998afbc34129"
      },
      "outputs": [
        {
          "output_type": "stream",
          "name": "stdout",
          "text": [
            "Robpt de la serie JPK crado pararecolectar basura \n",
            "hola mundo\n",
            "hola mundo\n",
            "wall-e\n",
            "EVA\n"
          ]
        }
      ],
      "source": [
        "class robot: #clases son variaebles que se le asigna un valor que es generar para todas las clases\n",
        "  material= \"Hierro\"\n",
        "  def __init__(self,modelo, nombre,funcion): #__INIT__ es metodo constructor o inicalizaro\n",
        "    self.model=modelo\n",
        "    self.name=nombre #name es la instancia\n",
        "    self.funcion=funcion\n",
        "\n",
        "  def saludar(self): #metodos#es basicamente cuando le pone una intrucion o una funcion dentro de una clase\n",
        "                          #simepre debe llevar un self dentro del parentesis\n",
        "    print(\"hola mundo\")\n",
        "  def correr(self,distance):\n",
        "    print(f\"Estoy corriendo {distance}km, wii\")\n",
        "  def __repr__(self): #repr teda un mensaje predertirmado cunado lo imprima ejecuta la clase-.\n",
        "  # si no lo hace te du mensaej sin informacion que se pueda entender\n",
        "    return f\"Robpt de la serie {self.model} crado para{self.funcion} \"\n",
        "\n",
        "walle= robot(\"JPK\",\"wall-e\",\"recolectar basura\")\n",
        "eva= robot(\"HTG\",\"EVA\", \"identificado formas de viad\")\n",
        "print(walle)\n",
        "# print(type(walle))\n",
        "# print(walle.material)\n",
        "# print(eva.material)\n",
        "walle.saludar()\n",
        "eva.saludar()\n",
        "# walle.correr(18)\n",
        "print(walle.name)\n",
        "print(eva.name)\n",
        "# print(dir(walle))#dir para saber las clases y objetos de que hay, como tambien lo que hemos echo propios,"
      ]
    },
    {
      "cell_type": "markdown",
      "source": [],
      "metadata": {
        "id": "GiWE_9I3-0pA"
      }
    },
    {
      "cell_type": "markdown",
      "source": [
        "import"
      ],
      "metadata": {
        "id": "93ztTKpV-1CX"
      }
    },
    {
      "cell_type": "code",
      "source": [
        "\n",
        "# Juego Cara o Sello\n",
        "import random\n",
        "\n",
        "class Player:\n",
        "  def __init__(self, name):\n",
        "    self.name = name\n",
        "    self.points = 0\n",
        "  def add_points(self):\n",
        "    self.points += 1\n",
        "\n",
        "def main():\n",
        "  print(\"Bienvenido al juego de Cara o Sello\")\n",
        "  player_1_name = input(\"Ingese el nombre del primer jugador: \")\n",
        "  player_2_name = input(\"Ingese el nombre del segundo jugador: \")\n",
        "  player_1 = Player(player_1_name)\n",
        "  player_2 = Player(player_2_name)\n",
        "\n",
        "  print(f\"{player_1.name} vs {player_2.name}\")\n",
        "  round = 1\n",
        "  while open(\"myfile1.txt\", \"w\") as fileinfo:\n",
        "    while True:\n",
        "      current_player = random.randint(1, 2)\n",
        "      print(\"1. Cara\\n2. Sello\")\n",
        "      if current_player == 1:\n",
        "        player_1_choice = int(input(f\"{player_1.name}, ¿cara o sello?: \"))\n",
        "        if player_1_choice == 1:\n",
        "          player_2_choice = 2\n",
        "        else:\n",
        "          player_2_choice = 1\n",
        "      else:\n",
        "        player_2_choice = int(input(f\"{player_2.name}, ¿cara o sello?: \"))\n",
        "        if player_2_choice == 1:\n",
        "          player_1_choice = 2\n",
        "        else:\n",
        "          player_1_choice = 1\n",
        "      coin = random.randint(1, 2)\n",
        "      if coin == 1:\n",
        "        print(\"¡Cara!\")\n",
        "      else:\n",
        "        print(\"¡Sello!\")\n",
        "\n",
        "      if player_1_choice == coin:\n",
        "        player_1.add_points()\n",
        "      if player_2_choice == coin:\n",
        "        player_2.add_points()\n",
        "\n",
        "      print(f\"Puntos:\\n{player_1.name} --> {player_1.points}\\n{player_2.name} --> {player_2.points}\")\n",
        "      flag = input(\"Desea seguir jugando? (s/n): \")\n",
        "\n",
        "      if flag == 'n':\n",
        "        break\n",
        "\n",
        "\n",
        "if __name__ == '__main__':\n",
        "  main()\n",
        "\n",
        "\n",
        "import csv\n",
        "ages = []\n",
        "path=\n",
        "f =\n"
      ],
      "metadata": {
        "colab": {
          "base_uri": "https://localhost:8080/"
        },
        "id": "_9KE2x_m_EA4",
        "outputId": "2133c61a-5c6f-4cfd-f6ce-1fdf8b3f2d21"
      },
      "execution_count": null,
      "outputs": [
        {
          "name": "stdout",
          "output_type": "stream",
          "text": [
            "Bienvenido al juego de Cara o Sello\n",
            "Ingese el nombre del primer jugador: eva\n",
            "Ingese el nombre del segundo jugador: saka\n",
            "eva vs saka\n",
            "1. Cara\n",
            "2. Sello\n",
            "eva, ¿cara o sello?: 2\n",
            "¡Cara!\n",
            "Puntos:\n",
            "eva --> 0\n",
            "saka --> 1\n",
            "Desea seguir jugando? (s/n): m\n",
            "1. Cara\n",
            "2. Sello\n",
            "saka, ¿cara o sello?: 2\n",
            "¡Cara!\n",
            "Puntos:\n",
            "eva --> 1\n",
            "saka --> 1\n",
            "Desea seguir jugando? (s/n): n\n"
          ]
        }
      ]
    },
    {
      "cell_type": "markdown",
      "source": [
        "#opp"
      ],
      "metadata": {
        "id": "nYmF2Cb9rLvR"
      }
    },
    {
      "cell_type": "markdown",
      "source": [
        "##herencia multiple:"
      ],
      "metadata": {
        "id": "xdxNi1rZs5QH"
      }
    },
    {
      "cell_type": "code",
      "source": [],
      "metadata": {
        "id": "dR29ef8BuBNW"
      },
      "execution_count": null,
      "outputs": []
    },
    {
      "cell_type": "markdown",
      "source": [],
      "metadata": {
        "id": "o3uHobS8uBsO"
      }
    },
    {
      "cell_type": "code",
      "source": [
        "\n",
        "                #super() se utiliza para cuando queremos heredar una clase padre o otra higa, el va invocar del primero que aperesca en el parentesis()\n",
        "                #sabemso que una clase es padre por que no hereda\n",
        "                #"
      ],
      "metadata": {
        "id": "zOLvgM3nrONH"
      },
      "execution_count": null,
      "outputs": []
    },
    {
      "cell_type": "markdown",
      "source": [
        "##polimorphismo:\n",
        "**deifnicinn:**Polimorfismo es la capacidad de aplicar una operación idéntica a\n",
        "diferentes tipos de objetos. Hemos visto la aplicación de este pilar en\n",
        "herencia cuando, para diferentes objetos, el mismo método tiene\n",
        "diferentes salidas.\n",
        "\n",
        "El nombre idéntico del método con diferentes comportamientos es una\n",
        "forma de polimorfismo."
      ],
      "metadata": {
        "id": "I9thG07suH99"
      }
    },
    {
      "cell_type": "code",
      "source": [
        "class Animal:\n",
        "  def _init_(self, name):\n",
        "    self.name name\n",
        "  def make_noise(self):\n",
        "    print(\"{} says, Grrrr\".format(self.name))\n",
        "class Cat(Animal):\n",
        "  def make_noise(self):\n",
        "    print(\"{} says, Meow!\".format(self.name))\n",
        "class Robot:\n",
        "  def make_noise(self):\n",
        "    print(\"beep.boop... BEEEEP!!!\")"
      ],
      "metadata": {
        "id": "exmEi8-juTeW"
      },
      "execution_count": null,
      "outputs": []
    },
    {
      "cell_type": "code",
      "source": [
        "an_animal = Animal(\"Bear\")\n",
        "my_pet Cat(\"Maisy\")\n",
        "my_vacuum Robot()\n",
        "objects = [an_animal, my_pet, my_vacuum]\n",
        "for o in objects:\n",
        "o.make_noise()\n",
        "# OUTPUT\n",
        "# \"Bear says, Grrrr\"\n",
        "# \"Maisy says, Meow!\"\n",
        "# \"beep.boop... BEEEEP!!!\""
      ],
      "metadata": {
        "id": "dYnP7g1cup4F"
      },
      "execution_count": null,
      "outputs": []
    },
    {
      "cell_type": "markdown",
      "source": [
        "h1 Dundeer methods\n",
        "\n",
        "Hemos visto que objetos como int, str o list ejecutan diferentes\n",
        "funciones con el operador +.\n",
        "\n",
        "Esto es conocido como operator\n",
        "overloading y es otra forma de polimorfismo."
      ],
      "metadata": {
        "id": "orWsfq6duqHu"
      }
    },
    {
      "cell_type": "code",
      "source": [],
      "metadata": {
        "id": "6rlxO0v9vHqk"
      },
      "execution_count": null,
      "outputs": []
    },
    {
      "cell_type": "markdown",
      "source": [
        "##Abstraction"
      ],
      "metadata": {
        "id": "uGxCzXbSwyPL"
      }
    },
    {
      "cell_type": "markdown",
      "source": [
        "Cuando un programa comienza a hacerse muy grande, las clases pueden\n",
        "comenzar a compartir funcionalidades o perder visión del propósito de\n",
        "la estructura de herencia de una clase. Para aliviar esta situación,\n",
        "podemos usar el concepto de abstracción.\n",
        "\n",
        "La abstracción ayuda en el diseño de código al definir comportamientos\n",
        "necesarios para que estos sean implementados dentro de una\n",
        "estructura de clase, permitiendo evitar que dejemos por fuera o\n",
        "sobrepongamos funcionalidades de clase a medida que la jerarquía se\n",
        "hace más grande.\n",
        "\n",
        "**caracteristicas:**\n",
        "\n",
        "*   La clase importada `ABC` viene de\n",
        "Abstract Base Clas\n",
        "*   Elemento de la lista\n",
        "\n"
      ],
      "metadata": {
        "id": "W28SCA6NxDIr"
      }
    },
    {
      "cell_type": "code",
      "source": [
        "from abc import ABC, abstractmethod\n",
        "  class Animal (ABC):\n",
        "     def init (self, name):\n",
        "      self.name = name\n",
        "@abstractmethod\n",
        "def make_noise(self): pass\n",
        "class Cat(Animal):\n",
        "def make_noise(self): print(\"{} says, Meow!\".format(self.name))\n",
        "class Dog(Animal):\n",
        "def make_noise(self):\n",
        "print(\"{} says, Woof!\".format(self.name))\n",
        "kitty Cat(\"Maisy\")\n",
        "doggy Dog(\"Amber\")\n",
        "kitty.make_noise() # \"Maisy says, Meow!\n",
        "doggy.make_noise() # \"Amber says, Woof!\""
      ],
      "metadata": {
        "id": "qxluDDNRxEIz"
      },
      "execution_count": null,
      "outputs": []
    },
    {
      "cell_type": "markdown",
      "source": [
        "##Encapsulation\n",
        "Python no tiene mecanismos construidos para prevenir el acceso. Sin\n",
        "embargo, hay una convención de utilizar la raya al piso sencilla\n",
        "precedida del nombre (self._x) para indicar que el miembro es\n",
        "protegido.\n",
        "\n",
        "Acceder a miembros protegidos fuera del módulo no causará un error.\n",
        "Se agrega por los desarrolladores para informar que deberían ser\n",
        "cuidadosos al acceder a este dato de esta manera."
      ],
      "metadata": {
        "id": "DOxmUsWRyV2p"
      }
    },
    {
      "cell_type": "code",
      "source": [],
      "metadata": {
        "id": "5QqPriWP0MAI"
      },
      "execution_count": null,
      "outputs": []
    },
    {
      "cell_type": "markdown",
      "source": [
        "##Getters, Setters and Deleters\n",
        "Una manera de implementar\n",
        "encapsulación es utilizando las\n",
        "funciones getter, setter y deleter dentro\n",
        "de las clases de manera adecuada."
      ],
      "metadata": {
        "id": "a4z43-yA0MRf"
      }
    },
    {
      "cell_type": "code",
      "source": [],
      "metadata": {
        "id": "I7ZOczgU0XkQ"
      },
      "execution_count": null,
      "outputs": []
    }
  ]
}