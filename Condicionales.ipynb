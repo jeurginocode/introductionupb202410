{
  "nbformat": 4,
  "nbformat_minor": 0,
  "metadata": {
    "colab": {
      "private_outputs": true,
      "provenance": [],
      "include_colab_link": true
    },
    "kernelspec": {
      "name": "python3",
      "display_name": "Python 3"
    },
    "language_info": {
      "name": "python"
    }
  },
  "cells": [
    {
      "cell_type": "markdown",
      "metadata": {
        "id": "view-in-github",
        "colab_type": "text"
      },
      "source": [
        "<a href=\"https://colab.research.google.com/github/jeurginocode/introductionupb202410/blob/main/Condicionales.ipynb\" target=\"_parent\"><img src=\"https://colab.research.google.com/assets/colab-badge.svg\" alt=\"Open In Colab\"/></a>"
      ]
    },
    {
      "cell_type": "markdown",
      "source": [
        "# Estructuras Selectivas (Condicionales)\n",
        "\n",
        "### Fundamentos de Programación\n",
        "### Ingeniería Electrónica UPB - Montería\n",
        "\n",
        "- Docente: Miguel Ortiz\n",
        "- Email: miguel.ortizp@upb.edu.co"
      ],
      "metadata": {
        "id": "NKwPpnlJNBmq"
      }
    },
    {
      "cell_type": "code",
      "execution_count": null,
      "metadata": {
        "id": "s4FifVpXtPAh"
      },
      "outputs": [],
      "source": [
        "# Program ecuacion_axb\n",
        "# // Programa para encontrar la solución de la ecuación ax+b=0\n",
        "# Start\n",
        "# \tDeclare Real a, b, x\n",
        "# \tInput a\n",
        "# \tInput b\n",
        "# \tIf a != 0 Then\n",
        "# \t\tSet x = -b / a\n",
        "# \t\tDisplay x\n",
        "# \tElse\n",
        "# \t\tIf b != 0 Then\n",
        "# \t\t\tDisplay 'Solución Imposible'\n",
        "# \t\tElse\n",
        "# \t\t\tDisplay 'Solución Indeterminada'\n",
        "# \t\tEnd If\n",
        "# \tEnd If\n",
        "# Stop\n",
        "\n",
        "# a = 0\n",
        "# b = 0\n",
        "\n",
        "a = float(input(\"Ingrese el valor de a: \"))\n",
        "b = float(input(\"Ingrese el valor de b: \"))\n",
        "\n",
        "if a != 0:\n",
        "  x = -b / a\n",
        "  print(x)\n",
        "else:\n",
        "  if b != 0:\n",
        "    print(\"Solución imposible.\")\n",
        "  else:\n",
        "    print(\"Solución indeterminada.\")"
      ]
    },
    {
      "cell_type": "code",
      "source": [
        "# Program calcular_salario\n",
        "# // Programa para calcular el salario a partir del número de horas semanal\n",
        "# Start\n",
        "# \tDeclare Real horas, horas_extra, tarifa, tarifa_extra, salario_bruto, impuesto, salario_neto\n",
        "# \tDeclare String nombre\n",
        "# \tConstant Real TASA_TARIFA_EXTRA = 0.5\n",
        "# \tConstant Real IMP_BASE = 0.2\n",
        "# \tConstant Real IMP_EXTRA = 0.3\n",
        "# \tInput horas\n",
        "# \tInput tarifa\n",
        "# \tInput nombre\n",
        "# \tIf horas <= 35 Then\n",
        "# \t\tSet salario_bruto = horas * tarifa\n",
        "# \tElse\n",
        "# \t\tSet horas_extra = horas - 35\n",
        "# \t\tSet tarifa_extra = tarifa * (1 + TASA_TARIFA_EXTRA)\n",
        "# \t\tSet salario_bruto = tarifa * 35 + horas_extra * tarifa_extra\n",
        "# \tEnd If\n",
        "# \tIf salario_bruto <= 2200 Then\n",
        "# \t\tSet impuesto = 0\n",
        "# \tElse\n",
        "# \t\tIf salario_bruto <= 2420 Then\n",
        "# \t\t\tSet impuesto = 220 * IMP_BASE\n",
        "# \t\tElse\n",
        "# \t\t\tSet impuesto = 220 * IMP_BASE + (salario_bruto - 2420) * IMP_EXTRA\n",
        "# \t\tEnd If\n",
        "# \tEnd If\n",
        "# \tSet salario_neto = salario_bruto + impuesto\n",
        "# \tDisplay 'El trabajador ', nombre, ' debe recibir $', salario_neto\n",
        "# Stop\n",
        "\n",
        "\n",
        "TASA_TARIFA_EXTRA = 0.5\n",
        "IMP_BASE = 0.2\n",
        "IMP_EXTRA = 0.3\n",
        "\n",
        "# horas = 35\n",
        "# tarifa = 75\n",
        "# nombre = \"Mikheltodd\"\n",
        "\n",
        "horas = float(input(\"Ingrese el número de horas: \"))\n",
        "tarifa = float(input(\"Ingrese el valor de la tarifa: \"))\n",
        "nombre = input(\"Ingrese el nombre del trabajador: \")\n",
        "\n",
        "if horas <= 35:\n",
        "  salario_bruto = horas * tarifa\n",
        "else:\n",
        "  horas_extra = horas - 35\n",
        "  tarifa_extra = tarifa * (1 + TASA_TARIFA_EXTRA)\n",
        "  salario_bruto = tarifa * 35 + horas_extra * tarifa_extra\n",
        "\n",
        "if salario_bruto <= 2200:\n",
        "  impuesto = 0\n",
        "else:\n",
        "  if salario_bruto <= 2420:\n",
        "    impuesto = 220 * IMP_BASE\n",
        "  else:\n",
        "    impuesto = 220 * IMP_BASE + (salario_bruto - 2420) * IMP_EXTRA\n",
        "\n",
        "salario_neto = salario_bruto + impuesto\n",
        "print(f\"El trabajador {nombre} debe recibir ${salario_neto}.\")"
      ],
      "metadata": {
        "id": "jxKk6AezNt-g"
      },
      "execution_count": null,
      "outputs": []
    },
    {
      "cell_type": "code",
      "source": [
        "# a = 3\n",
        "# b = 4\n",
        "# c = 5\n",
        "\n",
        "a = int(input(\"Ingrese el primer valor: \"))\n",
        "b = int(input(\"Ingrese el segundo valor: \"))\n",
        "c = int(input(\"Ingrese el tercer valor: \"))\n",
        "\n",
        "if a > b:\n",
        "  if a > c:\n",
        "    mayor = a\n",
        "  else:\n",
        "    mayor = c\n",
        "else:\n",
        "  if b > c:\n",
        "    mayor = b\n",
        "  else:\n",
        "    mayor = c\n",
        "print(f\"El número mayor es {mayor}.\")"
      ],
      "metadata": {
        "id": "kBzupa4NP0eD"
      },
      "execution_count": null,
      "outputs": []
    },
    {
      "cell_type": "code",
      "source": [
        "# a = 5\n",
        "# b = 5\n",
        "# c = 10\n",
        "\n",
        "a = int(input(\"Ingrese el primer valor: \"))\n",
        "b = int(input(\"Ingrese el segundo valor: \"))\n",
        "c = int(input(\"Ingrese el tercer valor: \"))\n",
        "\n",
        "if a > b:\n",
        "  if b > c:\n",
        "    print(a, b, c)\n",
        "  else:\n",
        "    if c > a:\n",
        "      print(c, a, b)\n",
        "    else:\n",
        "      print(a, c, b)\n",
        "else:\n",
        "  if a > c:\n",
        "    print(b, a, c)\n",
        "  else:\n",
        "    if c > b:\n",
        "      print(c, b, a)\n",
        "    else:\n",
        "      print(b, c, a)"
      ],
      "metadata": {
        "id": "HqEZp8OJQWS_"
      },
      "execution_count": null,
      "outputs": []
    },
    {
      "cell_type": "markdown",
      "source": [
        "Determinar el precio de un tiquete de ida y vuelta en avión, conociendo la distancia a recorrer y una tarifa por km. La tarifa  tiene un descuento del 30% si la estancia es mayor a 7 días y la distancia es superior a 800 km"
      ],
      "metadata": {
        "id": "2lY5cP9JfYh5"
      }
    },
    {
      "cell_type": "code",
      "source": [
        "# distancia = 900\n",
        "# tarifa = 1000\n",
        "# t = 8\n",
        "DISCOUNT = 0.3\n",
        "distancia = int(input(\"Ingrese la distancia en km: \"))\n",
        "tarifa = float(input(\"Ingrese la tarifa por km ($): \"))\n",
        "t = int(input(\"Ingrese el número de días de su estancia: \"))\n",
        "\n",
        "precio = 2 * distancia * tarifa\n",
        "if t > 7 and distancia > 800:\n",
        "  precio *= (1 - DISCOUNT)\n",
        "\n",
        "print(f\"El precio del tiquete ida y vuelta es ${precio:,}\")"
      ],
      "metadata": {
        "id": "HddkWkNFfect"
      },
      "execution_count": null,
      "outputs": []
    },
    {
      "cell_type": "code",
      "source": [],
      "metadata": {
        "id": "7k9UXUkWf3q7"
      },
      "execution_count": null,
      "outputs": []
    },
    {
      "cell_type": "code",
      "source": [],
      "metadata": {
        "id": "nS-RsYQIgE8E"
      },
      "execution_count": null,
      "outputs": []
    }
  ]
}